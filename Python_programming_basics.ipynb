{
  "nbformat": 4,
  "nbformat_minor": 0,
  "metadata": {
    "colab": {
      "provenance": [],
      "toc_visible": true,
      "authorship_tag": "ABX9TyNiWjZ7bxsLLoHMf4Lkxwis",
      "include_colab_link": true
    },
    "kernelspec": {
      "name": "python3",
      "display_name": "Python 3"
    },
    "language_info": {
      "name": "python"
    }
  },
  "cells": [
    {
      "cell_type": "markdown",
      "metadata": {
        "id": "view-in-github",
        "colab_type": "text"
      },
      "source": [
        "<a href=\"https://colab.research.google.com/github/Dan-nisimi/Machine-Learning-ADVANCE-SCRIPTS/blob/main/Python_programming_basics.ipynb\" target=\"_parent\"><img src=\"https://colab.research.google.com/assets/colab-badge.svg\" alt=\"Open In Colab\"/></a>"
      ]
    },
    {
      "cell_type": "markdown",
      "source": [],
      "metadata": {
        "id": "Psikf3Fy4w4s"
      }
    },
    {
      "cell_type": "markdown",
      "source": [
        "# BASIC SYNTAX"
      ],
      "metadata": {
        "id": "u87GJrSR1NAV"
      }
    },
    {
      "cell_type": "code",
      "source": [
        "#strings\n",
        "name = \"ALICE\"\n",
        "greeting = \"Hello, \" + name #concatenation\n",
        "\n",
        "#Lists and tuple\n",
        "names = [\"Alice\", \"Bob\", \"Charlie\"]\n",
        "numbers = [1, 2, 3, 4, 5]\n",
        "cordinates = (1, 2, 3) #tuple\n",
        "\n",
        "#Dictionary\n",
        "person = {\"name\": \"Alice\", \"age\": 30, \"city\": \"New York\"}\n",
        "\n",
        "#Boolean\n",
        "is_student = True\n"
      ],
      "metadata": {
        "id": "H8QvT8mb4oTX"
      },
      "execution_count": null,
      "outputs": []
    },
    {
      "cell_type": "code",
      "source": [
        "#Exercise\n",
        "\n",
        "# Define variables of different data types\n",
        "integer_var = 10\n",
        "float_var = 3.14\n",
        "string_var = \"AI\"\n",
        "list_var = [1, 2, 3]\n",
        "tuple_var = (4, 5, 6)\n",
        "dict_var = {\"name\": \"Alice\", \"role\": \"Engineer\"}\n",
        "bool_var = True\n",
        "\n",
        "# Print and manipulate variables\n",
        "print(\"Integer: \", integer_var)\n",
        "print(\"Float: \", float_var)\n",
        "print(\"String: \", string_var + \" Bootcamp\") #concatenation\n",
        "list_var.append([46, 50])\n",
        "print(\"List: \", list_var)\n",
        "print(\"Tupple: \", tuple_var)\n",
        "print(\"Dictionary Value:\", dict_var[\"role\"])\n",
        "print(\"Boolean: \", bool_var)"
      ],
      "metadata": {
        "colab": {
          "base_uri": "https://localhost:8080/"
        },
        "id": "7LJYSVVs0jRP",
        "outputId": "4e43b057-faa6-40ec-fc2b-4b1d52469797"
      },
      "execution_count": null,
      "outputs": [
        {
          "output_type": "stream",
          "name": "stdout",
          "text": [
            "Integer:  10\n",
            "Float:  3.14\n",
            "String:  AI Bootcamp\n",
            "List:  [1, 2, 3, [46, 50]]\n",
            "Tupple:  (4, 5, 6)\n",
            "Dictionary Value: Engineer\n",
            "Boolean:  True\n"
          ]
        }
      ]
    },
    {
      "cell_type": "code",
      "execution_count": null,
      "metadata": {
        "colab": {
          "base_uri": "https://localhost:8080/"
        },
        "id": "6U9yMFrim2zr",
        "outputId": "9682bcc2-48df-4b4d-a21d-c7d52fa6adf5"
      },
      "outputs": [
        {
          "output_type": "stream",
          "name": "stdout",
          "text": [
            "Hello world!\n",
            "Hello world!\n",
            "Hello world!\n",
            "Hello Angela\n",
            "Hello Angela\n"
          ]
        }
      ],
      "source": [
        "print(\"Hello world!\")\n",
        "#double print strings with \\n\n",
        "print(\"Hello world!\\nHello world!\")\n",
        "#add space to string\n",
        "print(\"Hello\" + \" Angela\")\n",
        "print(\"Hello\" + \" \" + \"Angela\")"
      ]
    },
    {
      "cell_type": "code",
      "source": [
        "#Fix the code below 👇\n",
        "\n",
        "print('Day 1 - String Manipulation')\n",
        "print(\"String Concatenation is done with the \"+\" sign.\")\n",
        "print('e.g. print(\"Hello \" + \"world\")')\n",
        "print(\"New lines can be created with a backslash and n.\")\n",
        "\n",
        "\n"
      ],
      "metadata": {
        "colab": {
          "base_uri": "https://localhost:8080/"
        },
        "id": "4qXtUkmonQtI",
        "outputId": "2d87a5d7-0ae0-4c62-d492-61542ba0cc07"
      },
      "execution_count": null,
      "outputs": [
        {
          "output_type": "stream",
          "name": "stdout",
          "text": [
            "Day 1 - String Manipulation\n",
            "String Concatenation is done with the  sign.\n",
            "e.g. print(\"Hello \" + \"world\")\n",
            "New lines can be created with a backslash and n.\n"
          ]
        }
      ]
    },
    {
      "cell_type": "markdown",
      "source": [
        "# CONTROL FLOW"
      ],
      "metadata": {
        "id": "AMusGKe08W4l"
      }
    },
    {
      "cell_type": "code",
      "source": [
        "\n",
        "\n",
        "#LOOPS\n",
        "\n",
        "#for loop = iterates iver a sequence.\n",
        "# Iterate means to repeat a process or a set of instructions multiple times.\n",
        "# This often involves going through elements in a collection,\n",
        "# like items in a list or characters in a string\n",
        "# if you want to print every number in a list, you would \"iterate\" through that\n",
        "# list until every number has been handled.\n",
        "\n",
        "#While loop = executes a block of code as long as a condition is true\n",
        "\n",
        "# Syntax while\n",
        "# while True:\n",
        "#     # Code block\n",
        "\n",
        "#Count down from 5\n",
        "count = 5\n",
        "while count > 0:\n",
        "  print(count)\n",
        "  count -= 1\n",
        "\n",
        "print(\"Outside While Loop\")\n",
        "\n",
        "\n",
        "#Using break and continue in for loop\n",
        "# break - terminates the loop prematurely when a condition is met\n",
        "# continue - skips the current and proceeds to the next iteration of the loop when a condition is met\n",
        "\n",
        "for i in range(10):\n",
        "    if i == 5:\n",
        "        break\n",
        "    print(i)\n",
        "print(\"Outside While Loop\")\n",
        "\n",
        "\n",
        "for i in range(10):\n",
        "    if i % 2 == 0:\n",
        "        continue\n",
        "    print(i)\n",
        "\n",
        "\n",
        "for i in range(10):\n",
        "    if i == 5:\n",
        "        continue\n",
        "    print(i)\n",
        "\n",
        "print(\"Outside For Loop\")\n",
        "\n",
        "\n",
        "\n",
        "\n",
        "#Loop through a list i.e takes each fruit in the list and assigns it to the variable fruit\n",
        "fruits = [\"apple\", \"banana\", \"cherry\"]\n",
        "for fruit in fruits:\n",
        "    print(fruit)\n",
        "\n",
        "#Loop with range\n",
        "for i in range(10): #[0,1,2,3,4]\n",
        "    print(i)\n",
        "\n",
        "#Syntax for for-loop\n",
        "\n",
        "#for item in sequence:\n",
        "    #Code block\n",
        "\n"
      ],
      "metadata": {
        "colab": {
          "base_uri": "https://localhost:8080/"
        },
        "id": "o8fUL6D48rmw",
        "outputId": "a216a9f2-8cbf-4746-a589-508b64fd7d72"
      },
      "execution_count": null,
      "outputs": [
        {
          "output_type": "stream",
          "name": "stdout",
          "text": [
            "5\n",
            "4\n",
            "3\n",
            "2\n",
            "1\n",
            "Outside While Loop\n",
            "0\n",
            "1\n",
            "2\n",
            "3\n",
            "4\n",
            "Outside While Loop\n",
            "1\n",
            "3\n",
            "5\n",
            "7\n",
            "9\n",
            "0\n",
            "1\n",
            "2\n",
            "3\n",
            "4\n",
            "6\n",
            "7\n",
            "8\n",
            "9\n",
            "Outside For Loop\n",
            "apple\n",
            "banana\n",
            "cherry\n",
            "0\n",
            "1\n",
            "2\n",
            "3\n",
            "4\n",
            "5\n",
            "6\n",
            "7\n",
            "8\n",
            "9\n"
          ]
        }
      ]
    },
    {
      "cell_type": "code",
      "source": [
        "# IF - execute code if a condition is true\n",
        "\n",
        "#ELIF - adds additional condition after the initial IF\n",
        "\n",
        "# ELSE - executes code if none of the previous conditions are true/met\n",
        "\n",
        "#Example 1: Checking a condition\n",
        "num = -50\n",
        "if num > 0:\n",
        "    print(\"Positive Number\")\n",
        "elif num == 0:\n",
        "    print(\"Zero\")\n",
        "else:\n",
        "    print(\"Negative Number\")\n",
        "\n",
        "\n",
        "#Example 2: Nested conditions\n",
        "age = 3\n",
        "if age > 18:\n",
        "    if age < 30:\n",
        "        print(\"Young Adult\")\n",
        "elif age < 18:\n",
        "      print(\"baby\")\n",
        "else:\n",
        "      print(\"Adult\")\n",
        "\n"
      ],
      "metadata": {
        "colab": {
          "base_uri": "https://localhost:8080/"
        },
        "id": "eyD9uAkV-sZr",
        "outputId": "3586d035-e9b3-4004-dbbc-edf8cb7903f9"
      },
      "execution_count": null,
      "outputs": [
        {
          "output_type": "stream",
          "name": "stdout",
          "text": [
            "Negative Number\n",
            "baby\n"
          ]
        }
      ]
    },
    {
      "cell_type": "code",
      "source": [
        "#Exercise\n",
        "\n",
        "#1 Check if a number is prime (number divisible by 1 and itself)\n",
        "num = int(input(\"Enter a number: \"))\n",
        "\n",
        "if num > 1:\n",
        "    for i in range(2, int(num**0.5) + 1): # range starts from 2 and ends at the square root of the number\n",
        "#Why check up to the square root?: If num can be divided evenly by a number larger than its square root, a corresponding smaller factor must also exist\n",
        "#e.g 36  = 2 & 18, 3 & 12, 4 & 9, 6 & 6. Since 6 is the square root of 36, we only need to check up to 6\n",
        "        if num % i == 0: #  if num is evenly divisible by i, which means i is a factor of num. e.g if num is 15 and i is 3, 15 modulus(%) 3 is 0\n",
        "            print(f\"{num} is not a prime number\")\n",
        "            break\n",
        "    else:\n",
        "        print(f\"{num} is a prime number\")\n",
        "else:\n",
        "    print(f\"{num} is not a prime number\")\n",
        "\n",
        "\n",
        "\n",
        "#Exercise 2\n",
        "#Create a menu driven calculator\n",
        "\n",
        "def add(a, b):\n",
        "    return a + b\n",
        "\n",
        "def subtract(a, b):\n",
        "    return a - b\n",
        "\n",
        "def multiply(a, b):\n",
        "    return a * b\n",
        "\n",
        "def divide(a, b):\n",
        "    if b != 0:\n",
        "        return a / b\n",
        "    else:\n",
        "        return \"Division by zero is not allowed\"\n",
        "\n",
        "while True:\n",
        "    print(\"\\nMenu:\")\n",
        "    print(\"1. Addition\")\n",
        "    print(\"2. Subtraction\")\n",
        "    print(\"3. Multiplication\")\n",
        "    print(\"4. Division\")\n",
        "    print(\"5. Exit\")\n",
        "\n",
        "    choice = input(\"Enter your choice: \")\n",
        "\n",
        "    if choice == \"5\":\n",
        "        print(\"Exiting Program.\")\n",
        "        break\n",
        "\n",
        "    num1 = float(input(\"Enter first number: \"))\n",
        "    num2 = float(input(\"Enter second number: \"))\n",
        "\n",
        "    if choice == \"1\":\n",
        "        print(\"Result: \", add(num1, num2))\n",
        "    elif choice == \"2\":\n",
        "        print(\"Result: \", subtract(num1, num2))\n",
        "    elif choice == \"3\":\n",
        "        print(\"Result: \", multiply(num1, num2))\n",
        "    elif choice == \"4\":\n",
        "        print(\"Result: \", divide(num1, num2))\n",
        "    else:\n",
        "        print(\"Invclid choice. Please try again.\")"
      ],
      "metadata": {
        "colab": {
          "base_uri": "https://localhost:8080/"
        },
        "id": "_hW7SJc-OD-f",
        "outputId": "35b26de1-1fcf-4817-fc35-b42fb9462df6"
      },
      "execution_count": null,
      "outputs": [
        {
          "output_type": "stream",
          "name": "stdout",
          "text": [
            "Enter a number: 20\n",
            "20 is not a prime number\n",
            "\n",
            "Menu:\n",
            "1. Addition\n",
            "2. Subtraction\n",
            "3. Multiplication\n",
            "4. Division\n",
            "5. Exit\n",
            "Enter your choice: 3\n",
            "Enter first number: 4\n",
            "Enter second number: 5\n",
            "Result:  20.0\n",
            "\n",
            "Menu:\n",
            "1. Addition\n",
            "2. Subtraction\n",
            "3. Multiplication\n",
            "4. Division\n",
            "5. Exit\n",
            "Enter your choice: 5\n",
            "Exiting Program.\n"
          ]
        }
      ]
    },
    {
      "cell_type": "code",
      "source": [
        "#calculate the factorial of a number\n",
        "\n",
        "def factorial(n):\n",
        "    if n == 0:\n",
        "        return 1\n",
        "    else:\n",
        "        return n * factorial(n-1)\n",
        "\n",
        "while True:\n",
        "  print('\\Menu')\n",
        "  print(\"Enter 1. to Exit\")\n",
        "  choice = input(\"Enter a number to get factorial: \")\n",
        "  if choice == \"1\":\n",
        "        print(\"Exiting Program.\")\n",
        "        break\n",
        "  else:\n",
        "    num = int(choice)\n",
        "    print(\"Factorial of\", num, \"is\", factorial(num))"
      ],
      "metadata": {
        "colab": {
          "base_uri": "https://localhost:8080/"
        },
        "id": "mWSFuObWZ8dU",
        "outputId": "acba390c-29f5-4d95-f544-d07142fa0caa"
      },
      "execution_count": null,
      "outputs": [
        {
          "output_type": "stream",
          "name": "stdout",
          "text": [
            "\\Menu\n",
            "Enter 1. to Exit\n",
            "Enter a number to get factorial: 1\n",
            "Exiting Program.\n"
          ]
        }
      ]
    },
    {
      "cell_type": "markdown",
      "source": [
        "# FUNCTIONS AND MODULES"
      ],
      "metadata": {
        "id": "nUv1esqriU4G"
      }
    },
    {
      "cell_type": "markdown",
      "source": [
        "Function is a re-usable block of code that performs a specific task. Creating a function helps reduce repitition of a block of code.\n",
        "\n",
        "Parameters are values passed to the function for processing."
      ],
      "metadata": {
        "id": "JKmI5x15jPBV"
      }
    },
    {
      "cell_type": "code",
      "source": [
        "#Modules are python files containing code (functions & variables) that can be reused\n",
        "#and imported for use in other python files. You can also import the functions\n",
        "# in a module directly into your program. e.g math (from math import sqrt).\n",
        "# Aliases can be used to import specific functions from a module. e.g math as m\n",
        "#Custom modules are created and imported using a .py extension. e.g math_module.py\n",
        "\n",
        "import math as m\n",
        "print(m.sqrt(16))\n",
        "\n",
        "\n",
        "\n",
        "# Global Scope\n",
        "#A variable declared outside of any function has a global scope.\n",
        "#This means it can be accessed and modified from anywhere in your code,\n",
        "#both inside and outside functions.\n",
        "\n",
        "global_var = 10  # This variable has global scope\n",
        "\n",
        "def my_function():\n",
        "  print(global_var)  # Accessing the global variable inside the function\n",
        "\n",
        "my_function()  # Output: 10\n",
        "print(global_var) # Output: 10\n",
        "\n",
        "\n",
        "greeting = \"Hi\"\n",
        "\n",
        "def say_hello():\n",
        "    print(greeting + \" from inside the function\")\n",
        "\n",
        "say_hello()\n",
        "print(greeting + \" from outside the function\")\n",
        "\n",
        "\n",
        "\n",
        "# Local Scope\n",
        "# A variable declared outside of any function has a global scope. This means\n",
        "# it can be accessed and modified from anywhere in your code,\n",
        "# both inside and outside functions.\n",
        "#They are like private conversations in a room.\n",
        "# Only the people in the room (inside the function) can hear them.\n",
        "\n",
        "#example 1\n",
        "def my_function():\n",
        "  local_var = 5  # This variable has local scope\n",
        "  print(local_var)  # Accessing the local variable\n",
        "\n",
        "my_function()  # Output: 5\n",
        "#print(local_var)  # This will raise an error because local_var is not accessible outside the function\n",
        "\n",
        "#example 2\n",
        "def greet():\n",
        "    message = \"Hello World\"\n",
        "    print(message)\n",
        "\n",
        "greet()\n",
        "#print(message)\n",
        "\n",
        "\n",
        "\n",
        "\n",
        "\n",
        "# FUnction with parameters and return value\n",
        "# def add_numbers():\n",
        "#     c = a + b\n",
        "#     return c\n",
        "\n",
        "# result = add_numbers()\n",
        "# print(\"Sum: \", c)\n",
        "\n",
        "#def function_name(parameters):\n",
        "    #Code block\n",
        "#return result"
      ],
      "metadata": {
        "colab": {
          "base_uri": "https://localhost:8080/"
        },
        "id": "enDCPMFgitsZ",
        "outputId": "85b476f3-ae0d-4e64-9536-59ad47d8c5c2"
      },
      "execution_count": null,
      "outputs": [
        {
          "output_type": "stream",
          "name": "stdout",
          "text": [
            "4.0\n",
            "10\n",
            "10\n",
            "Hi from inside the function\n",
            "Hi from outside the function\n",
            "5\n",
            "Hello World\n"
          ]
        }
      ]
    },
    {
      "cell_type": "code",
      "source": [
        "#exercise 1\n",
        "\n",
        "def factorial(n):\n",
        "    if n == 0 or n == 1:\n",
        "        return 1\n",
        "    else:\n",
        "        return n * factorial(n - 1)\n",
        "\n",
        "def print_factorial(n):\n",
        "    result = factorial(n)\n",
        "    print(f\"The factorial of {n} is {result}\")\n",
        "\n",
        "print_factorial(2)\n",
        "\n",
        "\n",
        "# The function says, \"Okay, to get that, I need to multiply 5 by the factorial of 4 (5 * factorial(4)).\"\n",
        "#To find the factorial of 4, it does the same thing: \"I need to multiply 4 by the factorial of 3 (4 * factorial(3)).\"\n",
        "#This continues until it reaches the factorial of 1, which is simply 1 (this is the base case where it stops).\n",
        "#In essence, the line return n * factorial(n - 1) is the instruction for\n",
        "# the function to keep multiplying the current number by the factorial of the next smaller number, until it reaches 1.\n",
        "\n",
        "#exercise 2\n",
        "#build a function module math_operations\n",
        "\n",
        "# import math_operations as mo\n",
        "\n",
        "# num1 = 10\n",
        "# num2 = 5\n",
        "\n",
        "# print(\"Addition: \", mo.add(num1, num2))\n",
        "# print(\"Subtraction: \", mo.subtract(num1, num2))\n",
        "# print(\"Multiplication: \", mo.multiply(num1, num2))\n",
        "# print(\"Division: \", mo.divide(num1, num2))"
      ],
      "metadata": {
        "colab": {
          "base_uri": "https://localhost:8080/"
        },
        "id": "S4hWTzefU9P-",
        "outputId": "e214a8dd-ac83-408f-a554-aa984941bbe5"
      },
      "execution_count": null,
      "outputs": [
        {
          "output_type": "stream",
          "name": "stdout",
          "text": [
            "The factorial of 2 is 2\n"
          ]
        }
      ]
    },
    {
      "cell_type": "markdown",
      "source": [
        "# DATA STRUCTURE"
      ],
      "metadata": {
        "id": "MZvzM4DPbl3O"
      }
    },
    {
      "cell_type": "code",
      "source": [
        "#Lists are mutable (can be changed) = [], Use Cases\tWhen you need to change data\n",
        "#Tuples are immutable (cannot be changed) = (), Use Cases\tWhen you need to store data that should not be changed\n",
        "#Sets are mutable (can be changed) = {}, Use Cases\tWhen you need to store unique elements\n",
        "#Dictionaries are mutable (can be changed) = {}, Use Cases\tWhen you need to store data that is associated with a key"
      ],
      "metadata": {
        "id": "Ryb6tkMYg460"
      },
      "execution_count": null,
      "outputs": []
    },
    {
      "cell_type": "code",
      "source": [
        "\n",
        "\n",
        "#Sets\n",
        "numbers = {1, 2, 3, 4, 5}\n",
        "empty_set = set()\n",
        "print(numbers)\n",
        "numbers.add(6)\n",
        "print(numbers)\n",
        "numbers.remove(3)\n",
        "print(numbers)\n",
        "print(empty_set)\n",
        "\n",
        "set1 = {1, 2, 3}\n",
        "set2 = {3, 4, 5}\n",
        "\n",
        "print(set1 - set2)\n",
        "print (set1 | set2) #union\n",
        "print (set1 & set2) #intersection\n",
        "print (set1 ^ set2) #symmetric difference\n",
        "\n",
        "\n",
        "\n",
        "\n",
        "#Dictionary\n",
        "student = {\"name\": \"Alice\", \"age\": 25, \"grade\": \"A\"}\n",
        "\n",
        "#This dictionary has three key-value pairs:\n",
        "\n",
        "# \"name\" (key) : \"Alice\" (value)\n",
        "# \"age\" (key) : 25 (value)\n",
        "# \"grade\" (key) : \"A\" (value)\n",
        "\n",
        "#Update item in Dictionary\n",
        "student[\"subject\"] = \"Math\"\n",
        "student[\"age\"] = 32\n",
        "\n",
        "print(student)\n",
        "\n",
        "del student[\"grade\"]\n",
        "\n",
        "print(student)\n",
        "\n",
        "student.pop(\"subject\")\n",
        "\n",
        "print(student)\n",
        "\n",
        "\n",
        "for key, value in student.items(): #gives you a view of all the key-value pairs in the student dictionary.\n",
        "    print(key, value) #This is the loop structure. It says, \"For each key-value pair in the list\n",
        "    #provided by student.items(), do something.\n",
        "\n",
        "#Tuples\n",
        "\n",
        "colors = (\"red\", \"green\", \"blue\")\n",
        "single_item = (\"glass\",) #single item tuple\n",
        "\n",
        "print(colors[0])\n",
        "print(colors[-1])\n",
        "\n",
        "#Lists\n",
        "numbers = [1, 2, 3, 4]\n",
        "\n",
        "fruits = [\"apple\", \"banana\", \"cherry\"]\n",
        "\n",
        "mixed = [1, \"apple\", True]\n",
        "\n",
        "#Lists elements can be accessed by index from 0 to n. Indexing can also be\n",
        "#negative to start from the end e.g -1 is the last element\n",
        "print(numbers[2])\n",
        "print(fruits[-1])\n",
        "print(mixed[1])\n",
        "\n",
        "fruits.append(\"orange\")\n",
        "fruits.insert(1, \"grape\")\n",
        "\n",
        "print(fruits)\n",
        "\n",
        "#To remove an element from a list\n",
        "\n",
        "fruits.remove(\"banana\")\n",
        "\n",
        "print(fruits)\n",
        "\n",
        "#To delete an element from a list\n",
        "\n",
        "del fruits[0]\n",
        "\n",
        "print(fruits)\n",
        "\n",
        "#To pop an element from a list\n",
        "# pop method removes the last element\n",
        "\n",
        "fruits.pop()\n",
        "fruits.pop()\n",
        "\n",
        "print(fruits)"
      ],
      "metadata": {
        "colab": {
          "base_uri": "https://localhost:8080/"
        },
        "id": "R--X4kcnhDad",
        "outputId": "f6f67471-0694-402e-ba78-c5e745265384"
      },
      "execution_count": null,
      "outputs": [
        {
          "output_type": "stream",
          "name": "stdout",
          "text": [
            "{1, 2, 3, 4, 5}\n",
            "{1, 2, 3, 4, 5, 6}\n",
            "{1, 2, 4, 5, 6}\n",
            "set()\n",
            "{1, 2}\n",
            "{1, 2, 3, 4, 5}\n",
            "{3}\n",
            "{1, 2, 4, 5}\n",
            "{'name': 'Alice', 'age': 32, 'grade': 'A', 'subject': 'Math'}\n",
            "{'name': 'Alice', 'age': 32, 'subject': 'Math'}\n",
            "{'name': 'Alice', 'age': 32}\n",
            "name Alice\n",
            "age 32\n",
            "red\n",
            "blue\n",
            "3\n",
            "cherry\n",
            "apple\n",
            "['apple', 'grape', 'banana', 'cherry', 'orange']\n",
            "['apple', 'grape', 'cherry', 'orange']\n",
            "['grape', 'cherry', 'orange']\n",
            "['grape']\n"
          ]
        }
      ]
    },
    {
      "cell_type": "code",
      "source": [
        "#Slicing\n",
        "#slicing is a way to access a range of elements in a list, tuple, or string\n",
        "basket = [\"apple\", \"banana\", \"orange\", \"grape\", \"kiwi\"]\n",
        "sliced_fruits = basket[1:3]\n",
        "print(sliced_fruits)\n"
      ],
      "metadata": {
        "colab": {
          "base_uri": "https://localhost:8080/"
        },
        "id": "eqkzsyYrk10C",
        "outputId": "60587bf4-aea6-45e1-cd89-fb65e6795398"
      },
      "execution_count": null,
      "outputs": [
        {
          "output_type": "stream",
          "name": "stdout",
          "text": [
            "['banana', 'orange']\n"
          ]
        }
      ]
    },
    {
      "cell_type": "code",
      "source": [
        "#Exercise\n",
        "\n",
        "#Manipulate data in a dictionary\n",
        "\n",
        "person = {\"name\": \"Alice\", \"age\": 25, \"grade\": \"A\"}\n",
        "\n",
        "print(person)\n",
        "\n",
        "# Add new key-value pair\n",
        "person[\"address\"] = \"123 Main St\"\n",
        "\n",
        "# Update Age\n",
        "person[\"age\"] = 32\n",
        "\n",
        "# Remove grade\n",
        "if \"grade\" in person:\n",
        "    del person[\"grade\"]\n",
        "\n",
        "print(person)\n",
        "\n",
        "\n",
        "#Exercise 2\n",
        "#Word Frequency counter\n",
        "\n",
        "sentence = input(\"Enter a Sentence: \")\n",
        "\n",
        "# Split the sentence into words\n",
        "words = sentence.split()\n",
        "\n",
        "# Initialize Dictionary\n",
        "word_count = {}\n",
        "\n",
        "# Count word frequence\n",
        "for word in words: #this loop goes through each word in the sentence,\n",
        "# it says, \" fr each word in the sentence, do the following.\"# It's like picking up each word one by one.\n",
        "    word = word.lower() #converts the word to lowercase\n",
        "    if word in word_count: #checks if the word is already in the dictionary\n",
        "        word_count[word] += 1 #if the word is already in the dictionary (we have seen it before),\n",
        "        #it adds 1 to the value or increases the count of the word by 1\n",
        "    else:\n",
        "        word_count[word] = 1 # if the word is not in the dictionary, it adds the word to the dictionary\n",
        "        # by assigning it a value of 1\n",
        "\n",
        "print(word_count)"
      ],
      "metadata": {
        "colab": {
          "base_uri": "https://localhost:8080/"
        },
        "id": "YdH3AJ2WrqhZ",
        "outputId": "33561328-3a67-4efb-fe0a-9ddb1d005151"
      },
      "execution_count": null,
      "outputs": [
        {
          "output_type": "stream",
          "name": "stdout",
          "text": [
            "{'name': 'Alice', 'age': 25, 'grade': 'A'}\n",
            "{'name': 'Alice', 'age': 32, 'address': '123 Main St'}\n",
            "Enter a Sentence: The AI engineer is a genius of the future\n",
            "{'the': 2, 'ai': 1, 'engineer': 1, 'is': 1, 'a': 1, 'genius': 1, 'of': 1, 'future': 1}\n"
          ]
        }
      ]
    },
    {
      "cell_type": "code",
      "source": [
        "# Assignment - Write a program to reverse a list and remove duplicates using a set\n",
        "# create a program that stores students grades in a dictionary and calculates the average grade"
      ],
      "metadata": {
        "id": "lPybw4klu8dr"
      },
      "execution_count": null,
      "outputs": []
    },
    {
      "cell_type": "code",
      "source": [],
      "metadata": {
        "id": "HbAdq5nI1uoz"
      },
      "execution_count": null,
      "outputs": []
    },
    {
      "cell_type": "markdown",
      "source": [
        "# STRING MANIPULATION"
      ],
      "metadata": {
        "id": "0Xr2ezuQ1vuw"
      }
    },
    {
      "cell_type": "code",
      "source": [
        "\n",
        "# Split splits a string into a list of substrings\n",
        "#Join joins a list of strings into a single string\n",
        "# replace() which replaces one substring with another\n",
        "#Strip() which removes whitespace from the beginning and end of a string\n",
        "\n",
        "# split()\n",
        "\n",
        "sentence = \"Python is fun\"\n",
        "words = sentence.split()\n",
        "words = sentence.split(\",\") #specifying the delimiter\n",
        "print(words)\n",
        "\n",
        "# join()\n",
        "new_sentence = \"|\".join(words)\n",
        "print(new_sentence)\n",
        "\n",
        "#replace\n",
        "text = \"I love Java\"\n",
        "updated_text = text.replace(\"Java\", \"Python\")\n",
        "#print(updated_text)\n",
        "\n",
        "#strip\n",
        "messy = \"     Hello, World     \"\n",
        "print(messy)\n",
        "cleaned_text = messy.strip()\n",
        "print(cleaned_text)\n",
        "\n",
        "#Formatting\n",
        "text = \"python programming\"\n",
        "print(text[-11]) # print the last 11 characters\n",
        "print(text[::2]) # print every second character\n",
        "print(text[::-1]) # print the string in reverse\n",
        "\n"
      ],
      "metadata": {
        "colab": {
          "base_uri": "https://localhost:8080/"
        },
        "id": "riLDntVg3DGP",
        "outputId": "72f8f305-1469-4c90-9214-86f75f193a90"
      },
      "execution_count": null,
      "outputs": [
        {
          "output_type": "stream",
          "name": "stdout",
          "text": [
            "['Python is fun']\n",
            "Python is fun\n",
            "     Hello, World     \n",
            "Hello, World\n",
            "p\n",
            "pto rgamn\n",
            "gnimmargorp nohtyp\n"
          ]
        }
      ]
    },
    {
      "cell_type": "code",
      "source": [
        "# Regular expressions for pattern matching\n",
        "# Regular expressions are patterns used to match, manipulate or search for specific text patterns in strings.\n",
        "# examples of these functions are re.search (pattern, string), re.findall(pattern, string), re.sub(pattern, replacement, string)\n",
        "\n",
        "#Imagine you have a sentence: \"Contact me at 123-456-7890\" And you want to find all the numbers in that sentence.\n",
        "\n",
        "#re.findall(): This function searches the input string (text) for all occurrences of a given pattern and returns them as a list.\n",
        "#This is like a detective who searches for specific clues.\n",
        "\n",
        "#r\"\\d+\": This is the regular expression pattern or the clue the detective is looking for.\n",
        "# \\d: Means \"find any number from 0 to 9\"\n",
        "# +: Means \"find one or more of those numbers in a row\"\n",
        "# The r is just a technical detail, you can ignore it for now\n",
        "# text: This is the sentence the detective is searching through.\n",
        "\n",
        "# So, the code is basically saying:\n",
        "# \"Hey detective (re.findall), use this clue (r\"\\d+\") to find all the numbers in\n",
        "#  this sentence (text) and put them in this container (digits).\"\n",
        "\n",
        "#The result:The detective finds the numbers \"123\", \"456\", and \"7890\" and puts them in the digits container.\n",
        "\n",
        "import re # Regular expression module\n",
        "\n",
        "text = \"Contact me at 123-456-7890\"\n",
        "digits = re.findall(r\"\\d+\", text)\n",
        "print(digits)\n",
        "\n",
        "#Replace all the digits with x\n",
        "\n",
        "updated_text = re.sub(r\"\\d\", \"X\", text) #sub is a function that replaces the digits with x\n",
        "print(updated_text)"
      ],
      "metadata": {
        "colab": {
          "base_uri": "https://localhost:8080/"
        },
        "id": "AYtmBck2-edE",
        "outputId": "bf6aaac4-9cec-4320-b87c-95110f1f184f"
      },
      "execution_count": null,
      "outputs": [
        {
          "output_type": "stream",
          "name": "stdout",
          "text": [
            "['123', '456', '7890']\n",
            "Contact me at XXX-XXX-XXXX\n"
          ]
        }
      ]
    },
    {
      "cell_type": "code",
      "source": [
        "#Exercise\n",
        "\n",
        "import re\n",
        "\n",
        "#Create a Text cleaner : removes unwanted characters e.g punctuations, extra spaces\n",
        "\n",
        "#Remove punctuation\n",
        "# Imagine you have a messy sentence:\n",
        "# \" Hello, World.!!! Welcome to Python, Programming.... \"\n",
        "# You want to clean it up by removing unwanted characters like punctuation and extra spaces.\n",
        "# [^\\w\\s]: This is the core of the instruction. It basically means:\n",
        "# ^: \"anything that is NOT...\"\n",
        "# \\w: \"...a letter, number, or underscore\"\n",
        "# \\s: \"...a space\"\n",
        "# []: This groups all the things together\n",
        "# So combined, [^\\w\\s] means \"find anything that is NOT a letter, number, underscore, or space\".\n",
        "# This includes punctuation marks, exclamation points, periods, etc.\n",
        "#\"\": This is what we want to replace the unwanted characters with. In this case, we are replacing them with nothing, effectively removing them.\n",
        "#text: This is the original messy sentence that we are cleaning.\n",
        "\n",
        "\n",
        "def clean_text(text):\n",
        "    # Remove punctuation\n",
        "    text = re.sub(r\"[^\\w\\s]\", \"\", text) #\n",
        "    # Remove extra spaces\n",
        "    text = \" \".join(text.split())\n",
        "    # Convert to lowercase\n",
        "    return text.lower()\n",
        "\n",
        "input_text = \"   Hello, World.!!! Welcome to Python, Programming....    \"\n",
        "cleaned_text = clean_text(input_text)\n",
        "print(\"Cleaned Text: \", cleaned_text)\n",
        "\n",
        "\n",
        "#Exercise\n",
        "\n",
        "#Check if a string is a palindrome (a word that reads the same forward and backward e.g \"racecar\" or \"madam\")\n",
        "\n",
        "# text = \"\".join(char.lower() for char in text if char.isalnum()): This is the preprocessing step,\n",
        "# kind of like cleaning up the word or phrase before checking it:\n",
        "# for char in text: This part means we are going through each letter (or character) of the word or phrase one by one.\n",
        "# if char.isalnum(): This part checks if the current letter is alphanumeric.\n",
        "# This means it's either a letter (a-z, A-Z) or a number (0-9). This helps us ignore spaces, punctuation, and other symbols.\n",
        "# char.lower(): If the letter is alphanumeric, this part converts it to lowercase.\n",
        "#  This is to make sure we don't get confused by uppercase and lowercase letters.\n",
        "# \"\".join(...): This part takes all the alphanumeric, lowercase letters and puts them\n",
        "#  back together to form a new, cleaned-up word or phrase. The empty string \"\" in front\n",
        "#  indicates that we want to join the letters without any spaces in between.\n",
        "# return text == text[::-1]: This is where the palindrome check happens:\n",
        "# text[::-1]: This creates a reversed version of the cleaned-up word or phrase.\n",
        "# It's like flipping the word around to see if it still looks the same.\n",
        "# text == text[::-1]: This compares the cleaned-up word or phrase to its reversed version.\n",
        "# If they are exactly the same (meaning the word reads the same backward and forward),\n",
        "# it returns True (yes, it's a palindrome). Otherwise, it returns False (no, it's not a palindrome).\n",
        "\n",
        "def is_palindrome(text):\n",
        "    text = \"\".join(char.lower() for char in text if char.isalnum())\n",
        "    return text == text[::-1]\n",
        "\n",
        "input_text = input(\"Enter a string: \")\n",
        "if is_palindrome(input_text):\n",
        "    print(f'\"{input_text}\" is a palindrome.')\n",
        "else:\n",
        "    print(f'\"{input_text}\" is not a palindrome.')"
      ],
      "metadata": {
        "colab": {
          "base_uri": "https://localhost:8080/"
        },
        "id": "SdXr6ZlLDFx5",
        "outputId": "0337b380-0f4f-4445-a2f3-2d9713c91a45"
      },
      "execution_count": null,
      "outputs": [
        {
          "output_type": "stream",
          "name": "stdout",
          "text": [
            "Cleaned Text:  hello world welcome to python programming\n",
            "Enter a string: racecar\n",
            "\"racecar\" is a palindrome.\n"
          ]
        }
      ]
    },
    {
      "cell_type": "markdown",
      "source": [
        "Additional: Program to count the number of vowels in a string,\n",
        "\n",
        "A program to find and replace all email addresses in a text using regex\n",
        "\n",
        "A program to reverse the words in a sentence"
      ],
      "metadata": {
        "id": "-x0P3tuhQ3A6"
      }
    },
    {
      "cell_type": "markdown",
      "source": [
        "# FILE HANDLING"
      ],
      "metadata": {
        "id": "3ehSfKaORT6i"
      }
    },
    {
      "cell_type": "code",
      "source": [
        "# Opening files: The default mode is read. You can also write, append or create. r|w|a|r+ means read, write, append or read and write\n",
        "\n",
        "#Reading files: .read(), .readline(), .readlines()\n",
        "\n",
        "#Writing to files: .write(), .writelines()"
      ],
      "metadata": {
        "id": "BvA5ecJQRrpV"
      },
      "execution_count": null,
      "outputs": []
    },
    {
      "cell_type": "code",
      "source": [
        "#With statment : it is used to open and close a file automatically. Simplifies code and reduces the\n",
        "#risk of file corruption\n",
        "\n",
        "#Exception handling: It prevents the program from crashing due to file-related errors\n",
        "#(e.g file not found)\n",
        "\n",
        "#Try block: It allows you to test a block of code for errors\n",
        "#Except block: It specifies what should happen if an error occurs\n",
        "\n",
        "\n",
        "try:\n",
        "    with open(\"sample.txt\", \"r\") as file:\n",
        "        content = file.read()\n",
        "except FileNotFoundError:\n",
        "    print(\"File Not Found!\")\n",
        "\n",
        "\n",
        "#To write\n",
        "\n",
        "    file.write(\"Hello, World!\")\n",
        "    file.writelines([\"Line 1\", \"Line 2\", \"Line 3\"])\n"
      ],
      "metadata": {
        "colab": {
          "base_uri": "https://localhost:8080/"
        },
        "id": "5JSBZqLqSrq2",
        "outputId": "76ab18a2-9387-40ea-e509-0b9ba7b5b1ae"
      },
      "execution_count": null,
      "outputs": [
        {
          "output_type": "stream",
          "name": "stdout",
          "text": [
            "File Not Found!\n"
          ]
        }
      ]
    },
    {
      "cell_type": "code",
      "source": [
        "#exercise\n",
        "\n",
        "#Count the words and lines in a file. That is it will read text file and count the number of words and lines in a file\n",
        "def count_words_and_lines(filename):\n",
        "    try:\n",
        "        with open(filename, \"r\") as file:\n",
        "            lines = file.readlines()\n",
        "            line_count = len(lines)\n",
        "            word_count = sum(len(line.split()) for line in lines) # len(line.split()) returns the number of words in a line\n",
        "\n",
        "            print(f\"Number of lines: {line_count}\")\n",
        "            print(f\"Number of words: {word_count}\")\n",
        "    except FileNotFoundError:\n",
        "        print(f\"File {filename} not found!\")\n",
        "\n",
        "count_words_and_lines(\"sample.txt\")\n",
        "\n",
        "\n",
        "#Exercise\n",
        "#Write and read a list of items to and from a text file\n",
        "\n",
        "def write_iteam_to_file(filename, items):\n",
        "    with open(filename, \"w\") as file: # w means write\n",
        "        for item in items: # write each item in the list\n",
        "            file.write(item + \"\\n\") # write each item on a new line\n",
        "\n",
        "def read_items_from_file(filename):\n",
        "    try:\n",
        "        with open(filename, \"r\") as file:\n",
        "            items = file.readlines() # readlines() returns a list of lines in the file\n",
        "            print(\"Items in the file:\") # print the list\n",
        "            for item in items:\n",
        "                print(item.strip()) # strip() removes any leading or trailing whitespace\n",
        "    except FileNotFoundError:\n",
        "        print(f\"File {filename} not found!\")\n",
        "\n",
        "fruits = [\"Apple\", \"Banana\", \"Cherry\", \"Dates\"]\n",
        "write_iteam_to_file(\"fruits.txt\", fruits) # write the list to a file\n",
        "read_items_from_file(\"fruits.txt\")"
      ],
      "metadata": {
        "colab": {
          "base_uri": "https://localhost:8080/"
        },
        "id": "bRaII9MMX_vd",
        "outputId": "79f67044-8f67-4212-92f4-07048920c629"
      },
      "execution_count": null,
      "outputs": [
        {
          "output_type": "stream",
          "name": "stdout",
          "text": [
            "File sample.txt not found!\n",
            "Items in the file:\n",
            "Apple\n",
            "Banana\n",
            "Cherry\n",
            "Dates\n"
          ]
        }
      ]
    },
    {
      "cell_type": "markdown",
      "source": [
        "Practice : Write a program to copy the contents of one file to another. Create a file add a data there and copy it to another file\n",
        "\n",
        "Create a program that counts the number of occurences of a specific word in a text file\n",
        "\n",
        "Write a program to log messages with timestamps into a file"
      ],
      "metadata": {
        "id": "NQk8tMUwikU6"
      }
    },
    {
      "cell_type": "markdown",
      "source": [
        "#PYTHONIC CODE AND PROJECT WORK"
      ],
      "metadata": {
        "id": "0zr3x083IlhV"
      }
    },
    {
      "cell_type": "code",
      "source": [
        "#List Comprehension: it is a way to create a new list by applying a function to each element of an existing list"
      ],
      "metadata": {
        "id": "HsXjH7GTMwA-"
      },
      "execution_count": null,
      "outputs": []
    },
    {
      "cell_type": "code",
      "source": [
        "#Create a list of squares of numbers from 1 to 10\n",
        "\n",
        "squares = [x**2 for x in range(10)] # x**2 means x squared,range(10)\n",
        "# creates a list of numbers from 0 to 9\n",
        "print(squares)\n",
        "\n",
        "#Filter Even Numbers\n",
        "evens = [x for x in range(100) if x % 2 == 0] # x % 2 == 0 means x is even\n",
        "print(evens)"
      ],
      "metadata": {
        "colab": {
          "base_uri": "https://localhost:8080/"
        },
        "id": "poSw2PQkRVBY",
        "outputId": "eeb67af9-98a3-4bf9-ff2d-d953c2d95c27"
      },
      "execution_count": null,
      "outputs": [
        {
          "output_type": "stream",
          "name": "stdout",
          "text": [
            "[0, 1, 4, 9, 16, 25, 36, 49, 64, 81]\n",
            "[0, 2, 4, 6, 8, 10, 12, 14, 16, 18, 20, 22, 24, 26, 28, 30, 32, 34, 36, 38, 40, 42, 44, 46, 48, 50, 52, 54, 56, 58, 60, 62, 64, 66, 68, 70, 72, 74, 76, 78, 80, 82, 84, 86, 88, 90, 92, 94, 96, 98]\n"
          ]
        }
      ]
    },
    {
      "cell_type": "code",
      "source": [
        "#Lambda Function: it is a small anonymous function that can be assigned to a variable or passed as an argument to another function\n",
        "\n",
        "# argument is a value you provide to a function when you call it.\n",
        "#These values are used by the function to perform its task. E.g;\n",
        "\n",
        "#def add_numbers(a, b):  # 'a' and 'b' are parameters\n",
        "#     sum = a + b\n",
        "#     return sum\n",
        "# result = add_numbers(5, 3)  # 5 and 3 are arguments\n",
        "# print(result)  # Output: 8\n",
        "\n",
        "#map function: it applies a function to each element of an iterable and returns a new iterable\n",
        "#filter function: it applies a function to each element of an iterable and returns a new iterable based\n",
        "#on a condition\n",
        "#reduce function: it applies a function to each element of an iterable and returns a single value\n",
        "\n",
        "#lambda arguments: expression\n",
        "\n",
        "add = lambda x, y: x + y\n",
        "result = add(5, 3)\n",
        "print(result)\n",
        "\n",
        "#map\n",
        "numbers = [1, 2, 3, 4, 5]\n",
        "squared = list(map(lambda x: x**2, numbers))# lambda x: x**2 means x squared and numbers is the list\n",
        "print(squared)\n",
        "\n",
        "#filter\n",
        "numbers = [1, 2, 3, 4, 5]\n",
        "evens = filter(lambda x: x % 2 == 0, numbers) # x % 2 == 0 means x is even\n",
        "print(list(evens)) #list() converts the filtered values to a list\n",
        "\n",
        "#reduce\n",
        "from functools import reduce\n",
        "numbers = [1, 2, 3, 4, 5]\n",
        "sum = reduce(lambda x, y: x + y, numbers) # x + y means x plus y\n",
        "print(sum)"
      ],
      "metadata": {
        "colab": {
          "base_uri": "https://localhost:8080/"
        },
        "id": "DwagcmnVS7Hc",
        "outputId": "a6955f70-542e-4115-c0ea-b06c9d3e5f01"
      },
      "execution_count": null,
      "outputs": [
        {
          "output_type": "stream",
          "name": "stdout",
          "text": [
            "8\n",
            "[1, 4, 9, 16, 25]\n",
            "[2, 4]\n",
            "15\n"
          ]
        }
      ]
    },
    {
      "cell_type": "code",
      "source": [
        "import sys\n",
        "import os\n",
        "\n",
        "#OS Module : it provides functions for interacting with the operating system\n",
        "\n",
        "#sys Module : it provides access to some variables used or maintained by the interpreter\n",
        "#and to system-level functions and parameters that interact\n",
        "#with the interpreter\n",
        "\n",
        "print(os.getcwd()) # os.getcwd returns a unicode string with current working directory\n",
        "os.mkdir(\"test_dir2\") #create a new dir\n",
        "#os.remove(\"\") # delete files\n",
        "\n",
        "print(sys.argv) # sys.argv returns a list of command-line arguments\n",
        "print(sys.version)# sys.version returns a string with the version of the Python interpreter"
      ],
      "metadata": {
        "colab": {
          "base_uri": "https://localhost:8080/"
        },
        "id": "zNHwL8nBNBzv",
        "outputId": "07c7343e-9e7d-464b-bfdf-b1fe6b317dfe"
      },
      "execution_count": null,
      "outputs": [
        {
          "output_type": "stream",
          "name": "stdout",
          "text": [
            "/content\n",
            "['/usr/local/lib/python3.11/dist-packages/colab_kernel_launcher.py', '-f', '/root/.local/share/jupyter/runtime/kernel-d439b533-0c43-43f4-a419-736f5ed31fab.json']\n",
            "3.11.11 (main, Dec  4 2024, 08:55:07) [GCC 11.4.0]\n"
          ]
        }
      ]
    },
    {
      "cell_type": "code",
      "source": [
        "#PROJECT\n",
        "\n",
        "#Command-line task Manager: We will build this to manage tasks using pythonic practices\n",
        "\n",
        "import os\n",
        "\n",
        "# File to store tasks\n",
        "FILE_NAME = \"tasks.txt\"\n",
        "\n",
        "# Load tasks from file\n",
        "def load_tasks(): #This function is responsible for reading tasks\n",
        "#from the tasks.txt file when the program starts.\n",
        "    tasks = {} # empty dictionary to store tasks.\n",
        "#Each task will be stored as a dictionary within this main tasks dictionary, with the task ID as the key.\n",
        "    if os.path.exists(FILE_NAME): # os.path.exists returns True if the file exists\n",
        "        # If the file exists, read the code inside the if statement\n",
        "        with open(FILE_NAME, \"r\") as file: # r means read, with is used to open and close the file\n",
        "            for line in file: # read each line in the file\n",
        "                task_id, title, status = line.strip(). split(\" | \")\n",
        "                # line.strip() removes any leading or trailing whitespace\n",
        "                # line.split(\" | \") splits the line into three parts\n",
        "                tasks[int(task_id)] = {\"title\": title, \"status\": status}\n",
        "    return tasks\n",
        "\n",
        "# Save tasks to file\n",
        "def save_tasks(tasks):\n",
        "    with open(FILE_NAME, \"w\") as file: # Opens the tasks.txt file in write mode (\"w\").\n",
        "    # If the file doesn't exist, it's created.\n",
        "        for task_id, task in tasks.items(): # items() returns a list of key-value pairs\n",
        "         #(task ID and task details) in the tasks dictionary.\n",
        "            file.write(f\"{task_id} | {task['title']} | {task['status']}\\n\")\n",
        "#This line writes the task information to the file in the format\n",
        "#\"task_id | title | status\", with each task on a new line (\\n).\n",
        "\n",
        "# Add a new task\n",
        "def add_task(tasks):\n",
        "    title = input(\"Enter task title: \")\n",
        "    task_id = max(tasks.keys(), default=0) + 1 #Generates a new unique task ID by\n",
        "    #finding the maximum existing task ID (or 0 if there are no tasks) and adding 1 to it.\n",
        "    tasks[task_id] = {\"title\": title, \"status\": \"incomplete\"} #Adds the new task to the tasks dictionary\n",
        "    print(f\"Task '{title}' added.\") #Prints a confirmation message to the user.\n",
        "\n",
        "# View all tasks\n",
        "def view_tasks(tasks):\n",
        "    if not tasks:\n",
        "        print(\"No tasks available.\")\n",
        "    else:\n",
        "        for task_id, task in tasks.items(): # iterates through each task in the tasks dictionary\n",
        "            print(f\"[{task_id}] {task['title']} - {task['status']}\") #Prints the task ID, title, and status\n",
        "            #for each task\n",
        "\n",
        "# Mark task as complete\n",
        "def mark_task_complete(tasks):\n",
        "    task_id = int(input(\"Enter task ID to mark as complete: \"))\n",
        "    if task_id in tasks: #Checks if the task ID exists in the tasks dictionary\n",
        "        tasks[task_id][\"status\"] = \"complete\" #Updates the task status to \"complete\"\n",
        "        print(f\"Task '{tasks[task_id]['title']}' marked as complete.\")\n",
        "    else:\n",
        "        print(\"Task ID not found.\")\n",
        "\n",
        "\n",
        "# Delete a task\n",
        "def delete_task(tasks):\n",
        "    task_id = int(input(\"Enter task ID to Delete: \"))\n",
        "    if task_id in tasks:\n",
        "        deleted_task = tasks.pop(task_id) # Removes the task from the tasks dictionary\n",
        "        print(f\"Task '{deleted_task['title']}' deleted.\")\n",
        "    else:\n",
        "        print(\"Task ID not found.\")\n",
        "\n",
        "# Main Menu & Program Execution\n",
        "def main(): # This function is the main logic of the program\n",
        "    tasks = load_tasks() # load tasks from the file when the program starts\n",
        "    while True: # infinite loop until the user exits\n",
        "        print(\"\\nTask Manager Menu:\") # print the menu\n",
        "        print(\"1. Add Task\") # print the menu\n",
        "        print(\"2. View Tasks\")\n",
        "        print(\"3. Mark Task as Complete\")\n",
        "        print(\"4. Delete Task\")\n",
        "        print(\"5. Exit\")\n",
        "        choice = input(\"Enter your choice: \")\n",
        "\n",
        "        if choice == \"1\": # if the user chooses to add a task\n",
        "            add_task(tasks)\n",
        "        elif choice == \"2\":\n",
        "            view_tasks(tasks)\n",
        "        elif choice == \"3\":\n",
        "            mark_task_complete(tasks)\n",
        "        elif choice == \"4\":\n",
        "            delete_task(tasks)\n",
        "        elif choice == \"5\":\n",
        "            save_tasks(tasks)\n",
        "            print(\"Goodbye\")\n",
        "            break\n",
        "        else:\n",
        "            print(\"Invalid Choice. Please try again\")\n",
        "\n",
        "if __name__ == \"__main__\":\n",
        "    main()\n",
        "\n",
        "#This is a standard Python construct that ensures the main() function is called\n",
        "# only when the script is run directly (not imported as a module).\n",
        "# This starts the task manager application.\n",
        "\n",
        "#Practice\n",
        "#Add deadline or priorities, export to json or csv, support command line arguments\n",
        "#for quicker tasks management"
      ],
      "metadata": {
        "colab": {
          "base_uri": "https://localhost:8080/"
        },
        "id": "p5n3d2QEme6J",
        "outputId": "ff990515-4698-4f40-8b94-4f1b651f054e"
      },
      "execution_count": null,
      "outputs": [
        {
          "output_type": "stream",
          "name": "stdout",
          "text": [
            "\n",
            "Task Manager Menu:\n",
            "1. Add Task\n",
            "2. View Tasks\n",
            "3. Mark Task as Complete\n",
            "4. Delete Task\n",
            "5. Exit\n",
            "Enter your choice: 1\n",
            "Enter task title: Buy fish\n",
            "Task 'Buy fish' added.\n",
            "\n",
            "Task Manager Menu:\n",
            "1. Add Task\n",
            "2. View Tasks\n",
            "3. Mark Task as Complete\n",
            "4. Delete Task\n",
            "5. Exit\n",
            "Enter your choice: Send email\n",
            "Invalid Choice. Please try again\n",
            "\n",
            "Task Manager Menu:\n",
            "1. Add Task\n",
            "2. View Tasks\n",
            "3. Mark Task as Complete\n",
            "4. Delete Task\n",
            "5. Exit\n",
            "Enter your choice: 1\n",
            "Enter task title: Send email\n",
            "Task 'Send email' added.\n",
            "\n",
            "Task Manager Menu:\n",
            "1. Add Task\n",
            "2. View Tasks\n",
            "3. Mark Task as Complete\n",
            "4. Delete Task\n",
            "5. Exit\n",
            "Enter your choice: 1\n",
            "Enter task title: Finish python course\n",
            "Task 'Finish python course' added.\n",
            "\n",
            "Task Manager Menu:\n",
            "1. Add Task\n",
            "2. View Tasks\n",
            "3. Mark Task as Complete\n",
            "4. Delete Task\n",
            "5. Exit\n",
            "Enter your choice: 2\n",
            "[1] Buy fish - incomplete\n",
            "[2] Send email - incomplete\n",
            "[3] Finish python course - incomplete\n",
            "\n",
            "Task Manager Menu:\n",
            "1. Add Task\n",
            "2. View Tasks\n",
            "3. Mark Task as Complete\n",
            "4. Delete Task\n",
            "5. Exit\n",
            "Enter your choice: 3\n",
            "Enter task ID to mark as complete: 1\n",
            "Task 'Buy fish' marked as complete.\n",
            "\n",
            "Task Manager Menu:\n",
            "1. Add Task\n",
            "2. View Tasks\n",
            "3. Mark Task as Complete\n",
            "4. Delete Task\n",
            "5. Exit\n",
            "Enter your choice: 4\n",
            "Enter task ID to Delete: 3\n",
            "Task 'Finish python course' deleted.\n",
            "\n",
            "Task Manager Menu:\n",
            "1. Add Task\n",
            "2. View Tasks\n",
            "3. Mark Task as Complete\n",
            "4. Delete Task\n",
            "5. Exit\n",
            "Enter your choice: 2\n",
            "[1] Buy fish - complete\n",
            "[2] Send email - incomplete\n",
            "\n",
            "Task Manager Menu:\n",
            "1. Add Task\n",
            "2. View Tasks\n",
            "3. Mark Task as Complete\n",
            "4. Delete Task\n",
            "5. Exit\n",
            "Enter your choice: 5\n",
            "Goodbye\n"
          ]
        }
      ]
    }
  ]
}