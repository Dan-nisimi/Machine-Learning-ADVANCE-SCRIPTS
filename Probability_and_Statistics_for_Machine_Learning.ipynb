{
  "nbformat": 4,
  "nbformat_minor": 0,
  "metadata": {
    "colab": {
      "provenance": [],
      "toc_visible": true,
      "authorship_tag": "ABX9TyOKzUbf5rTcer0RcJT9Iuvu",
      "include_colab_link": true
    },
    "kernelspec": {
      "name": "python3",
      "display_name": "Python 3"
    },
    "language_info": {
      "name": "python"
    }
  },
  "cells": [
    {
      "cell_type": "markdown",
      "metadata": {
        "id": "view-in-github",
        "colab_type": "text"
      },
      "source": [
        "<a href=\"https://colab.research.google.com/github/Dan-nisimi/Machine-Learning-ADVANCE-SCRIPTS/blob/main/Probability_and_Statistics_for_Machine_Learning.ipynb\" target=\"_parent\"><img src=\"https://colab.research.google.com/assets/colab-badge.svg\" alt=\"Open In Colab\"/></a>"
      ]
    },
    {
      "cell_type": "markdown",
      "source": [
        "#PROBABILITY THEORY AND RANDOM VARIABLES\n"
      ],
      "metadata": {
        "id": "wY09IaH-SM9b"
      }
    },
    {
      "cell_type": "code",
      "execution_count": null,
      "metadata": {
        "colab": {
          "base_uri": "https://localhost:8080/"
        },
        "id": "GrjStBoM4zb5",
        "outputId": "1307ebbf-485b-412c-a5a6-b45ae4a84943"
      },
      "outputs": [
        {
          "output_type": "stream",
          "name": "stdout",
          "text": [
            "Probability of rolling an even number:  0.5\n"
          ]
        }
      ],
      "source": [
        "\n",
        "#Sample space and event\n",
        "\n",
        "#Sample Space: The set of all possible outcomes of a random experiment.\n",
        "#Each outcome is called an event.\n",
        "\n",
        "#Event: A subset of the sample space.\n",
        "\n",
        "#Conditional Probability: The probability of an event A occurring given that another event B has already occurred.\n",
        "\n",
        "#Independence: The event of A and B occurring independently of each other.\n",
        "#formular = \"P(A|B) = P(A) / P(B)\"\n",
        "\n",
        "from itertools import product\n",
        "\n",
        "#Sample Space of a dice roll\n",
        "sample_space = list(range(1, 7))\n",
        "\n",
        "#Probability of rolling an even number\n",
        "even_numbers = [2, 4, 6]\n",
        "p_even = len(even_numbers) / len(sample_space)\n",
        "print(\"Probability of rolling an even number: \", p_even)\n",
        "\n"
      ]
    },
    {
      "cell_type": "code",
      "source": [
        "#Random Variables: A random variable is a function that maps each event in a sample space (outcomes of a random experiment) to a real number.\n",
        "\n",
        "#Types: Discrete and Continuous\n",
        "\n",
        "#Probability Mass Function (PMF): The probability of each outcome in a discrete random variable or probability distribution of a discrete random variable.\n",
        "\n",
        "#Probability Density Function (PDF): The probability density or distribution of a continuous random variable e.g weight.\n",
        "\n",
        "\n",
        "#Expectation, Variance and Standard Deviation\n",
        "\n",
        "#Expectation: The expected value of a random variable is the average of all possible outcomes.\n",
        "#Formular is E|X| = sum(x*P(X=x)) for discrete and E|X| = integral(x*f(x)dx) for continuous\n",
        "\n",
        "#Variance: Measures the spread of a random variable.\n",
        "#Formular is Var|X| = sum((x-E|X|)**2*P(X=x)) for discrete and Var|X| = integral((x-E|X|)**2*f(x)dx) for continuous\n",
        "\n",
        "#Standard Deviation: The standard deviation is the square root of the variance.\n",
        "#Formular is SD|X| = sqrt(Var|X|)"
      ],
      "metadata": {
        "id": "5xZaGYEk-Vln"
      },
      "execution_count": null,
      "outputs": []
    },
    {
      "cell_type": "code",
      "source": [
        "import numpy as np\n",
        "\n",
        "# Random variable: dice roll\n",
        "outcomes = np.array([1, 2, 3, 4, 5, 6])\n",
        "probabilities = np.array([1/6]* 6) # uniform distribution for a fair dice roll with equal probability for each outcome\n",
        "\n",
        "# Expectation\n",
        "expectation = np.sum(outcomes * probabilities) # E|X| = sum(x*P(X=x))\n",
        "print(\"Expectation (Mean): \", expectation)\n",
        "\n",
        "# Variance and Standard Deviation\n",
        "variance = np.sum((outcomes - expectation)**2 * probabilities) # Var|X| = sum((x-E|X|)**2*P(X=x))\n",
        "std_dev = np.sqrt(variance)\n",
        "print(\"Variance: \", variance)\n",
        "print(\"Standard Deviation: \", std_dev)"
      ],
      "metadata": {
        "colab": {
          "base_uri": "https://localhost:8080/"
        },
        "id": "aMWss7CB-WD1",
        "outputId": "f4295827-9f79-4c82-866e-0c7880d52812"
      },
      "execution_count": null,
      "outputs": [
        {
          "output_type": "stream",
          "name": "stdout",
          "text": [
            "Expectation (Mean):  3.5\n",
            "Variance:  2.9166666666666665\n",
            "Standard Deviation:  1.707825127659933\n"
          ]
        }
      ]
    },
    {
      "cell_type": "code",
      "source": [
        "#Exercise: Simulate Dice Roles and Calculate Probabilities\n",
        "\n",
        "import numpy as np\n",
        "\n",
        "# Simulating 10,000 dice rolls\n",
        "rolls = np.random.randint(1, 7, size=10000) #size = 10000 dice rolls\n",
        "\n",
        "# Calculate probabilities\n",
        "P_even = np.sum(rolls % 2 == 0) / len(rolls) #means count the number of even numbers in the array and divide by the total number of rolls\n",
        "P_greater_than_4 = np.sum(rolls > 4) / len(rolls)# means count the number of numbers greater than 4 in the array and divide by the total number of rolls\n",
        "\n",
        "print(\"P(Even): \", P_even)\n",
        "print(\"P(Greater than 4): \", P_greater_than_4)\n",
        "\n",
        "\n",
        "#Exercise 2: Create and analyze random variables\n",
        "import matplotlib.pyplot as plt\n",
        "from scipy.stats import uniform\n",
        "import numpy as np\n",
        "\n",
        "#Discrete random variable: Dice roll\n",
        "outcomes = [1, 2, 3, 4, 5, 6]\n",
        "probabilities = [1/6] * 6 # uniform distribution for a fair dice roll with equal probability for each outcome\n",
        "plt.bar(outcomes, probabilities, color=\"blue\", alpha=0.7) # alpha = transparency of the bars\n",
        "plt.title(\"PMF of a Dice Roll\")\n",
        "plt.xlabel(\"Outcomes\")\n",
        "plt.ylabel(\"Probability\")\n",
        "plt.show()\n",
        "\n",
        "# Continuous random variable: Uniform distribution\n",
        "x = np.linspace(0,1, 100) # np.linspace means generate 100 points between 0 and 1\n",
        "pdf = uniform.pdf(x, loc=0, scale=1)# unifirm.pdf means probability density function of a uniform distribution.\n",
        "# Loc = 0 means the mean of the distribution is 0. Scale = 1 means the standard deviation of the distribution is 1\n",
        "plt.plot(x, pdf, color=\"red\")\n",
        "plt.title(\"PDF of Uniform(0,1)\")\n",
        "plt.xlabel(\"x\")\n",
        "plt.ylabel(\"f(x)\")\n",
        "plt.show()\n",
        "\n",
        "#Additional : simulate flipping a coin and calculate probabilities of head and tails\n",
        "#Compute the expectation and of a weighted die (biased probabilities)"
      ],
      "metadata": {
        "colab": {
          "base_uri": "https://localhost:8080/"
        },
        "id": "_NfMt1IvU0Bw",
        "outputId": "41afaae6-cba5-478b-d7b7-76ed6d5098ca"
      },
      "execution_count": null,
      "outputs": [
        {
          "output_type": "stream",
          "name": "stdout",
          "text": [
            "P(Even):  0.5014\n",
            "P(Greater than 4):  0.3356\n"
          ]
        }
      ]
    },
    {
      "cell_type": "markdown",
      "source": [
        "# PROBABILITY DISTRIBUTION IN MACHINE LEARNING"
      ],
      "metadata": {
        "id": "wxp6KdPLSc-i"
      }
    },
    {
      "cell_type": "code",
      "source": [
        "#Common probability distributions\n",
        "\n",
        "#Gaussian distribution: Continuous distribution with a bell-shaped curve.\n",
        "# It has two parameters; mean (μ) and standard deviation (σ).\n",
        "#Formular is f(x) = (1 / (σ * sqrt(2 * pi))) * exp(-0.5 * ((x - μ) / σ)**2)\n",
        "\n",
        "#Properties\n",
        "#symmetric about the mean\n",
        "#mean, median and mode are the same\n",
        "\n",
        "#Application in ML\n",
        "#Gaussian distribution is often used to model continuous variables in ML.\n",
        "#Used in feature scaling and normalization.\n",
        "#Common assumption in many algorithms e.g Naives Bayes\n",
        "\n",
        "#*Check Maths for machine learning file for other probability distributions*\n",
        "\n",
        "#Uniform distribution: Continuous distribution with a flat curve. i.e equal probability for all values or outcomes in a range.\n",
        "# It has two parameters; minimum (a) and maximum (b).\n",
        "#Formular/PDF is f(x) = 1 / (b - a)\n",
        "\n",
        "#Properties of uniform distribution\n",
        "#Continuous distribution with a flat curve.\n",
        "#Parameters are minimum or lower bound (a) and maximum or upper bound (b).\n",
        "\n",
        "#Application in ML\n",
        "#random initialization in neural networks\n",
        "#random sampling and initialization of parameters in machine learning models.\n",
        "\n",
        "\n",
        "#Visualizing distributions and Understanding of their properties\n",
        "#Visualization helps understand skewness, kurtosis and outliers in the data.\n",
        "\n",
        "#Skewness: The degree of asymmetry of a probability distribution.\n",
        "#It measures the asymmetry of the probability distribution around its mean. It has\n",
        "#positive, negative and zero skewness.\n",
        "\n",
        "#Kurtosis: The degree of peakedness or flatness of a probability distribution.\n",
        "#It measures the peakedness of the probability distribution around its mean. It has\n",
        "#positive, negative and zero kurtosis. High kurtosis means the distribution is peaked and outliers are present.\n",
        "#low kurtosis means the distribution is flat and no outliers are present."
      ],
      "metadata": {
        "id": "AXOrtjzsSvhA"
      },
      "execution_count": null,
      "outputs": []
    },
    {
      "cell_type": "code",
      "source": [
        "import numpy as np\n",
        "import matplotlib.pyplot as plt\n",
        "from scipy.stats import norm, binom, poisson, uniform\n",
        "import seaborn as sns\n",
        "\n",
        "# Gaussian Distribution\n",
        "x = np.linspace(-4, 4, 100) # generating a list of 100 numbers that are spread out evenly between -4 and 4\n",
        "plt.plot(x, norm.pdf(x, loc=0, scale=1), label=\"Gaussian (u=0, s=1)\")\n",
        "# loc = 0 means the mean of the distribution is 0. Scale = 1 means the standard deviation of the distribution is 1\n",
        "# norm.pdf means probability density function of a normal distribution\n",
        "#u=0 means the mean of the distribution is 0. s=1 means the standard deviation of the distribution is 1\n",
        "\n",
        "# Binomial Distribution\n",
        "n, p = 10, 0.5 # n = number of trials, p = probability of success for each trial\n",
        "x = np.arange(0, n+1) # generating a list of 11 numbers that are spread out evenly between 0 and 10\n",
        "plt.bar(x, binom.pmf(x, n, p), alpha=0.7, label=\"Binomial (n=10, p=0.5)\") # binom.pmf means probability mass function of a binomial distribution\n",
        "\n",
        "#Poisson Distribution\n",
        "lam = 3 # lambda = mean of the distribution\n",
        "x = np.arange(0,10) # generating a list of 10 numbers that are spread out evenly between 0 and 9\n",
        "plt.bar(x, poisson.pmf(x, lam), alpha=0.7, label=\"Poisson (l = 3)\") # poisson.pmf means probability mass function of a poisson distribution\n",
        "\n"
      ],
      "metadata": {
        "colab": {
          "base_uri": "https://localhost:8080/",
          "height": 448
        },
        "id": "T-zo7u8mYaKZ",
        "outputId": "589f4748-cc7a-460a-eb99-2c2f024c1b81"
      },
      "execution_count": 2,
      "outputs": [
        {
          "output_type": "execute_result",
          "data": {
            "text/plain": [
              "<BarContainer object of 10 artists>"
            ]
          },
          "metadata": {},
          "execution_count": 2
        },
        {
          "output_type": "display_data",
          "data": {
            "text/plain": [
              "<Figure size 640x480 with 1 Axes>"
            ],
            "image/png": "[encoded data removed]"
          },
          "metadata": {}
        }
      ]
    },
    {
      "cell_type": "code",
      "source": [
        "# Uniform Distribution\n",
        "x = np.random.uniform(low=0, high=10, size=1000)\n",
        "sns.histplot(x, kde=True, label=\"Uniform\", color=\"red\")\n",
        "\n",
        "plt.title(\"Probability Distributions\")\n",
        "plt.legend()\n",
        "plt.show()"
      ],
      "metadata": {
        "colab": {
          "base_uri": "https://localhost:8080/",
          "height": 452
        },
        "id": "kKlcp_uRv7gl",
        "outputId": "f2f4af5e-b049-4429-9bc8-eb0010422d7e"
      },
      "execution_count": 3,
      "outputs": [
        {
          "output_type": "display_data",
          "data": {
            "text/plain": [
              "<Figure size 640x480 with 1 Axes>"
            ],
            "image/png": "[encoded data removed]"
          },
          "metadata": {}
        }
      ]
    },
    {
      "cell_type": "markdown",
      "source": [
        "Absolutely, let's break down the concepts of Probability Density Function (PDF) and Probability Mass Function (PMF) using the provided image.\n",
        "\n",
        "**Intuitive Explanation**\n",
        "\n",
        "* **Probability Mass Function (PMF):** This is used for *discrete* random variables, meaning variables that can only take on specific, separate values (like whole numbers). Think of it as a bar chart where the height of each bar represents the probability of the variable taking on that specific value.\n",
        "    * **In the image:** The blue bars represent a Binomial distribution, a discrete distribution. The height of each bar shows the probability of getting a specific number of \"successes\" (e.g., heads in coin flips) in a set number of trials. The orange bars represent a Poisson distribution, another discrete distribution. The height of each bar shows the probability of a certain number of events occurring in a fixed interval of time or space.\n",
        "* **Probability Density Function (PDF):** This is used for *continuous* random variables, meaning variables that can take on any value within a range (like height, temperature, time). Think of it as a smooth curve where the area under the curve between two points represents the probability of the variable falling within that range.\n",
        "    * **In the image:** The blue curve represents a Gaussian (normal) distribution, a continuous distribution. The height of the curve at any point doesn't directly give the probability, but the area under the curve between two points gives the probability of the variable falling within that range.\n",
        "\n",
        "**Figure Explanation**\n",
        "\n",
        "Let's look at the image again:\n",
        "\n",
        "* **Binomial (Blue Bars):**\n",
        "    * The bars are centered around 5, meaning the most likely outcome is getting 5 \"successes\" in 10 trials (since p=0.5, it's like flipping a fair coin 10 times).\n",
        "    * The bars get shorter as you move away from 5, indicating that outcomes further from 5 are less likely.\n",
        "    * The height of each bar directly represents the probability of that specific outcome (e.g., the bar at 5 is around 0.25, meaning there's a 25% chance of getting 5 successes).\n",
        "\n",
        "* **Poisson (Orange Bars):**\n",
        "    * The bars are centered around 3, meaning the most likely outcome is observing 3 events.\n",
        "    * The bars get shorter as you move away from 3, indicating that observing significantly more or fewer events is less likely.\n",
        "    * The height of each bar directly represents the probability of that specific outcome (e.g., the bar at 3 is a bit above 0.20, meaning there's a slightly higher than 20% chance of observing 3 events).\n",
        "\n",
        "* **Gaussian (Blue Curve):** https://www.youtube.com/watch?v=WPj4yuwdInc&ab_channel=DigitalE-Learning\n",
        "    * The peak of the curve is at 0, meaning the most likely value is 0.\n",
        "    * The curve is symmetrical, indicating that values equally distant from 0 are equally likely.\n",
        "    * The area under the curve between any two points represents the probability of the variable falling within that range (e.g., the area under the curve between -1 and 1 represents the probability of the variable being between -1 and 1).\n",
        "\n",
        "**Key Differences Summarized**\n",
        "\n",
        "| Feature           | PMF (Binomial, Poisson) | PDF (Gaussian) |\n",
        "| :---------------- | :---------------------- | :------------- |\n",
        "| Variable Type    | Discrete                | Continuous     |\n",
        "| Representation   | Bar Chart               | Smooth Curve   |\n",
        "| Height           | Probability of a value  | Not probability, area under curve represents probability |\n",
        "| Use Cases        | Counts, categories      | Measurements, ranges |\n",
        "\n"
      ],
      "metadata": {
        "id": "4T72xrEVoPqq"
      }
    },
    {
      "cell_type": "code",
      "source": [
        "#Ex 2: Analyze a dataset distribution\n",
        "\n",
        "#url = \"https://raw.githubusercontent.com/mwaskom/seaborn-data/master/iris.csv\"\n",
        "\n",
        "from scipy.stats import skew, kurtosis\n",
        "import pandas as pd\n",
        "import seaborn as sns\n",
        "import matplotlib.pyplot as plt\n",
        "\n",
        "# Load Dataset\n",
        "url = \"https://raw.githubusercontent.com/mwaskom/seaborn-data/master/iris.csv\"\n",
        "df = pd.read_csv(url)\n",
        "\n",
        "# Analyse sepal_length\n",
        "feature = df[\"sepal_length\"]\n",
        "print(\"Skewness: \", skew(feature))\n",
        "print(\"Kurtosis: \", kurtosis(feature))\n",
        "\n",
        "# Visualize distribution\n",
        "sns.histplot(feature, kde=True)\n",
        "plt.title(\"Distribution of Sepal Lenth\")\n",
        "plt.show()"
      ],
      "metadata": {
        "colab": {
          "base_uri": "https://localhost:8080/",
          "height": 508
        },
        "id": "aVH8MeWKzn7I",
        "outputId": "aea80a7c-f671-4b42-d7e3-00154a5d3d6f"
      },
      "execution_count": null,
      "outputs": [
        {
          "output_type": "stream",
          "name": "stdout",
          "text": [
            "Skewness:  0.3117530585022963\n",
            "Kurtosis:  -0.5735679489249765\n"
          ]
        },
        {
          "output_type": "display_data",
          "data": {
            "text/plain": [
              "<Figure size 640x480 with 1 Axes>"
            ],
            "image/png": "[encoded data removed]"
          },
          "metadata": {}
        }
      ]
    },
    {
      "cell_type": "markdown",
      "source": [
        "**Skewness: Is the \"Tail\" Lopsided?**\n",
        "\n",
        "* **Imagine:** Think of the histogram like a lumpy mountain range. Skewness tells us if the mountain has a long, stretched-out tail on one side.\n",
        "* **Looking at the Image:**\n",
        "    * In this image, the curve (the line going over the bars) looks pretty symmetrical. It doesn't have a long, stretched-out tail on either the left or right side.\n",
        "    * Therefore, we can say this distribution has **low skewness** or is **approximately symmetrical**.\n",
        "    * If the tail was longer on the right, it would be \"positively skewed\" (like a right-leaning mountain). If the tail was longer on the left, it would be \"negatively skewed\" (like a left-leaning mountain).\n",
        "\n",
        "**Kurtosis: Is the \"Peak\" Sharp or Flat?**\n",
        "\n",
        "* **Imagine:** Now, focus on the peak of the mountain (the highest point of the curve). Kurtosis tells us if the peak is sharp and pointy or flat and rounded.\n",
        "* **Looking at the Image:**\n",
        "    * The peak of the curve in this image is moderately pointy. It's not super sharp, but it's also not very flat.\n",
        "    * This suggests a **moderate kurtosis**.\n",
        "    * A very sharp, pointy peak would mean \"high kurtosis\" (data clustered tightly around the average). A very flat, rounded peak would mean \"low kurtosis\" (data spread out more).\n",
        "\n",
        "**In Simple Words:**\n",
        "\n",
        "* **Skewness:** Tells you if the data leans more to one side.\n",
        "* **Kurtosis:** Tells you if the data is clustered tightly around the average (pointy peak) or spread out (flat peak).\n",
        "\n",
        "In this specific image, the \"mountain\" is relatively symmetrical and has a moderately pointy peak, indicating low skewness and moderate kurtosis.\n"
      ],
      "metadata": {
        "id": "k-yfrUU9vkA5"
      }
    },
    {
      "cell_type": "markdown",
      "source": [
        "# STATISTICAL INFERENCE : ESTIMATION AND CONFIDENCE INTERVAL"
      ],
      "metadata": {
        "id": "98YfmSBXv4Ed"
      }
    },
    {
      "cell_type": "code",
      "source": [
        "#Statistical inference: Process of making conclusions about a population based on sample data and assumptions about the population\n",
        "\n",
        "#POPULATION: The entire group of individuals or objects from which a sample is drawn.\n",
        "#SAMPLE: A subset of the population that is used to draw conclusions about the population.\n",
        "\n",
        "#Goal is to estimate the population parameters from the sample data and assess the accuracy of these estimates.\n",
        "\n",
        "#Point estimation: Estimation of a population parameter based on a sample of data or a single value estimate\n",
        "\n",
        "#Interval estimation: Estimation of a range of values for a population parameter based on a sample of data or a\n",
        "#a range of values within which the population parameter is likely to fall.\n",
        "\n",
        "#Confidence interval: A range of values within which the true population parameter is likely to fall with a specified level of confidence.\n",
        "#formular : lower_bound = sample_mean - critical_value * (sample_standard_error / sqrt(sample_size))\n",
        "#upper_bound = sample_mean + critical_value * (sample_standard_error / sqrt(sample_size))\n",
        "\n",
        "#where:\n",
        "#sample_mean is the mean of the sample data, sample_standard_error is the standard error of the sample data\n",
        "\n",
        "#sample_size is the size of the sample data, and critical_value is the critical value for the desired level of confidence.\n",
        "\n",
        "#z-score is also the critical value for the normal distribution corresponding to the desired level of confidence.\n",
        "\n",
        "#For Means:\n",
        "#when the population standard deviation is unknown, use t-test\n",
        "#fmla is CI = sample_mean +/- t_score * (sample_standard_error / sqrt(sample_size))\n",
        "#Use the t-distribution for small (n < 30)\n",
        "#when the population standard deviation is known, use z-test\n",
        "\n",
        "\n",
        "#for proportions:\n",
        "#when the population proportion is unknown, use z-test\n",
        "#fmlar for CI in proportions is CI = sample_proportion +/- z_score * sqrt(sample_proportion * (1 - sample_proportion) / sample_size)\n",
        "\n",
        "\n"
      ],
      "metadata": {
        "id": "UIoGieqbwDrP"
      },
      "execution_count": null,
      "outputs": []
    },
    {
      "cell_type": "code",
      "source": [
        "import numpy as np\n",
        "from scipy.stats import norm, t\n",
        "\n",
        "# Sample Data\n",
        "data = [12, 14, 15, 16, 17, 18, 19]\n",
        "\n",
        "# Calculate mean and standard deviation\n",
        "mean = np.mean(data)\n",
        "std = np.std(data, ddof=1) # ddof=1 means sample standard deviation\n",
        "\n",
        "# 95% Confidence Interval (using t-distribution)\n",
        "n = len(data)\n",
        "t_value = t.ppf(0.975, df=n-1) # df=n-1 means degrees of freedom and t.ppf means percentile point function of t-distribution\n",
        "#percentile point function of t-distribution is used to find the critical value for a given level of confidence and degrees of freedom\n",
        "# 0.975 is the critical value for a 95% confidence interval\n",
        "margin_of_error = t_value * (std / np.sqrt(n))\n",
        "#margin of error is the difference between the mean and the critical value for a 95% confidence interval\n",
        "ci = (mean - margin_of_error, mean + margin_of_error)\n",
        "print(\"95% COnfidence Interval: \", ci)"
      ],
      "metadata": {
        "colab": {
          "base_uri": "https://localhost:8080/"
        },
        "id": "AMvuVhGCzGwc",
        "outputId": "08cccd49-f1df-423e-9b2a-4adfc31ab58d"
      },
      "execution_count": null,
      "outputs": [
        {
          "output_type": "stream",
          "name": "stdout",
          "text": [
            "95% COnfidence Interval:  (np.float64(13.627991424548375), np.float64(18.086294289737342))\n"
          ]
        }
      ]
    },
    {
      "cell_type": "markdown",
      "source": [
        "The percentile point function (PPF) tells you the cutoff value where a certain percentage of data falls below it.\n",
        "\n",
        "Example:\n",
        "If your test score is at the 90th percentile, the PPF tells you the exact score needed to beat 90% of your class."
      ],
      "metadata": {
        "id": "Y11fdEP76_qv"
      }
    },
    {
      "cell_type": "code",
      "source": [
        "#Exercise: Calculate Confidence interval for a sample data\n",
        "\n",
        "import numpy as np\n",
        "from scipy.stats import norm\n",
        "\n",
        "# Generate random sample data (sample data is a subset of a population)\n",
        "data = np.random.normal(loc=50, scale=10, size=100)\n",
        "# loc=50 means the mean of the distribution is 50, scale=10 means the standard deviation of the distribution is 10\n",
        "#size=100 means the sample size or number of observations is 100\n",
        "\n",
        "# Sample statistics\n",
        "mean = np.mean(data)\n",
        "std = np.std(data, ddof=1)\n",
        "n = len(data)\n",
        "\n",
        "# 95% Confidence Interval\n",
        "z_value = norm.ppf(0.975)\n",
        "margin_of_error = z_value * (std / np.sqrt(n))\n",
        "ci = (mean - margin_of_error, mean + margin_of_error)\n",
        "\n",
        "print(\"Sample Mean: \", mean)\n",
        "print(\"95% Confidence Interval: \", ci)"
      ],
      "metadata": {
        "colab": {
          "base_uri": "https://localhost:8080/"
        },
        "id": "vWDArPwo7pH1",
        "outputId": "df95f801-2c52-4e49-e58f-09ef799b7cbb"
      },
      "execution_count": null,
      "outputs": [
        {
          "output_type": "stream",
          "name": "stdout",
          "text": [
            "Sample Mean:  50.23180440884114\n",
            "95% Confidence Interval:  (np.float64(48.10835259074382), np.float64(52.355256226938465))\n"
          ]
        }
      ]
    },
    {
      "cell_type": "markdown",
      "source": [
        "- A 95% CI means we're 95% confident the true population mean lies within this range.Higher confidence (e.g., 99%) would make the interval wider (less precise).Lower confidence (e.g., 90%) would make it narrower but risk missing the true mean more often. 95% is a sweet spot: It’s reasonably precise without being overly strict.\n",
        "\n",
        "- Common Standard: Like using \"p < 0.05\" in hypothesis testing, 95% is a widely accepted convention in science/statistics. It’s a tradition, not a strict rule.\n",
        "\n",
        "\n",
        "Okay, imagine you're playing **hide-and-seek** with your friend, and you want to guess where they're hiding in the park.  \n",
        "\n",
        "### **95% Confidence Interval = Your Best Guess Zone**  \n",
        "- You say: *\"I’m 95% sure they’re hiding between the swings and the slide!\"*  \n",
        "  - That’s your **95% CI**—a range where you’re *almost certain* they are.  \n",
        "  - Big enough that you won’t miss them, but not so big it’s useless (*\"They’re somewhere in the park!\"*).  \n",
        "\n",
        "### **Why Not 99% or 90%?**  \n",
        "- **99% CI**: *\"They’re between the swings, the slide, the trees, AND the picnic tables!\"*  \n",
        "  - **Too safe?** Now your guess is so wide it doesn’t help.  \n",
        "- **90% CI**: *\"They’re *only* behind the slide!\"*  \n",
        "  - **Too risky?** You might be wrong more often.  \n",
        "\n",
        "### **Why 95%?**  \n",
        "It’s the **best balance**:  \n",
        "✅ *\"I’m pretty sure they’re here!\"* (but not *too* sure).  \n",
        "✅ *\"I won’t waste time checking the whole park!\"*  \n",
        "\n",
        "**Real Example:**  \n",
        "If you measure how tall your classmates are, a **95% CI** might say:  \n",
        "*\"The average height is between 130cm and 140cm.\"*  \n",
        "- **99% CI**: *\"125cm to 145cm\"* (too wide, less helpful).  \n",
        "- **90% CI**: *\"132cm to 138cm\"* (too narrow, might be wrong).  \n",
        "\n",
        "**TL;DR:** 95% is like a **smart guess**—not too wild, not too tiny. Scientists use it because it works best!  \n"
      ],
      "metadata": {
        "id": "NWotas4E911n"
      }
    },
    {
      "cell_type": "code",
      "source": [
        "#Ex2 : Conduct sampling and create a report\n",
        "\n",
        "# url = \"https://raw.githubusercontent.com/mwaskom/seaborn-data/master/iris.csv\"\n",
        "\n",
        "import pandas as pd\n",
        "from scipy.stats import norm\n",
        "import numpy as np\n",
        "\n",
        "# Load Iris dataset\n",
        "url = \"https://raw.githubusercontent.com/mwaskom/seaborn-data/master/iris.csv\"\n",
        "df = pd.read_csv(url)\n",
        "\n",
        "# Sampling\n",
        "sample = df[\"sepal_length\"].sample(30, random_state=42)\n",
        "#random_state = 42 means the random number generator is initialized\n",
        "#with a fixed seed( seed is a value that is used to initialize the random number generator,\n",
        "#and the value is used to ensure that the same sequence of random numbers is generated each time the program is run.)\n",
        "\n",
        "# Sample statistics\n",
        "mean = sample.mean() # mean is the average value of the sample\n",
        "std = sample.std()\n",
        "n = len(sample)\n",
        "\n",
        "# Confidence Interval\n",
        "z_value = norm.ppf(0.975)\n",
        "margin_of_error = z_value * (std / np.sqrt(n))\n",
        "ci = (mean - margin_of_error, mean + margin_of_error)\n",
        "\n",
        "print(\"Sample Mean: \", mean)\n",
        "print(\"95% Confidence Interval: \", ci)\n",
        "\n",
        "#Additional practice\n",
        "# create a CI for other statistics such as median, mode, variance, standard deviation, skewness, kurtosis\n",
        "# Perform stratified sampling and compare intervals across the strata\n",
        "#Visualize confidence intervals for multiple samples using matplotlib"
      ],
      "metadata": {
        "colab": {
          "base_uri": "https://localhost:8080/"
        },
        "id": "RE5-PAhR_lIo",
        "outputId": "b37c8424-7891-48bf-b9df-d768537ee6ab"
      },
      "execution_count": null,
      "outputs": [
        {
          "output_type": "stream",
          "name": "stdout",
          "text": [
            "Sample Mean:  5.98\n",
            "95% Confidence Interval:  (np.float64(5.677616880642557), np.float64(6.282383119357444))\n"
          ]
        }
      ]
    },
    {
      "cell_type": "markdown",
      "source": [
        "Imagine you have a huge bag of different types of flowers (the Iris dataset).\n",
        "\n",
        "Grab a Handful: The code first takes a random sample of 30 flowers, focusing on just the length of their sepals (one of the flower parts). random_state=42 ensures we grab the same 30 flowers every time we run the code to make it reproducible.\n",
        "Measure the Average: It calculates the average sepal length of these 30 flowers (the sample.mean() part).\n",
        "Estimate the Range: It then tries to guess the average sepal length of all the flowers in the bag (not just the 30 we picked). It does this by creating a \"confidence interval.\" This interval is like saying, \"I'm 95% sure the average sepal length of all flowers in the bag is somewhere between these two numbers.\"\n",
        "Show the Results: Finally, it prints out the average sepal length of the 30 flowers we picked and the confidence interval (our guess for the average length of all the flowers).\n",
        "In short: The code took a small sample of flowers, measured their sepal length, and used that to estimate the average sepal length of all the flowers with a degree of confidence. It's like using a small taste test to guess the flavor of the whole cake! 🍰 I hope that makes it easier to understand. Let me know if you have any other questions."
      ],
      "metadata": {
        "id": "LZmMlUYcBqxj"
      }
    },
    {
      "cell_type": "code",
      "source": [],
      "metadata": {
        "id": "ftz6bbQhJ8GD"
      },
      "execution_count": null,
      "outputs": []
    },
    {
      "cell_type": "markdown",
      "source": [
        "# HYPOTHESIS TESTING AND P-VALUES"
      ],
      "metadata": {
        "id": "EXQcLKJmJ_Sa"
      }
    },
    {
      "cell_type": "code",
      "source": [
        "#Hypothesis testing is a statistical method to dtermine if there is enough evidence in a sample to infer a conclusion about a population\n",
        "\n",
        "#Key components\n",
        "#Null hypothesis: assumes no effect or no difference between groups\n",
        "#Alternative hypothesis: assumes an effect or difference between groups\n",
        "\n",
        "#Steps in hypthesis testing\n",
        "#--Formulate the null and alternative hypotheses\n",
        "#--Calculate the test statistic\n",
        "#-- Choose a significance level (e.g., 0.05 or 0.01) also known as alpha\n",
        "#--Determine the critical value\n",
        "#--Determine the p-value, where commonly used values are 0.05, 0.01, and 0.001\n",
        "#-compare the p-value to alpha to determine if the null hypothesis can be rejected or not\n",
        "#i.e if p-value < alpha, reject the null hypothesis and accept the alternative hypothesis\n",
        "#if p-value > alpha, fail to reject the null hypothesis\n",
        "\n",
        "#significance level: threshold on whether to reject the null hypothesis or not\n",
        "#example: if alpha = 0.05, it means a 5% risk of rejecting the null hypothesis\n",
        "\n",
        "#Decision rules:\n",
        "#Reject the null hypothesis if p-value < alpha\n",
        "#Fail to reject the null hypothesis if p-value > alpha\n",
        "\n",
        "#p-value: the probability of observing the same or more extreme results under the null hypothesis\n",
        "#smaller p-value indicates greater evidence against the null hypothesis\n",
        "\n",
        "\n",
        "#Types of error (Type I and Type II errors)\n",
        "#Type I error (false positive or alpha): rejecting the null hypothesis when it is true\n",
        "#example concluding a drug is effective when it is not\n",
        "\n",
        "#Type II error (beta or false negative): failing to reject the null hypothesis when it is false\n",
        "#example concluding a drug is not effective when it is\n",
        "\n",
        "#Power: the probability of rejecting the null hypothesis when it is true\n"
      ],
      "metadata": {
        "id": "GzaHnIIxKEWy"
      },
      "execution_count": null,
      "outputs": []
    },
    {
      "cell_type": "markdown",
      "source": [
        "```\n",
        "| Reality (Truth) | Decision (Based on Test) | Conclusion (Error Type) |\n",
        "|-----------------|--------------------------|--------------------------|\n",
        "| H₀ is true      | Reject H₀                | Type I                   |\n",
        "| H₀ is true      | Fail to reject H₀        | Correct                  |\n",
        "| H₀ is false     | Reject H₀                | Correct                  |\n",
        "| H₀ is false     | Fail to reject H₀        | Type II                  |\n",
        "```\n"
      ],
      "metadata": {
        "id": "4Zjg-fmjNUbb"
      }
    },
    {
      "cell_type": "code",
      "source": [
        "#Exercies: Conduct a hypothesis test\n",
        "\n",
        "import numpy as np\n",
        "from scipy.stats import ttest_1samp\n",
        "\n",
        "# Sample data\n",
        "data = [12, 14, 15, 16, 17, 18, 19]\n",
        "\n",
        "# Null Hypothesis: mean = 15\n",
        "population_mean = 15\n",
        "\n",
        "# Perform t-test\n",
        "t_stat, p_value = ttest_1samp(data, population_mean)\n",
        "print(\"T-Statistic: \", t_stat)\n",
        "print(\"P-Value: \", p_value)\n",
        "\n",
        "# Interpret Results\n",
        "alpha = 0.05\n",
        "if p_value <= alpha:\n",
        "    print(\"Reject the null hypothesis: significant difference\")\n",
        "else:\n",
        "    print(\"Fail to Reject the null hypothese: no significant difference\")\n",
        "\n",
        "\n",
        "#Exercise 2: Conduct a two sample t-test for two groups\n",
        "\n",
        "from scipy.stats import ttest_ind\n",
        "\n",
        "# Data from two groups\n",
        "group1 = [12, 14, 15, 16, 17, 18, 19]\n",
        "group2 = [11, 13, 14, 15, 16, 17, 18]\n",
        "\n",
        "# Perform t-test\n",
        "t_stat, p_value = ttest_ind(group1, group2)\n",
        "print(\"T-Statistic: \", t_stat)\n",
        "print(\"P-Value: \", p_value)\n",
        "\n",
        "# Interpretation\n",
        "alpha = 0.05\n",
        "if p_value <= alpha:\n",
        "    print(\"Reject the null hypothesis: significant difference\")\n",
        "else:\n",
        "\n",
        "  #Additional practices\n",
        "  # Perform z-test for large sample sizes\n",
        "  # Use iris dataset to test if mean sepal length is different between setosa and versicolor\n",
        "  #Perform hypothesis testing on proportions using binomial distribution"
      ],
      "metadata": {
        "colab": {
          "base_uri": "https://localhost:8080/"
        },
        "id": "5IWSIKQmOOtf",
        "outputId": "4e1bf0d7-733d-41d9-ef38-4de0f21f8004"
      },
      "execution_count": null,
      "outputs": [
        {
          "output_type": "stream",
          "name": "stdout",
          "text": [
            "T-Statistic:  0.9408750722807707\n",
            "P-Value:  0.383088241586687\n",
            "Fail to Reject the null hypothese: no significant difference\n",
            "T-Statistic:  0.7761823345023016\n",
            "P-Value:  0.45266873983452593\n",
            "Fail to Reject the null hypothesis: no significant difference\n"
          ]
        }
      ]
    },
    {
      "cell_type": "markdown",
      "source": [
        "# TYPES OF HYPOTHESIS TEST"
      ],
      "metadata": {
        "id": "y0Hv3jQWRrtj"
      }
    },
    {
      "cell_type": "code",
      "source": [
        "#T-test: The purpose is to test whether the means of one or more samples are significantly different from each other\n",
        "\n",
        "#Types\n",
        "#One Sample t-test : Tests if the mean of a sample differs from a known value or population mean\n",
        "\n",
        "#Two Sample t-test (Independent): Tests if the means of two independent samples are significantly different\n",
        "\n",
        "#Paired t-test: Tests if the means of two related samples are significantly different\n",
        "\n",
        "#Example Use Cases\n",
        "#-One sample : Testing if the average test score of a class is different from the average test score of the entire population\n",
        "#-Two sample: Testing if the average test scores of two groups are different\n",
        "#-Paired t-test: Comparing weight before and after an intervention (diet) program\n",
        "\n",
        "\n",
        "#Chi-Square Test\n",
        "\n",
        "#Purpose : Test for independence or goodness of fit in a categorical data. It tests if two categorical variables are independent\n",
        "#Use case: Testing if gender is independent of preference for a product\n",
        "\n",
        "#STEPS\n",
        "#- Create contingency table\n",
        "#- Calculate expected frequencies or\n",
        "#- Compute chi-square statistic and p-value\n",
        "#- Interpret results\n",
        "\n",
        "\n",
        "#ANOVA: Analysis of Variance\n",
        "\n",
        "#Purpose: To compare the means of two or more groups\n",
        "#Hypothesis: Null - ALL group means are equal, Alternative - At least one group mean is different from the others\n",
        "#Use case: Testing if the average test scores of three groups are different"
      ],
      "metadata": {
        "id": "Psyf3FGjSW6G"
      },
      "execution_count": null,
      "outputs": []
    },
    {
      "cell_type": "code",
      "source": [
        "#Chi-Square Test\n",
        "\n",
        "from scipy.stats import chi2_contingency\n",
        "\n",
        "# # Contingency Table\n",
        "# data = [[50, 30], [20, 40]]\n",
        "\n",
        "# # Perform Chi-Square Test\n",
        "chi2, p, dof, expected = chi2_contingency(data) #data is the contingency table\n",
        "#chi2 is the chi-square statistic, p is the p-value, dof is the degrees of freedom,\n",
        "#expected is the expected frequencies\n",
        "print(\"Chi-Square Statistic: \", chi2)\n",
        "print(\"P-Value: \", p)\n",
        "print(\"Expected Frequencies: \\n\", expected)\n",
        "#expected frequencies are the predicted frequencies of the contingency table\n",
        "# based on the null hypothesis that the observed frequencies are due to chance and not due to any other factors"
      ],
      "metadata": {
        "colab": {
          "base_uri": "https://localhost:8080/"
        },
        "id": "A_ruIbTvVRSq",
        "outputId": "88f6f7ae-b772-4453-f6b0-6fa795a23c10"
      },
      "execution_count": null,
      "outputs": [
        {
          "output_type": "stream",
          "name": "stdout",
          "text": [
            "Chi-Square Statistic:  0.0\n",
            "P-Value:  1.0\n",
            "Expected Frequencies: \n",
            " [12. 14. 15. 16. 17.]\n"
          ]
        }
      ]
    },
    {
      "cell_type": "code",
      "source": [
        "#ANOVA\n",
        "from scipy.stats import f_oneway\n",
        "\n",
        "# Data for three groups\n",
        "group1 = [12, 14, 15, 16, 17]\n",
        "group2 = [11, 13, 14, 15, 16]\n",
        "group3 = [10, 12, 13, 14, 15]\n",
        "\n",
        "# Perform ANOVA\n",
        "f_stat, p_value = f_oneway(group1, group2, group3) #f_oneway is the function to perform ANOVA\n",
        "#f_stat is the F-statistic means simply the ratio of the between-group variance to the within-group variance,\n",
        "# p_value is the p-value\n",
        "print(\"F-Statistic: \", f_stat)\n",
        "print(\"P-Value: \", p_value)"
      ],
      "metadata": {
        "colab": {
          "base_uri": "https://localhost:8080/"
        },
        "id": "A3dIddEWUyVs",
        "outputId": "c45bd127-103f-4ec4-e6db-16f85c777408"
      },
      "execution_count": null,
      "outputs": [
        {
          "output_type": "stream",
          "name": "stdout",
          "text": [
            "F-Statistic:  1.3513513513513515\n",
            "P-Value:  0.2955999950829255\n"
          ]
        }
      ]
    },
    {
      "cell_type": "code",
      "source": [
        "#Exercise 1: T-test\n",
        "\n",
        "# Conduct T-Tests\n",
        "\n",
        "# Perform one-sample, two-sample, paired t-tests\n",
        "from scipy.stats import ttest_1samp, ttest_ind, ttest_rel\n",
        "\n",
        "# One-Sample T-Test\n",
        "data = [12, 14, 15, 16, 17]\n",
        "population_mean = 15\n",
        "t_stat, p_value = ttest_1samp(data, population_mean)\n",
        "print(\"One-Sample T-Test:\", t_stat, p_value)\n",
        "\n",
        "# Two-Sample T-Test\n",
        "group1 = [12, 14, 15, 16, 17]\n",
        "group2 = [11, 13, 14, 15, 16]\n",
        "t_stat, p_value = ttest_ind(group1, group2)\n",
        "print(\"Two-Sample T-Test: \", t_stat, p_value)\n",
        "\n",
        "# Paired T-Test\n",
        "pre_test = [12, 14, 15, 16, 17]\n",
        "post_test = [13, 14, 16, 17, 18]\n",
        "t_stat, p_value = ttest_rel(pre_test, post_test)\n",
        "print(\"Paired T-Test:\", t_stat, p_value)\n",
        "\n",
        "\n",
        "\n",
        "#Exercise 2; Perform Chi-Square Test\n",
        "\n",
        "# Perform a Chi-Square Test\n",
        "\n",
        "from scipy.stats import chi2_contingency\n",
        "\n",
        "# Contingency Table\n",
        "data =[[50, 30, 20], [30, 40, 30]]\n",
        "\n",
        "# Perform Chi_Square Test\n",
        "chi2, p, dof, expected = chi2_contingency(data)\n",
        "print(\"Chi-Square Statistic:\", chi2)\n",
        "print(\"P-Values:\", p)\n",
        "print(\"Expected Frequencies: \\n\",expected)\n",
        "\n",
        "#Exercise 3: Perform ANOVA\n",
        "\n",
        "from scipy.stats import f_oneway\n",
        "\n",
        "# Date for groups\n",
        "group1 = [10, 12, 14, 16, 18]\n",
        "group2 = [9, 11, 13, 15, 17]\n",
        "group3 = [8, 10, 12, 14, 16]\n",
        "\n",
        "# Perform ANOVA\n",
        "f_stat, p_value = f_oneway(group1, group2, group3)\n",
        "print(\"F-Statistic:\", f_stat)\n",
        "print(\"P-Value:\", p_value)\n",
        "\n",
        "#Additional Practice\n",
        "# Perform z-test for large sample sizes\n",
        "#Perform anova to test for interaction effects\n",
        "# Use real world dataset to test (e.g student scores by gender and class) for hypothesis testing\n",
        "#Visualize test results using boxplots or barplots\n"
      ],
      "metadata": {
        "colab": {
          "base_uri": "https://localhost:8080/"
        },
        "id": "3zbKXTMkWgzT",
        "outputId": "d1d888f2-9460-45ea-bb08-1ccb689d1d17"
      },
      "execution_count": null,
      "outputs": [
        {
          "output_type": "stream",
          "name": "stdout",
          "text": [
            "One-Sample T-Test: -0.23249527748763774 0.8275647196020324\n",
            "Two-Sample T-Test:  0.8219949365267863 0.43489229767474047\n",
            "Paired T-Test: -3.9999999999999996 0.01613008990009254\n",
            "Chi-Square Statistic: 8.428571428571429\n",
            "P-Values: 0.01478287719483942\n",
            "Expected Frequencies: \n",
            " [[40. 35. 25.]\n",
            " [40. 35. 25.]]\n",
            "F-Statistic: 0.5\n",
            "P-Value: 0.6186248513251718\n"
          ]
        }
      ]
    },
    {
      "cell_type": "markdown",
      "source": [
        "# CORRELATION AND REGRESSION ANALYSIS"
      ],
      "metadata": {
        "id": "uQkM6ZxtZhWU"
      }
    },
    {
      "cell_type": "code",
      "source": [
        "#Correlation: Measures the strength and direction of the relationship between two variables\n",
        "#Values range from -1 (perfect negative correlation) to 1 (perfect positive correlation) and 0 (no correlation)\n",
        "\n",
        "#Linear relationship means that the change in one variable is proportional to the change in another variable\n",
        "#example of linear relationship: height and weight, temperature and humidity\n",
        "\n",
        "#Non-linear relationship means that the change in one variable is not proportional to the change in another variable\n",
        "#example of non-linear relationship: height and age, temperature and time.\n",
        "#The relationship between height and age is non-linear.\n",
        "#It's more of a curve that starts steep and then flattens out.\n",
        "\n",
        "#temp and time tarts cool in the morning, warms up during the day,\n",
        "#peaks in the afternoon, and then cools down again in the evening.\n",
        "#This is a non-linear relationship.\n",
        "\n",
        "#Types\n",
        "#Pearson Correlation (r): Measures the linear relationship between two variables and assumes data is normally distributed\n",
        "\n",
        "#Spearman Correlation(p): Measures the monotonic relationship between two variables and used for non-linear relationships and non-normally distributed data\n",
        "\n",
        "#Example use case for pearson correlation\n",
        "#-Correlation between temperature and sales in a store\n",
        "#-Correlation between height and weight in a population\n",
        "\n",
        "#Example use case for spearman correlation\n",
        "#-Correlation between age and height in a population\n",
        "#-Correlation between education level and income in a population\n",
        "\n",
        "\n",
        "#Linear Regression\n",
        "\n",
        "#Purpose: To estimate the relationship between a dependent variable(y or outcome) and one or more independent variables (x or predictor)\n",
        "#Hypothesis: Null - There is no relationship between the independent variables and the dependent variable\n",
        "#Alternative - There is a relationship between the independent variables and the dependent variable\n",
        "\n",
        "#formular is y = Beta0 + Beta1x + epsilon, where y is the dependent variable,\n",
        "#Beta0 is the intercept which is the value of y when x is zero,\n",
        "#Beta1 is the slope which is the rate of change of y with respect to x and describes the strength of the relationship\n",
        "# x is the independent variable is the predictor\n",
        "#and epsilon is the error term which is the difference between the predicted value and the actual value\n",
        "\n",
        "#Key metrics\n",
        "\n",
        "#Coefficient of Determination (R^2): Measures the proportion of the variance in the\n",
        "#dependent variable that is explained by the independent variable. Closer to 1 is a better fit\n",
        "\n",
        "### Layman Explanation:\n",
        "#R² tells us how well a model explains the relationship between two things (variables).\n",
        "#Imagine you're trying to guess someone's weight based on their height.\n",
        "#If R² is high (close to 1), it means height does a great job of explaining\n",
        "#weight— like most of the differences in weight can be predicted just from knowing height.\n",
        "# If R² is low (closer to 0), height doesn't explain much, and other factors must play a bigger role.\n",
        "\n",
        "### For a Five-Year-Old:\n",
        "#Let’s say you’re looking at how much ice cream kids eat depending on how hot it is outside.\n",
        "#R² tells you how much the hot weather \"explains\" why kids are eating more ice cream.\n",
        "#If R² is close to 1, it means the hotter it gets, the more ice cream kids eat, and that's the main reason.\n",
        "#If R² is close to 0, it means the hot weather doesn't explain much, and maybe the kids are eating ice cream for other reasons—like it’s their birthday\n",
        "\n",
        "#Intercept: The value of y when x is zero. It is the starting point of the regression line (in the example below, thats why it is -0.2)\n",
        "#If intercept is +0.4, it means when x is zero, y is 0.4\n",
        "\n",
        "\n",
        "#Slope: The rate of change of y with respect to x and it indicates the magnitiude and direction of the relationship between x and y\n",
        "##if slope is positive, it means the line is upward and if it is negative, the line (or the relationship) is downward"
      ],
      "metadata": {
        "id": "VUMj-aoVgxWR"
      },
      "execution_count": null,
      "outputs": []
    },
    {
      "cell_type": "code",
      "source": [
        "import numpy as np\n",
        "from scipy.stats import pearsonr, spearmanr\n",
        "\n",
        "# Sample Data\n",
        "x = np.array([1, 2, 3, 4, 5])\n",
        "y = np.array([2, 4, 6, 8, 10])\n",
        "\n",
        "# Pearson Correlation\n",
        "r,_ = pearsonr(x, y) #r,_ is the correlation coefficient\n",
        "print(\"Pearson Correlation Coefficient: \", r)\n",
        "print(\"P-Value: \", p)\n",
        "\n",
        "# Spearman Correlation\n",
        "rho,_ = spearmanr(x, y) #rho,_ is the correlation coefficient\n",
        "print(\"Spearman Correlation Coefficient: \", rho)\n",
        "print(\"P-Value: \", p)"
      ],
      "metadata": {
        "colab": {
          "base_uri": "https://localhost:8080/"
        },
        "id": "CzF6oD01hv0_",
        "outputId": "e3087cfc-657e-4ac3-fb0f-dcbcb0320c80"
      },
      "execution_count": null,
      "outputs": [
        {
          "output_type": "stream",
          "name": "stdout",
          "text": [
            "Pearson Correlation Coefficient:  1.0\n",
            "P-Value:  0.01478287719483942\n",
            "Spearman Correlation Coefficient:  0.9999999999999999\n",
            "P-Value:  0.01478287719483942\n"
          ]
        }
      ]
    },
    {
      "cell_type": "code",
      "source": [
        "#Linear regression\n",
        "\n",
        "from sklearn.linear_model import LinearRegression\n",
        "import numpy as np\n",
        "\n",
        "# Sample Data\n",
        "x = np.array([1, 2, 3, 4, 5]).reshape(-1, 1) #reshape is used to convert 1D array to 2D array\n",
        "y = np.array([2, 4, 5, 8, 10])\n",
        "\n",
        "# Fit Linear Regression\n",
        "model = LinearRegression()\n",
        "model.fit(x, y)\n",
        "\n",
        "print(\"Slope: \", model.coef_[0]) #model.coef_[0] is the slope of the line of best fit\n",
        "print(\"Intercept: \", model.intercept_) #model.intercept_ is the intercept of the line of best fit\n",
        "print(\"R-Squared: \", model.score(x, y)) #model.score is the coefficient of determination"
      ],
      "metadata": {
        "colab": {
          "base_uri": "https://localhost:8080/"
        },
        "id": "Ca1KFgaThgE3",
        "outputId": "02916fb2-7c14-41b2-8515-a576921c8b27"
      },
      "execution_count": null,
      "outputs": [
        {
          "output_type": "stream",
          "name": "stdout",
          "text": [
            "Slope:  2.0\n",
            "Intercept:  -0.20000000000000018\n",
            "R-Squared:  0.9803921568627451\n"
          ]
        }
      ]
    },
    {
      "cell_type": "code",
      "source": [
        "#Ex1: Calculate the correlation coefficient between features\n",
        "\n",
        "import pandas as pd\n",
        "import seaborn as sns\n",
        "import matplotlib.pyplot as plt\n",
        "\n",
        "# Load Iris dataset\n",
        "url = \"https://raw.githubusercontent.com/mwaskom/seaborn-data/master/iris.csv\"\n",
        "df = pd.read_csv(url)\n",
        "\n",
        "del df[\"species\"]\n",
        "\n",
        "# Compute correlation matrix\n",
        "correlation_matrix = df.corr()\n",
        "\n",
        "# Plot Heatmap\n",
        "sns.heatmap(correlation_matrix, annot=True, cmap=\"coolwarm\")\n",
        "plt.title(\"Feature Correlations\")\n",
        "plt.show()\n",
        "\n"
      ],
      "metadata": {
        "colab": {
          "base_uri": "https://localhost:8080/",
          "height": 452
        },
        "id": "1wgZY6fglwXd",
        "outputId": "009cd2e1-6e4d-45df-a955-67462b146d95"
      },
      "execution_count": null,
      "outputs": [
        {
          "output_type": "display_data",
          "data": {
            "text/plain": [
              "<Figure size 640x480 with 2 Axes>"
            ],
            "image/png": "[encoded data removed]"
          },
          "metadata": {}
        }
      ]
    },
    {
      "cell_type": "code",
      "source": [
        "#Ex2: Perform a linear regression model on a dataset\n",
        "\n",
        "import numpy as np\n",
        "from sklearn.linear_model import LinearRegression\n",
        "import matplotlib.pyplot as plt\n",
        "\n",
        "# Generate data\n",
        "np.random.seed(42)\n",
        "x = np.random.rand(100, 1) * 10 #x is a 2D array with 100 rows and 1 column with random numbers between 0 and 10\n",
        "y = 3 * x + np.random.randn(100, 1) * 2\n",
        "# This multiplies the values in the array x by 3\n",
        "#np.random.randn is used to generate random numbers from a normal distribution\n",
        "#(100, 1) is the shape of the array, 100 rows and 1 column\n",
        "#* 2 This multiplies each of the 100 random numbers by 2, effectively doubling their values.\n",
        "#This introduces some random variation or \"noise\" to the data.\n",
        "print('x_axis: ',x)\n",
        "\n",
        "# Fit Linear Regression\n",
        "model = LinearRegression()\n",
        "model.fit(x, y)\n",
        "\n",
        "# Get Coefficients\n",
        "slope = model.coef_[0][0] # 0 is the index of the column and 0 is the index of the row\n",
        "intercept = model.intercept_[0] # 0 is the index of the row\n",
        "r_squared = model.score(x, y)\n",
        "\n",
        "# Visualize\n",
        "plt.scatter(x, y, color=\"blue\", label=\"Data\")\n",
        "plt.plot(x, model.predict(x), color=\"red\", label=\"Regression Line\")\n",
        "plt.legend()\n",
        "plt.title(\"Linear Regression\")\n",
        "plt.show()\n",
        "\n",
        "#Additional Practice\n",
        "#fit multiple linear regression models  with a multiple independent variables and compare the results\n",
        "#Compare correlation and regression results for non-linear relationships and non-normally distributed data"
      ],
      "metadata": {
        "colab": {
          "base_uri": "https://localhost:8080/",
          "height": 1000
        },
        "id": "DloLLeojsfPc",
        "outputId": "6c684267-429a-4b9d-b30e-dfb0050a278c"
      },
      "execution_count": 16,
      "outputs": [
        {
          "output_type": "stream",
          "name": "stdout",
          "text": [
            "x_axis:  [[3.74540119]\n",
            " [9.50714306]\n",
            " [7.31993942]\n",
            " [5.98658484]\n",
            " [1.5601864 ]\n",
            " [1.5599452 ]\n",
            " [0.58083612]\n",
            " [8.66176146]\n",
            " [6.01115012]\n",
            " [7.08072578]\n",
            " [0.20584494]\n",
            " [9.69909852]\n",
            " [8.32442641]\n",
            " [2.12339111]\n",
            " [1.81824967]\n",
            " [1.8340451 ]\n",
            " [3.04242243]\n",
            " [5.24756432]\n",
            " [4.31945019]\n",
            " [2.9122914 ]\n",
            " [6.11852895]\n",
            " [1.39493861]\n",
            " [2.92144649]\n",
            " [3.66361843]\n",
            " [4.56069984]\n",
            " [7.85175961]\n",
            " [1.99673782]\n",
            " [5.14234438]\n",
            " [5.92414569]\n",
            " [0.46450413]\n",
            " [6.07544852]\n",
            " [1.70524124]\n",
            " [0.65051593]\n",
            " [9.48885537]\n",
            " [9.65632033]\n",
            " [8.08397348]\n",
            " [3.04613769]\n",
            " [0.97672114]\n",
            " [6.84233027]\n",
            " [4.40152494]\n",
            " [1.22038235]\n",
            " [4.9517691 ]\n",
            " [0.34388521]\n",
            " [9.09320402]\n",
            " [2.58779982]\n",
            " [6.62522284]\n",
            " [3.11711076]\n",
            " [5.20068021]\n",
            " [5.46710279]\n",
            " [1.84854456]\n",
            " [9.69584628]\n",
            " [7.75132823]\n",
            " [9.39498942]\n",
            " [8.9482735 ]\n",
            " [5.97899979]\n",
            " [9.21874235]\n",
            " [0.88492502]\n",
            " [1.95982862]\n",
            " [0.45227289]\n",
            " [3.25330331]\n",
            " [3.8867729 ]\n",
            " [2.71349032]\n",
            " [8.28737509]\n",
            " [3.56753327]\n",
            " [2.8093451 ]\n",
            " [5.42696083]\n",
            " [1.40924225]\n",
            " [8.02196981]\n",
            " [0.74550644]\n",
            " [9.86886937]\n",
            " [7.72244769]\n",
            " [1.98715682]\n",
            " [0.05522117]\n",
            " [8.15461428]\n",
            " [7.06857344]\n",
            " [7.29007168]\n",
            " [7.71270347]\n",
            " [0.74044652]\n",
            " [3.58465729]\n",
            " [1.1586906 ]\n",
            " [8.63103426]\n",
            " [6.23298127]\n",
            " [3.30898025]\n",
            " [0.6355835 ]\n",
            " [3.10982322]\n",
            " [3.25183322]\n",
            " [7.29606178]\n",
            " [6.37557471]\n",
            " [8.87212743]\n",
            " [4.72214925]\n",
            " [1.19594246]\n",
            " [7.13244787]\n",
            " [7.60785049]\n",
            " [5.61277198]\n",
            " [7.7096718 ]\n",
            " [4.93795596]\n",
            " [5.22732829]\n",
            " [4.27541018]\n",
            " [0.25419127]\n",
            " [1.07891427]]\n"
          ]
        },
        {
          "output_type": "display_data",
          "data": {
            "text/plain": [
              "<Figure size 640x480 with 1 Axes>"
            ],
            "image/png": "[encoded data removed]"
          },
          "metadata": {}
        }
      ]
    },
    {
      "cell_type": "markdown",
      "source": [
        "# ANALYZING REAL WORLD DATASET"
      ],
      "metadata": {
        "id": "8_wzCSw5so-0"
      }
    },
    {
      "cell_type": "markdown",
      "source": [
        " Previously learned statistical methods will be used to draw meaningful insights from real world dataset.\n",
        "\n",
        " We will apply\n",
        " - Probability concepts to understand distributions\n",
        " -Hypothesis testing to identify significant relationships or differences\n",
        " -Regression analysis to explore and quantify relationships between variables\n",
        "\n",
        "STEPS IN EDA:\n",
        "- Load and inspect dataset\n",
        "- Check for missing or inconsistent data\n",
        "- Visualize distributions and relationships using histograms, scatterplots and correlation maps\n",
        "\n",
        "Goals:\n",
        "- Understand data structure\n",
        "- Identify patterns, trends and outliers\n",
        "\n",
        "Conducting Hypothesis Testing\n",
        "Steps\n",
        "- Formulate null and alternative hypothesis\n",
        "-Choose and perform an appropriate hypothesis test\n",
        "- Interpret p-values and test result\n",
        "\n",
        "Apply Linear Regression\n",
        "- Select dependent and independent variable\n",
        "- Fit a regression model to the data\n",
        "- Interpret co-efficient and R-square value\n",
        "- Example: Analyze the relationship between total bill and tip"
      ],
      "metadata": {
        "id": "MQNtCwzHszOt"
      }
    },
    {
      "cell_type": "code",
      "source": [
        "# # url = \"https://raw.githubusercontent.com/mwaskom/seaborn-data/master/tips.csv\"\n",
        "\n",
        "import pandas as pd\n",
        "from sklearn.linear_model import LinearRegression\n",
        "import numpy as np\n",
        "import seaborn as sns\n",
        "import matplotlib.pyplot as plt\n",
        "\n",
        "# Load Dataset\n",
        "url = \"https://raw.githubusercontent.com/mwaskom/seaborn-data/master/tips.csv\"\n",
        "df = pd.read_csv(url)\n",
        "\n",
        "# # Inspect Data\n",
        "# print(df.info())\n",
        "# print(df.describe())\n",
        "\n",
        "# del df[\"sex\"]\n",
        "# del df[\"smoker\"]\n",
        "# del df[\"day\"]\n",
        "# del df[\"time\"]\n",
        "\n",
        "# #Visualize Distributions\n",
        "# sns.histplot(df[\"total_bill\"], kde=True) #kde is a kernel density estimate\n",
        "# plt.title(\"Distribution of Total Bill\")\n",
        "# plt.show()\n",
        "\n",
        "# # # Correlation heatmap\n",
        "# sns.heatmap(df.corr(), annot=True, cmap=\"coolwarm\")\n",
        "# plt.title(\"Correlation Heatmap\")\n",
        "# plt.show()\n",
        "\n",
        "#Conduct Hypothesis Testing\n",
        "\n",
        "from scipy.stats import ttest_ind\n",
        "\n",
        "# Seperate data by gender\n",
        "male_tips = df[df['sex'] == 'Male']['tip'] #\n",
        "female_tips = df[df['sex'] == 'Female']['tip']\n",
        "\n",
        "# # Perform t-test\n",
        "t_stat, p_value = ttest_ind(male_tips, female_tips)\n",
        "print(\"T-Statistic: \", t_stat)\n",
        "print(\"P-Value: \", p_value)\n",
        "\n",
        "# # Interpret results\n",
        "alpha = 0.05\n",
        "if p_value <= alpha:\n",
        "    print(\"Reject all null hypothesis: Significant difference.\")\n",
        "else:\n",
        "    print(\"Fail to Reject all null hypothesis: NO Significant difference.\")\n",
        "\n",
        "\n"
      ],
      "metadata": {
        "colab": {
          "base_uri": "https://localhost:8080/"
        },
        "id": "K5DAkI_QuJIk",
        "outputId": "52757145-14cf-48d7-9ecb-6ea748357c01"
      },
      "execution_count": 11,
      "outputs": [
        {
          "output_type": "stream",
          "name": "stdout",
          "text": [
            "T-Statistic:  1.387859705421269\n",
            "P-Value:  0.16645623503456755\n",
            "Fail to Reject all null hypothesis: NO Significant difference.\n"
          ]
        }
      ]
    },
    {
      "cell_type": "code",
      "source": [
        "#Apply Linear Regression\n",
        "\n",
        "# Define variables\n",
        "X = df['total_bill'].values.reshape(-1, 1) #reshape is used to convert 1D array to 2D array\n",
        "y = df['tip'].values #values is used to get the values of the array\n",
        "\n",
        "# # Fit linear regression\n",
        "model = LinearRegression()\n",
        "model.fit(X, y)\n",
        "\n",
        "# # Output coefficients\n",
        "print(\"Slope: \", model.coef_[0])\n",
        "print(\"Intercept: \", model.intercept_)\n",
        "print(\"R-Squared:\", model.score(X, y))\n",
        "\n",
        "# # Plot regression\n",
        "sns.scatterplot(x=df['total_bill'], y=df['tip'], color=\"blue\")\n",
        "plt.plot(df['total_bill'], model.predict(X), color=\"red\", label=\"Regression Line\")\n",
        "plt.title(\"Total Bill vs Tip\")\n",
        "plt.legend()\n",
        "plt.show()"
      ],
      "metadata": {
        "colab": {
          "base_uri": "https://localhost:8080/",
          "height": 526
        },
        "id": "LKKWkdWG06Vb",
        "outputId": "7eec3802-fbf8-4816-97be-add170d64831"
      },
      "execution_count": 12,
      "outputs": [
        {
          "output_type": "stream",
          "name": "stdout",
          "text": [
            "Slope:  0.10502451738435337\n",
            "Intercept:  0.9202696135546731\n",
            "R-Squared: 0.45661658635167657\n"
          ]
        },
        {
          "output_type": "display_data",
          "data": {
            "text/plain": [
              "<Figure size 640x480 with 1 Axes>"
            ],
            "image/png": "[encoded data removed]"
          },
          "metadata": {}
        }
      ]
    },
    {
      "cell_type": "code",
      "source": [
        "#Hands on Project : Statistical Analysis of Data (Real world)\n",
        "\n",
        "# - Perform EDA\n",
        "# - Perform Hypothesis Testing\n",
        "# - Perform Linear Regression\n",
        "\n",
        "\n",
        "# # url = \"https://raw.githubusercontent.com/mwaskom/seaborn-data/master/tips.csv\"\n",
        "\n",
        "import pandas as pd\n",
        "import seaborn as sns\n",
        "import matplotlib.pyplot as plt\n",
        "from scipy.stats import chi2_contingency\n",
        "\n",
        "# Load Dataset\n",
        "url = \"https://raw.githubusercontent.com/mwaskom/seaborn-data/master/tips.csv\"\n",
        "df = pd.read_csv(url)\n",
        "\n",
        "\n",
        "#Hypothesis Testing\n",
        "\n",
        "contingency_table = pd.crosstab(df['smoker'], df['time']) #crosstab is used to create a contingency table of the data\n",
        "#Contingency table is a table that shows the relationship between two or more categorical variables\n",
        "\n",
        "# # Perform Ch-Square Test\n",
        "chi2, p, dof, expected = chi2_contingency(contingency_table)\n",
        "print(\"Chi-Square Statistic:\", chi2)\n",
        "print(\"P-Value:\", p)\n",
        "\n",
        "# # Interpret Result\n",
        "alpha = 0.05\n",
        "if p <= alpha:\n",
        "    print(\"Reject the null hypothesis: Variables are dependent\")\n",
        "else:\n",
        "    print(\"FailReject the null hypothesis: Variables are independent\")\n",
        "\n",
        "#Perform EDA\n",
        "\n",
        "#Inspect Data\n",
        "print(df.info())\n",
        "print(df.describe())\n",
        "\n",
        "del df[\"sex\"]\n",
        "del df[\"smoker\"]\n",
        "del df[\"day\"]\n",
        "del df[\"time\"]\n",
        "\n",
        "# # Visualize Distributions\n",
        "sns.histplot(df[\"total_bill\"], kde=True)\n",
        "plt.title(\"Distribution of Total Bill\")\n",
        "plt.show()\n",
        "\n",
        "# # # Correlation heatmap\n",
        "sns.heatmap(df.corr(), annot=True, cmap=\"coolwarm\")\n",
        "plt.title(\"Correlation Heatmap\")\n",
        "plt.show()\n",
        "\n",
        "\n",
        "# from scipy.stats import ttest_ind\n",
        "\n",
        "# # Seperate data by gender\n",
        "# male_tips = df[df['sex'] == 'Male']['tip']\n",
        "# female_tips = df[df['sex'] == 'Female']['tip']\n",
        "\n",
        "# # Perform t-test\n",
        "# t_stat, p_value = ttest_ind(male_tips, female_tips)\n",
        "# print(\"T-Statistic: \", t_stat)\n",
        "# print(\"P-Value: \", p_value)\n",
        "\n",
        "# # Interpret results\n",
        "# alpha = 0.05\n",
        "# if p_value <= alpha:\n",
        "#     print(\"Reject all null hypothesis: Significant difference.\")\n",
        "# else:\n",
        "#     print(\"Fail to Reject all null hypothesis: NO Significant difference.\")\n",
        "\n",
        "# # Apply Linear Regression\n",
        "\n",
        "# Define variables\n",
        "X = df['total_bill'].values.reshape(-1, 1)\n",
        "y = df['tip'].values\n",
        "\n",
        "# # Fit linear regression\n",
        "model = LinearRegression()\n",
        "model.fit(X, y)\n",
        "\n",
        "# # Output coefficients\n",
        "print(\"Slope: \", model.coef_[0])\n",
        "print(\"Intercept: \", model.intercept_)\n",
        "print(\"R-Squared:\", model.score(X, y))\n",
        "\n",
        "# # Plot regression\n",
        "sns.scatterplot(x=df['total_bill'], y=df['tip'], color=\"blue\")\n",
        "plt.plot(df['total_bill'], model.predict(X), color=\"red\", label=\"Regression Line\")\n",
        "plt.title(\"Total Bill vs Tip\")\n",
        "plt.legend()\n",
        "plt.show()\n",
        "\n",
        "\n",
        "\n",
        "\n",
        "\n",
        "\n",
        "\n",
        "\n",
        "\n",
        "\n"
      ],
      "metadata": {
        "colab": {
          "base_uri": "https://localhost:8080/",
          "height": 1000
        },
        "id": "eSYpiIvW1Ilb",
        "outputId": "de1c03fe-2ecd-4f13-fda5-1578285af817"
      },
      "execution_count": 13,
      "outputs": [
        {
          "output_type": "stream",
          "name": "stdout",
          "text": [
            "<class 'pandas.core.frame.DataFrame'>\n",
            "RangeIndex: 244 entries, 0 to 243\n",
            "Data columns (total 7 columns):\n",
            " #   Column      Non-Null Count  Dtype  \n",
            "---  ------      --------------  -----  \n",
            " 0   total_bill  244 non-null    float64\n",
            " 1   tip         244 non-null    float64\n",
            " 2   sex         244 non-null    object \n",
            " 3   smoker      244 non-null    object \n",
            " 4   day         244 non-null    object \n",
            " 5   time        244 non-null    object \n",
            " 6   size        244 non-null    int64  \n",
            "dtypes: float64(2), int64(1), object(4)\n",
            "memory usage: 13.5+ KB\n",
            "None\n",
            "       total_bill         tip        size\n",
            "count  244.000000  244.000000  244.000000\n",
            "mean    19.785943    2.998279    2.569672\n",
            "std      8.902412    1.383638    0.951100\n",
            "min      3.070000    1.000000    1.000000\n",
            "25%     13.347500    2.000000    2.000000\n",
            "50%     17.795000    2.900000    2.000000\n",
            "75%     24.127500    3.562500    3.000000\n",
            "max     50.810000   10.000000    6.000000\n"
          ]
        },
        {
          "output_type": "display_data",
          "data": {
            "text/plain": [
              "<Figure size 640x480 with 1 Axes>"
            ],
            "image/png": "[encoded data removed]"
          },
          "metadata": {}
        },
        {
          "output_type": "display_data",
          "data": {
            "text/plain": [
              "<Figure size 640x480 with 2 Axes>"
            ],
            "image/png": "[encoded data removed]"
          },
          "metadata": {}
        },
        {
          "output_type": "stream",
          "name": "stdout",
          "text": [
            "Slope:  0.10502451738435337\n",
            "Intercept:  0.9202696135546731\n",
            "R-Squared: 0.45661658635167657\n"
          ]
        },
        {
          "output_type": "display_data",
          "data": {
            "text/plain": [
              "<Figure size 640x480 with 1 Axes>"
            ],
            "image/png": "[encoded data removed]"
          },
          "metadata": {}
        }
      ]
    },
    {
      "cell_type": "code",
      "source": [
        "#Additional Practice\n",
        "#Extend the project by exploring additional relationships e.g day of the week vs tip amount\n",
        "#Perform multiple linear regression models  with a multiple independent variables and compare the results e.g smoking status"
      ],
      "metadata": {
        "id": "NufjFsx--Gdm"
      },
      "execution_count": null,
      "outputs": []
    }
  ]
}