{
  "nbformat": 4,
  "nbformat_minor": 0,
  "metadata": {
    "colab": {
      "provenance": [],
      "toc_visible": true,
      "authorship_tag": "ABX9TyPTDbz3og9m4kFS9nZkBsFp",
      "include_colab_link": true
    },
    "kernelspec": {
      "name": "python3",
      "display_name": "Python 3"
    },
    "language_info": {
      "name": "python"
    }
  },
  "cells": [
    {
      "cell_type": "markdown",
      "metadata": {
        "id": "view-in-github",
        "colab_type": "text"
      },
      "source": [
        "<a href=\"https://colab.research.google.com/github/Dan-nisimi/Machine-Learning-ADVANCE-SCRIPTS/blob/main/Mathematics_for_Machine_Learning.ipynb\" target=\"_parent\"><img src=\"https://colab.research.google.com/assets/colab-badge.svg\" alt=\"Open In Colab\"/></a>"
      ]
    },
    {
      "cell_type": "markdown",
      "source": [
        "# LINEAR ALGEBRA FUNDAMENTALS"
      ],
      "metadata": {
        "id": "Mi1hBttkpAUe"
      }
    },
    {
      "cell_type": "markdown",
      "source": [
        "Vector and Matrices"
      ],
      "metadata": {
        "id": "sMNjH2MNpIjs"
      }
    },
    {
      "cell_type": "code",
      "source": [
        "#Vectors are 1D arrays and can be created using the array() function. Properties of vectors are similar to those of lists\n",
        "#Matrices are 2D arrays and can be created using the matrix() function. Properties of matrices are similar to those of lists\n",
        "\n",
        "#Matrix operations are performed using the %*% operator\n",
        "#Addition of matrices is performed using the + operator\n",
        "#Subtraction of matrices is performed using the - operator\n",
        "\n",
        "import numpy as np\n",
        "\n",
        "A = np.array([[1, 2], [3, 4]])\n",
        "B = np.array([[5, 6], [7, 8]])\n",
        "\n",
        "print(\"Addition: \\n\", A + B)\n",
        "print(\"Subtraction: \\n\", B - A)\n",
        "\n",
        "C = 2 * A\n",
        "print(\"Scalar Multiplication \\n\", C)\n",
        "\n",
        "\n",
        "result = np.dot(A, B) #np.dot is used to multiply matrices, it does this by multiplying\n",
        "#each element of the first matrix with the corresponding element of the second matrix\n",
        "print(\"Matrix Multiplication \\n\", result)\n",
        "\n",
        "#Special matrices can be created using the eye(), zeros(), and diag() functions\n",
        "#diag() creates a diagonal matrix which is a matrix with ones on the diagonal\n",
        "\n",
        "I = np.eye(5)\n",
        "print(\"Identity Matrix \\n\", I)\n",
        "\n",
        "Z = np.zeros((2, 3))\n",
        "print(\"Zero Matrix \\n\", Z)\n",
        "\n",
        "D = np.diag([1, 2, 3])\n",
        "print(\"Diagonal Matrix\\n\", D)\n",
        "\n",
        "\n",
        "\n"
      ],
      "metadata": {
        "colab": {
          "base_uri": "https://localhost:8080/"
        },
        "id": "MnPJdF3ppR5q",
        "outputId": "206a1452-ee43-4692-e60a-07e9216b6b69"
      },
      "execution_count": null,
      "outputs": [
        {
          "output_type": "stream",
          "name": "stdout",
          "text": [
            "Addition: \n",
            " [[ 6  8]\n",
            " [10 12]]\n",
            "Subtraction: \n",
            " [[4 4]\n",
            " [4 4]]\n",
            "Scalar Multiplication \n",
            " [[2 4]\n",
            " [6 8]]\n",
            "Matrix Multiplication \n",
            " [[19 22]\n",
            " [43 50]]\n",
            "Identity Matrix \n",
            " [[1. 0. 0. 0. 0.]\n",
            " [0. 1. 0. 0. 0.]\n",
            " [0. 0. 1. 0. 0.]\n",
            " [0. 0. 0. 1. 0.]\n",
            " [0. 0. 0. 0. 1.]]\n",
            "Zero Matrix \n",
            " [[0. 0. 0.]\n",
            " [0. 0. 0.]]\n",
            "Diagonal Matrix\n",
            " [[1 0 0]\n",
            " [0 2 0]\n",
            " [0 0 3]]\n"
          ]
        }
      ]
    },
    {
      "cell_type": "code",
      "source": [
        "#EX 1: Create vectors and matrices using numpy\n",
        "\n",
        "import numpy as np\n",
        "\n",
        "# Create matrices\n",
        "A = np.array([[1, 2], [3, 4]])\n",
        "B = np.array([[9, 8], [7, 6]])\n",
        "\n",
        "# Addition\n",
        "print(\"Addition\\n\", A + B)\n",
        "\n",
        "# Subtraction\n",
        "print(\"Subtraction\\n\", A - B)\n",
        "\n",
        "# Scalar Multiplication\n",
        "print(\"Scalar Mult: \\n\", 3 * A)\n",
        "\n",
        "#Ex 2 : implement matrx vector multiplication\n",
        "\n",
        "import numpy as np\n",
        "\n",
        "# Create matrix and vector\n",
        "M = np.array([[1, 2, 3], [4, 5, 6], [7, 8, 9]])\n",
        "v = np.array([1, 0, -1])\n",
        "\n",
        "# Matrix-vector multiplication\n",
        "result = np.dot(M, v)\n",
        "print(\"Matrix-Vector Multiplication: \\n\", result)\n",
        "\n",
        "#Ex 3: Special matrices\n",
        "import numpy as np\n",
        "\n",
        "# Identity Matrix\n",
        "I = np.eye(3)\n",
        "A = np.array([[1, 2, 3], [4, 5, 6], [7, 8, 9]])\n",
        "print(\"Identity Matrix A X I:\\n\", np.dot(A, I))\n",
        "\n",
        "# Diagonal Matrix and Zero Matrix\n",
        "D = np.diag([1, 7, 9])\n",
        "Z = np.zeros((3, 3))\n",
        "print(\"Diagonal Matrix\\n\", D)\n",
        "print(\"Zero Matrix\\n\", Z)\n",
        "\n",
        "#additional practice\n",
        "#compute determinant and inverse of 2x2 matrix using numpy\n",
        "#verify properties of matrix multiplication\n",
        "#create a block diagnonal matrix using numpy"
      ],
      "metadata": {
        "colab": {
          "base_uri": "https://localhost:8080/"
        },
        "id": "tA7GhEF2vHfN",
        "outputId": "93594fb0-e873-4da6-a69d-ce630eb5be87"
      },
      "execution_count": null,
      "outputs": [
        {
          "output_type": "stream",
          "name": "stdout",
          "text": [
            "Addition\n",
            " [[10 10]\n",
            " [10 10]]\n",
            "Subtraction\n",
            " [[-8 -6]\n",
            " [-4 -2]]\n",
            "Scalar Mult: \n",
            " [[ 3  6]\n",
            " [ 9 12]]\n",
            "Matrix-Vector Multiplication: \n",
            " [-2 -2 -2]\n",
            "Identity Matrix A X I:\n",
            " [[1. 2. 3.]\n",
            " [4. 5. 6.]\n",
            " [7. 8. 9.]]\n",
            "Diagonal Matrix\n",
            " [[1 0 0]\n",
            " [0 7 0]\n",
            " [0 0 9]]\n",
            "Zero Matrix\n",
            " [[0. 0. 0.]\n",
            " [0. 0. 0.]\n",
            " [0. 0. 0.]]\n"
          ]
        }
      ]
    },
    {
      "cell_type": "markdown",
      "source": [
        "# ADVANCE LINEAR ALGEBRA"
      ],
      "metadata": {
        "id": "BNSAxQyiYuOC"
      }
    },
    {
      "cell_type": "code",
      "source": [
        "#Determinant and Inverse\n",
        "#Determinant is the product of all the elements in the matrix. It is also a scalar\n",
        "#value that provides information about the shape of the matrix. Determinants are calculated only for square matrices\n",
        "\n",
        "#Example det(A) = 0, the matrix is a singular matrix\n",
        "        #det(A) != 0, the matrix is not a singular matrix (invertible)\n",
        "#Geometric interpretation: Determinant of a matrix is the area of the parallelogram (area) spanned by the columns of the matrix\n",
        "# for a 2x2 matrix, the determinant represents the scaling factor of the area formed by its column vectors\n",
        "# formular for 2 x 2 matrix : det([a b]; [c d]) = ad - bc\n",
        "\n",
        "\n",
        "#Inverse is the matrix which when multiplied with the original matrix gives the identity matrix. It is denoted as  A^-1\n",
        "#product of a matrix and its inverse is the identity matrix : A * A^-1 = I\n",
        "# matrix is invertible only if det(A) != 0\n",
        "#formular for 2 x 2 inverse matrix : A^-1 = 1/det(A) [d, -b]; [-c, a]"
      ],
      "metadata": {
        "id": "iHH0I8ENYypc"
      },
      "execution_count": null,
      "outputs": []
    },
    {
      "cell_type": "code",
      "source": [
        "import numpy as np\n",
        "\n",
        "A = np.array([[2, 3], [1,4]])\n",
        "determinant = np.linalg.det(A) #np.linalg.det is used to calculate determinant, it is a function in numpy\n",
        "print(\"Determinant: \", determinant)\n",
        "\n",
        "inverse = np.linalg.inv(A)\n",
        "print(\"Inverse of A: \\n\", inverse)\n"
      ],
      "metadata": {
        "colab": {
          "base_uri": "https://localhost:8080/"
        },
        "id": "c-3Frr-8aneb",
        "outputId": "35c709a7-b3c0-4cde-a2cb-7a8eb028c357"
      },
      "execution_count": null,
      "outputs": [
        {
          "output_type": "stream",
          "name": "stdout",
          "text": [
            "Determinant:  5.000000000000001\n",
            "Inverse of A: \n",
            " [[ 0.8 -0.6]\n",
            " [-0.2  0.4]]\n"
          ]
        }
      ]
    },
    {
      "cell_type": "markdown",
      "source": [
        "Imagine you're holding a rubber band that's stretched out in a specific direction. If you stretch or shrink the rubber band, it might stay aligned in that same direction. That \"special direction\" is what an eigenvector represents. The factor by which the rubber band is stretched or shrunk is the eigenvalue.\n",
        "Now, mathematically speaking, eigenvalues and eigenvectors come from square matrices (think of them as grids of numbers). They help us understand how a matrix transforms things. Eigenvectors point to directions that remain unchanged (except for stretching or shrinking), and eigenvalues tell us how much they’re stretched or shrunk.\n",
        "\n",
        "A Simple Intuition for Learning\n",
        "Think of eigenvectors as a compass showing the key directions in your data, and eigenvalues as how \"important\" or \"influential\" those directions are. In machine learning, this helps in visualizing and compressing data without losing the core message."
      ],
      "metadata": {
        "id": "NXbCN0Hmt_Zm"
      }
    },
    {
      "cell_type": "code",
      "source": [
        "#Eigenvalues and eigenvectors\n",
        "#eigenvalues and eigenvectors are used to find the properties of a matrix\n",
        "\n",
        "#if A * V = lambda * V, then lambda is an eigenvalue of A and V is an eigenvector of A\n",
        "#Geometric interpretation: Eigenvalues represent the scaling factor of the eigenvectors\n",
        "#while eigenvectors represent the direction of the eigenvectors\n",
        "# matrix of size n x n has n eigenvalues and n eigenvectors\n",
        "#for a symmetric matrix, the eigenvalues are real and the eigenvectors are orthogonal\n",
        "\n",
        "#Matrix decomposition is a way to decompose a matrix into its eigenvalues and eigenvectors.\n",
        "#It's a way of breaking down a matrix into its basic components to solve or analyze a problem.\n",
        "#Singular Value Decomposition (SVD) is a matrix decomposition technique that decomposes\n",
        "#a matrix into its eigenvalues and eigenvectors i.E A = U * S * Vt where\n",
        "#U is a unitary matrix or left singular vectors, S is a diagonal matrix,\n",
        "#and Vt is the transpose of V or right singular vectors\n",
        "\n",
        "#SVD\n",
        "U, S, Vt = np.linalg.svd(A)\n",
        "print(\"U: \\n\", U)\n",
        "print(\"Singular Values: \\n\", S)\n",
        "print(\"V Transpose: \\n\", Vt)\n",
        "\n",
        "eigenValues, eigneVectors = np.linalg.eig(A)\n",
        "print(\"EigenVal\\n\", eigenValues)\n",
        "print(\"EigenVectors\\n\", eigneVectors)\n",
        "\n",
        "B = np.array([[4, 2], [1, 1]])\n",
        "eigval, eigvec = np.linalg.eig(B)\n",
        "print(\"EigVal: \",eigval)\n",
        "print(\"EigVect: \\n\",eigvec)"
      ],
      "metadata": {
        "colab": {
          "base_uri": "https://localhost:8080/"
        },
        "id": "eoOlWKUotonp",
        "outputId": "f91d8948-7791-4653-f2b0-bdad9c2e7ea2"
      },
      "execution_count": null,
      "outputs": [
        {
          "output_type": "stream",
          "name": "stdout",
          "text": [
            "U: \n",
            " [[-0.65520174 -0.75545395]\n",
            " [-0.75545395  0.65520174]]\n",
            "Singular Values: \n",
            " [5.39834564 0.92620968]\n",
            "V Transpose: \n",
            " [[-0.38268343 -0.92387953]\n",
            " [-0.92387953  0.38268343]]\n",
            "EigenVal\n",
            " [1. 5.]\n",
            "EigenVectors\n",
            " [[-0.9486833  -0.70710678]\n",
            " [ 0.31622777 -0.70710678]]\n",
            "EigVal:  [4.56155281 0.43844719]\n",
            "EigVect: \n",
            " [[ 0.96276969 -0.48963374]\n",
            " [ 0.27032301  0.87192821]]\n"
          ]
        }
      ]
    },
    {
      "cell_type": "code",
      "source": [
        "#Exercise 1 : calculate the determinant and inverse of matrix\n",
        "\n",
        "import numpy as np\n",
        "\n",
        "A = np.array([[2, 3, 4], [1, 5, 6], [7, 8, 9]])\n",
        "\n",
        "determinant = np.linalg.det(A)\n",
        "inverse = np.linalg.inv(A)\n",
        "\n",
        "print(\"Determinant: \", determinant)\n",
        "print(\"Inverse: \", inverse)\n",
        "\n",
        "#Ex 2: calculate eigenvalues and eigenvectors of 2 x 2 matrix\n",
        "import numpy as np\n",
        "\n",
        "\n",
        "A = np.array([[4, -2],[1, 1]])\n",
        "\n",
        "eigvals, eigvec = np.linalg.eig(A)\n",
        "\n",
        "print(\"EigenValues: \",eigvals)\n",
        "print(\"EigenVectors: \\n\",eigvec)\n",
        "\n"
      ],
      "metadata": {
        "colab": {
          "base_uri": "https://localhost:8080/"
        },
        "id": "inpuZtLUwGbG",
        "outputId": "f646cc64-647b-4e2d-8931-2627ab29516c"
      },
      "execution_count": null,
      "outputs": [
        {
          "output_type": "stream",
          "name": "stdout",
          "text": [
            "Determinant:  -15.000000000000007\n",
            "Inverse:  [[ 0.2        -0.33333333  0.13333333]\n",
            " [-2.2         0.66666667  0.53333333]\n",
            " [ 1.8        -0.33333333 -0.46666667]]\n"
          ]
        }
      ]
    },
    {
      "cell_type": "code",
      "source": [
        "#Ex 3: compute the SVD of a 3 x 3 matrix\n",
        "import numpy as np\n",
        "\n",
        "A = np.array([[3, 1, 1], [-1, 3, 1], [1, 1, 3]])\n",
        "U, S, Vt = np.linalg.svd(A)\n",
        "\n",
        "print(\"U:\\n\", U)\n",
        "print(\"Singular Values:\\n\", S)\n",
        "print(\"V Transpose:\\n\", Vt)\n",
        "\n",
        "# Reconstruct means to reconstruct the original matrix from its singular value decomposition\n",
        "Sigma = np.zeros((3, 3)) # Create a 3x3 matrix filled with zeros\n",
        "np.fill_diagonal(Sigma, S) # Fill the diagonal with the singular values\n",
        "reconstructed = U @ Sigma @ Vt # Reconstruct the original matrix,\n",
        "#which means to multiply U, Sigma, and Vt\n",
        "print(\"Reconstructed Matrix \\n\", reconstructed)\n",
        "\n",
        "#Additional practice\n",
        "#compute the eigenvalues and eigenvectors of a 3 x 3 matrix or larger matrix\n",
        "#Use SVD to reduce the dimensionality of a dataset\n",
        "#Verify the properties of eigenvalues: det(A - lambda I) = 0"
      ],
      "metadata": {
        "colab": {
          "base_uri": "https://localhost:8080/"
        },
        "id": "ShOp-hzS8Olz",
        "outputId": "37cc25bf-1878-491c-8656-2b4c76c9e0c4"
      },
      "execution_count": null,
      "outputs": [
        {
          "output_type": "stream",
          "name": "stdout",
          "text": [
            "U:\n",
            " [[-0.57735027  0.57735027 -0.57735027]\n",
            " [-0.4412247  -0.81558342 -0.37435872]\n",
            " [-0.68701342  0.03860509  0.7256185 ]]\n",
            "Singular Values:\n",
            " [4.48261292 3.17102979 1.68841687]\n",
            "V Transpose:\n",
            " [[-0.4412247  -0.57735027 -0.68701342]\n",
            " [ 0.81558342 -0.57735027 -0.03860509]\n",
            " [-0.37435872 -0.57735027  0.7256185 ]]\n",
            "Reconstructed Matrix \n",
            " [[ 3.  1.  1.]\n",
            " [-1.  3.  1.]\n",
            " [ 1.  1.  3.]]\n"
          ]
        }
      ]
    },
    {
      "cell_type": "markdown",
      "source": [
        "# CALCULUS FOR MACHINE LEARNING (DERIVATIVES)"
      ],
      "metadata": {
        "id": "arB9p1kE_V4w"
      }
    },
    {
      "cell_type": "code",
      "source": [
        "#Introduction to derivatives and their role in optimization\n",
        "#Derivatives are used to calculate the rate of change of a function with respect to an input or variable\n",
        "#Derivatives are used to find the maximum or minimum value of a function\n",
        "#For a function f(x), the derivative of f(x) is denoted as f'(x) indicating the slope of the tangent\n",
        "#line to the function at the point x\n",
        "\n",
        "#Role in optimization: Derivatives are used to find the local maximum or minimum of a function\n",
        "#Derivatives are used to find the direction of steepest ascent or descent\n",
        "#Derivatives are used to find the optimal value of a function\n",
        "\n",
        "#Example : f(x) = x^2, the derivative of f(x) is f'(x) = 2x\n",
        "#Example : f(x) = sin(x), the derivative of f(x) is f'(x) = cos(x)\n",
        "#Example : f(x) = x^3, the derivative of f(x) is f'(x) = 3x^2\n",
        "#Example : f(x) = e^x, the derivative of f(x) is f'(x) = e^x\n",
        "\n",
        "\n",
        "#Partial derivatives are used to calculate the rate of change of a function with respect to multiple variables\n",
        "#It measures the rate of change of a function when one of the variables is held constant\n",
        "#Partial derivatives are used to find the direction of steepest ascent or descent\n",
        "#Example : f(x, y) = x^2 + y^2, the partial derivatives of f(x, y) are f'_x(x, y) = 2x and f'_y(x, y) = 2y\n",
        "\n",
        "#Gradients are used to find the direction of steepest ascent or descent and it is a vector\n",
        "#Example : f(x, y) = x^2 + y^2, the gradient of f(x, y) is grad(f(x, y)) = [2x, 2y]"
      ],
      "metadata": {
        "id": "jEbC0U3LE0_m"
      },
      "execution_count": null,
      "outputs": []
    },
    {
      "cell_type": "markdown",
      "source": [
        "  Imagine you're driving a car, and you want to know your speed at any given moment. The derivative is **like your speedometer—it tells you the rate of change of your position (the function) with respect to time (the input)**. In this case, the slope of the tangent line would represent your speed at a particular instant. This comment is setting the stage for using derivatives in machine learning, likely for optimization tasks where you want to find the best values for certain parameters. Derivatives are essential for these tasks because they help you understand how changing those parameters will affect the outcome."
      ],
      "metadata": {
        "id": "I_BMJlivGZms"
      }
    },
    {
      "cell_type": "code",
      "source": [
        "import sympy as sp\n",
        "\n",
        "x = sp.Symbol('x') # Create a symbolic variable x\n",
        "f = x**2 # Define the function f(x) = x^2\n",
        "derivative = sp.diff(f, x) #sp.diff is used to calculate derivative\n",
        "\n",
        "print(\"Derivative: \", derivative)\n",
        "\n",
        "\n",
        "#Partial derivatives\n",
        "x, y = sp.symbols('x y')\n",
        "f = x**2 + y**2\n",
        "grad_x = sp.diff(f, x)\n",
        "grad_y = sp.diff(f, y)\n",
        "\n",
        "print(\"Partial Derivatives:\", grad_x, grad_y)"
      ],
      "metadata": {
        "colab": {
          "base_uri": "https://localhost:8080/"
        },
        "id": "j9fhH9tCHuVv",
        "outputId": "d1f6f491-60e9-456e-d2d6-ea88e3a7e1e0"
      },
      "execution_count": null,
      "outputs": [
        {
          "output_type": "stream",
          "name": "stdout",
          "text": [
            "Derivative:  2*x\n",
            "Partial Derivatives: 2*x 2*y\n"
          ]
        }
      ]
    },
    {
      "cell_type": "code",
      "source": [
        "#Gradient descent is a technique used in optimization to find the minimum value of a function\n",
        "#It works by iteratively updating the value of a variable in the direction of the steepest ascent\n",
        "#i.e it updates parameters in the direction of the negative gradient of the loss function to find the minimum value\n",
        "#Update rule: x_new = x_old - learning_rate * gradient or teta_new = teta_old - learning_rate * gradient\n",
        "#Gradient descent is important in machine learning because it is used to find the minimum value of a loss function"
      ],
      "metadata": {
        "id": "TRouusTYJ_P2"
      },
      "execution_count": null,
      "outputs": []
    },
    {
      "cell_type": "markdown",
      "source": [
        "### What Is Gradient Descent?\n",
        "Imagine you're hiking on a mountain, but your goal is to reach the lowest point in the valley. You don’t have a map, but you can sense the slope of the ground beneath your feet. So, you take small steps downhill, always moving in the direction where the slope is steepest. Eventually, you reach the bottom.\n",
        "\n",
        "Gradient descent is like this hike. It's a mathematical way for machine learning algorithms to \"learn\" by finding the lowest point of a function—a process called optimization. The \"lowest point\" often corresponds to the best model, like a line of best fit for data, or the ideal weights in neural networks.\n",
        "\n",
        "### How Does It Work?\n",
        "The algorithm works step-by-step:\n",
        "1. **Start somewhere** (like random initial weights for a model).\n",
        "2. **Calculate the slope** (the gradient). This tells you the direction to move.\n",
        "3. **Take a step downhill** (adjust the model parameters slightly).\n",
        "4. **Repeat until you reach the bottom** (when the slope becomes zero or very small).\n",
        "\n",
        "### Examples in Machine Learning\n",
        "#### 1. **Training Neural Networks:**\n",
        "In machine learning, models like neural networks start with random guesses (parameters called weights). Gradient descent helps adjust these weights step by step to minimize the error between predictions and actual data.\n",
        "\n",
        "For example, imagine you're teaching a model to recognize cat images. Initially, the model may misidentify a dog as a cat. Gradient descent helps tweak the model to improve accuracy—like making it \"focus\" on a cat's ears or whiskers instead of features shared with dogs.\n",
        "\n",
        "#### 2. **Linear Regression:**\n",
        "In linear regression, you're trying to find the line that best fits the data points. Gradient descent helps calculate the slope of the error function (how far predictions are from actual values) and adjusts the line's position to minimize this error.\n",
        "\n",
        "For instance, predicting house prices based on square footage: Gradient descent adjusts parameters to make the predicted prices as close to the actual values as possible.\n",
        "\n",
        "#### 3. **Logistic Regression for Classification:**\n",
        "In classification problems (e.g., spam detection), gradient descent finds the model parameters that minimize classification errors. The algorithm adjusts decision boundaries to separate categories like spam vs. not spam more effectively.\n",
        "\n",
        "### A Simple Analogy\n",
        "Think of gradient descent like pouring syrup on a hill. The syrup flows downhill, following the steepest path until it pools at the bottom. This pooling represents finding the optimal solution.\n",
        "\n",
        "### Key Context in Machine Learning\n",
        "Gradient descent is the engine behind many machine learning models. It's used in:\n",
        "- Training deep learning models (neural networks).\n",
        "- Optimizing decision boundaries for classification algorithms.\n",
        "- Finding patterns in large datasets.\n",
        "\n",
        "### **Theta (θ):**  \n",
        "Think of θ as the \"knobs\" or parameters of the model, like the slope and intercept of a line in linear regression. Gradient descent adjusts these knobs to reduce errors and improve predictions.\n",
        "\n",
        "### **Learning Rate (α):**  \n",
        "The learning rate decides the **size of each step downhill** in gradient descent.  \n",
        "- A **small learning rate** means slow but steady progress.  \n",
        "- A **large learning rate** can overshoot the minimum or even cause instability.\n",
        "\n",
        "### **Iterations:**  \n",
        "Iterations are the number of steps taken during gradient descent. With each iteration, θ gets updated, moving closer to the optimal values (the bottom of the valley). More iterations may be needed if the learning rate is small or the valley is hard to reach.\n",
        "\n",
        "In short:\n",
        "- **θ**: What we’re adjusting.  \n",
        "- **α**: How big each adjustment is.  \n",
        "- **Iterations**: How many adjustments we make."
      ],
      "metadata": {
        "id": "fIwaqdypLobp"
      }
    },
    {
      "cell_type": "markdown",
      "source": [
        "Imagine you're trying to find the lowest point in a valley while blindfolded. You can only feel the slope of the ground beneath your feet.\n",
        "\n",
        "This function is like a set of instructions to help you reach the bottom of the valley. Here's how it works:\n",
        "\n",
        "**Starting Point:** You start somewhere random in the valley (theta).\n",
        "\n",
        "**Feeling the Slope:** You feel the slope of the ground (gradients). This tells you which direction is downhill.\n",
        "\n",
        "**Taking a Step:** You take a small step downhill (learning_rate) in the direction of the steepest descent. This adjusts your position (theta).\n",
        "\n",
        "**Repeat:** You keep feeling the slope and taking small steps downhill for a certain number of times (iterations).\n",
        "\n",
        "Reaching the Bottom: Eventually, you reach the lowest point in the valley – the optimal solution! The function returns your final position (theta).\n",
        "\n",
        "-\n",
        "def gradient_descent(...): This line defines a function named gradient_descent. Functions are reusable blocks of code.\n",
        "\n",
        "X: This represents the feature matrix. In simpler terms, it's the input data to your model. Each row in X typically represents one data point, and each column represents a different feature (like age, income, etc.). Think of this as a map of the valley, showing its features and terrain.\n",
        "\n",
        "y: This is the target vector or the output you want the model to predict. It contains the correct answers corresponding to each data point in X. This is the ideal destination at the bottom of the valley.\n",
        "\n",
        "theta: This is the parameter vector. These are the internal values of your model that get adjusted during training. Think of them as the model's settings or knobs. Think of this as your current position in the valley\n",
        "\n",
        "learning_rate: This is a small number that controls how much theta is updated in each step of the algorithm. It's like the size of the steps you take when descending a hill. This is how big of a step you take each time. Too big, and you might overshoot the bottom; too small, and it will take a long time to get there.\n",
        "\n",
        "iterations: This determines the **number of times the algorithm will loop through the data to update theta**. More iterations mean more chances for the model to improve, but it also takes longer to train. This is the number of steps you are allowed to take\n",
        "\n",
        "m = len(y): This line simply calculates the number of data points you have.\n",
        "for _ in range(iterations):: This loop runs for the specified number of iterations. The underscore _ is just a placeholder since we don't need to use the loop counter variable directly.\n",
        "\n",
        "predictions = np.dot(X, theta): This calculates the model's predictions using the current values of theta and the input data X. It's essentially applying the model to your data. This is like using your map (X) and current position (theta) to estimate where you think the bottom of the valley is.\n",
        "\n",
        "errors = predictions - y: This line calculates the difference between the model's predictions and the actual y values. These differences are the errors the model is making. This is comparing your estimate (predictions) with the actual destination (y) to see how far off you are.\n",
        "\n",
        "gradients = (1/m) * np.dot(X.T, errors):m is the number of datapoints (samples) in the dataset. By dividing everything by m, you're calculating the average gradient so that the updates to your model are balanced and don't depend on the size of the dataset. X is the matrix of your input features (think of rows as data points and columns as features like height, weight, etc.). (X.T) is the transpose of that matrix, which essentially flips it: rows become columns and vice versa. This flipping makes the dimensions work for the next step. (np.dot)\n",
        "is a fancy way to multiply matrices. You're multiplying the transposed input matrix (X.T) with the (errors) . The (errors)are the differences between your model's predictions and the actual values (how wrong the model currently is). This multiplication finds how much each feature (like height or weight) contributes to the errors. After dividing by  and multiplying, you get the average direction and strength of the adjustments (gradients) your model needs to make for each feature. This is like feeling the slope of the ground to figure out the direction of the steepest descent.\n",
        "Think of your model like a gardener trying to grow plants in a garden. The  tell the gardener how far each plant is from being healthy.  contains information about the soil, sunlight, and water conditions. The gardener uses this information (and averages it across all plants) to decide how much to tweak each condition (features) to make the plants healthier.\n",
        "In short, this code calculates the \"recipe\" for how the model should adjust itself to reduce its mistakes and improve predictions\n",
        "\n",
        "theta -= learning_rate * gradients: This is where the model is updated. theta is adjusted by a small amount (determined by the learning_rate) in the opposite direction of the gradients. This move nudges theta towards values that reduce the error. This is taking a step downhill in the direction indicated by the slope.\n",
        "\n",
        "return theta: After all the iterations, the function returns the optimized theta values. These are the parameters that the model has learned to best fit the data. This gives you your final position, hopefully at or very near the bottom of the valley.\n",
        "\n",
        "In Summary\n",
        "The gradient_descent function implements the gradient descent algorithm to find the optimal parameters (theta) for a model. It does this by:\n",
        "\n",
        "Making predictions using the current model.\n",
        "Calculating the errors in the predictions.\n",
        "Calculating the gradients to find the direction of improvement.\n",
        "Updating the model's parameters (theta) to reduce errors.\n",
        "Repeating this process for a set number of iterations.\n",
        "\n",
        "In simple terms, this function helps a machine learning model \"learn\" by adjusting its internal settings (theta) to minimize errors and improve its predictions, just like you would adjust your steps to find the lowest point in a valley."
      ],
      "metadata": {
        "id": "N7H5KQFRbR2m"
      }
    },
    {
      "cell_type": "code",
      "source": [
        "#Exercise 1: Compute derivatives of Basic Functions\n",
        "\n",
        "import sympy as sp\n",
        "\n",
        "# Define a function\n",
        "x = sp.Symbol('x')\n",
        "f = x**3 - 5*x + 7\n",
        "\n",
        "# Compute Derivative\n",
        "derivative = sp.diff(f, x)\n",
        "\n",
        "print(\"Function: \", f)\n",
        "print(\"Derivative: \", derivative)\n",
        "\n",
        "#Exercise 2: Compute the gradients\n",
        "\n",
        "import sympy as sp\n",
        "\n",
        "# Define a multivariable function\n",
        "x, y = sp.symbols('x y')\n",
        "f = x**2 + 3*y**2 - 4*x*y\n",
        "\n",
        "# Compute partial derivatives\n",
        "grad_x = sp.diff(f, x)\n",
        "grad_y = sp.diff(f, y)\n",
        "\n",
        "print(\"Gradients:\")\n",
        "print(\"Grad X:\", grad_x)\n",
        "print(\"Grad Y:\", grad_y)\n",
        "\n",
        "#Exercise 3: Compute the gradient descent for linear regression\n",
        "\n",
        "import sympy as sp\n",
        "\n",
        "import numpy as np\n",
        "\n",
        "# Define the gradient descent function\n",
        "def gradient_descent(X, y, theta, learning_rate, iterations): # X is the feature matrix,\n",
        "#y is the target vector, theta is the initial parameter vector,\n",
        "#learning_rate is simply the step size used to update the parameters,\n",
        "#iterations is simply the number of iterations used to update the parameters\n",
        "    m = len(y) # Number of data points\n",
        "    for _ in range(iterations):\n",
        "        predictions = np.dot(X, theta) #np.dot is used to calculate the dot product of two arrays\n",
        "        errors = predictions - y\n",
        "        gradients = (1/m) * np.dot(X.T, errors)\n",
        "        theta -= learning_rate * gradients\n",
        "    return theta\n",
        "\n",
        "# Sample Data\n",
        "X = np.array([[1, 1], [1, 2], [1, 3]])\n",
        "y = np.array([2, 2.5, 3.5])\n",
        "theta = np.array([0.1, 0.1]) # Initial parameters\n",
        "learning_rate = 0.1\n",
        "iterations = 1000\n",
        "\n",
        "# Perform gradinet descent\n",
        "optimized_theta = gradient_descent(X, y, theta, learning_rate, iterations)\n",
        "X = np.array([[1, 1], [1, 2], [1, 3]])\n",
        "y = np.array([2, 2.5, 3.5])\n",
        "theta = np.array([0.1, 0.1]) # Initial parameters\n",
        "learning_rate = 0.1\n",
        "iterations = 1000\n",
        "\n",
        "# Perform gradient descent\n",
        "optimized_theta = gradient_descent(X, y, theta, learning_rate, iterations)\n",
        "#gradient_descent is used to update the parameters\n",
        "\n",
        "#gradient_descent is used to update the parameters\n",
        "\n",
        "print(\"Optimized Parameters: \", optimized_theta)"
      ],
      "metadata": {
        "colab": {
          "base_uri": "https://localhost:8080/"
        },
        "id": "lwXOGWHiL1Ky",
        "outputId": "d79a16f6-7c55-409e-9c8f-bccb136c8ccf"
      },
      "execution_count": null,
      "outputs": [
        {
          "output_type": "stream",
          "name": "stdout",
          "text": [
            "Function:  x**3 - 5*x + 7\n",
            "Derivative:  3*x**2 - 5\n",
            "Gradients:\n",
            "Grad X: 2*x - 4*y\n",
            "Grad Y: -4*x + 6*y\n",
            "Optimized Parameters:  [1.166663   0.75000161]\n"
          ]
        }
      ]
    },
    {
      "cell_type": "code",
      "source": [
        "#Additional practice\n",
        "\n",
        "#Use sympy to compute second order derivatives (Hessian matrix)\n",
        "#implement gradient with multiple learning rates and compare convergence speed\n",
        "#visualize gradient descent process on a quadratic function"
      ],
      "metadata": {
        "id": "HoycjPzOkVYB"
      },
      "execution_count": null,
      "outputs": []
    },
    {
      "cell_type": "markdown",
      "source": [
        "# CALCULUS FOR MACHINE LEARNING (INTEGRALS AND OPTIMIZATION)"
      ],
      "metadata": {
        "id": "r2l-_JK_hDNV"
      }
    },
    {
      "cell_type": "code",
      "source": [
        "# Integrals in Machine Learning\n",
        "\n",
        "# Definition:\n",
        "# An integral is a mathematical concept that represents the accumulation of a quantity over a continuous range.\n",
        "#Imagine you're calculating the area under a curve on a graph. An integral is a mathematical tool that helps\n",
        "#you do this. Instead of adding up tiny bits manually, integrals let you compute it elegantly, using formulas.\n",
        "\n",
        "#Indefinite integral is defined as: a recipe for all possible areas under a curve\n",
        "# but without a specific start or end point. It gives you a function (plus a constant C)\n",
        "# that represents the accumulation of area.\n",
        "#Indefinite Integral = \\int f(x) dx\n",
        "#Example: If you integrate (2x), the result is (x^2 + C). The constant (C)\n",
        "#appears because you don't have boundaries to limit the area.\n",
        "\n",
        "#The definite integral of f(x) from a to b is defined as a specific area under the curve f(x) between two points\n",
        "# on the graph defined by a and b. It gives you a number that represents the exact area within those limits.\n",
        "#Integral = \\int_a^b f(x) dx\n",
        "#Example: If you integrate (2x) from 0 to 5, the result is (5^2 - 0^2).\n",
        "\n",
        "\n",
        "# Applications in ML:\n",
        "# 1. Probability Distributions: The area under a probability density function (PDF)\n",
        "#over a specific range represents the probability of a random variable falling within that range.\n",
        "\n",
        "# 2. Expected Values:  Expected value, a crucial concept in statistics and ML, is calculated using integrals.\n",
        "#It represents the average value of a random variable, weighted by its probability distribution.\n",
        "#This is used in decision-making and risk assessment in many algorithms.\n",
        "\n",
        "#3. Cost functions: Some cost functions might involve integrals if they involve continuous outputs\n",
        "#or involve the area under a curve (e.g., AUC-ROC).\n",
        "\n",
        "# 4. Loss Functions: Some advanced loss functions involve integration.\n",
        "#For example, in certain types of generative models or when dealing with continuous outputs,\n",
        "# integrals might be used to quantify the \"distance\" or \"difference\" between predictions and true values.\n",
        "\n",
        "# 5. Evaluating Model Performance: Some metrics for evaluating the performance of models\n",
        "#might involve integrals if they deal with continuous outputs or involve\n",
        "#the area under a curve (e.g., AUC-ROC).\n",
        "\n"
      ],
      "metadata": {
        "id": "qQ__bkQ7hu44"
      },
      "execution_count": null,
      "outputs": []
    },
    {
      "cell_type": "markdown",
      "source": [
        "power rule states that the integral of x**n is (x**(n+1))/(n+1) + C (where C is the constant of integration).  Maths: ∫(from 0 to 2) x**2 dx.\n",
        "\n",
        "In our case, n = 2. So, the integral of x**2 is (x**(2+1))/(2+1) = x**3/3.\n",
        "\n",
        "Evaluating the Definite Integral:\n",
        "\n",
        "We need to evaluate the result at the upper limit (2) and the lower limit (0) and subtract:\n",
        "\n",
        "[x**3/3](from 0 to 2) = (2**3/3) - (0**3/3) = 8/3 - 0 = 8/3\n",
        "\n",
        "the indefinite integral of the function f(x) = x**2. This is written as:\n",
        "\n",
        "∫ x**2 dx\n",
        "\n",
        "Applying the Power Rule (again): As before, the integral of x**2 is x**3/3.\n",
        "\n",
        "The Constant of Integration: Since this is an indefinite integral (no specific limits), we need to add the constant of integration, C.\n",
        "\n",
        "The Result: The indefinite integral of x**2 is x3/3 + C. This represents a family of functions whose derivatives are all equal to `x2"
      ],
      "metadata": {
        "id": "RUnrqv2l2_3J"
      }
    },
    {
      "cell_type": "code",
      "source": [
        "import sympy as sp\n",
        "\n",
        "x = sp.Symbol('x') # Define a symbolic variable x\n",
        "f = x**2 # Define the function f(x) = x^2\n",
        "definite_integral = sp.integrate(f, (x, 0, 2)) # Compute the definite integral of f(x) from 0 to 2\n",
        "indefinite_integral = sp.integrate(f, x) # Compute the indefinite integral of f(x)\n",
        "print(\"Definite Integral:\", definite_integral)\n",
        "print(\"Indefinite Integral:\", indefinite_integral)"
      ],
      "metadata": {
        "colab": {
          "base_uri": "https://localhost:8080/"
        },
        "id": "G3lAsFwHjnxs",
        "outputId": "e3508946-b120-44cd-f3df-a44fcf1bae9a"
      },
      "execution_count": null,
      "outputs": [
        {
          "output_type": "stream",
          "name": "stdout",
          "text": [
            "Definite Integral: 8/3\n",
            "Indefinite Integral: x**3/3\n"
          ]
        }
      ]
    },
    {
      "cell_type": "code",
      "source": [
        "#Optimization in Machine Learning\n",
        "\n",
        "#Optimization is the process of finding the best possible solution for a given problem.\n",
        "#In Machine Learning, optimization is used to find the optimal parameters for a model i.e the local minima of the loss function\n",
        "\n",
        "#Local Minima:a point in a function where the function is lower than all the points around it.\n",
        "\n",
        "#Global Minima:a point in a function where the function is lower than all the points in the entire space.\n",
        "\n",
        "#Local Minima and Global Minima are important concepts in optimization because they represent the best possible\n",
        "#solution for a given problem.\n",
        "\n",
        "\n",
        "#Convex functions: A function is convex if it has a concave shape. It ensures that the local minima is the global minima\n",
        "#formular for convex functions: f(lamda * x1 + (1 - lamda) * x2) <= lamda * f(x1) + (1 - lamda) * f(x2) for all lamda in [0, 1]\n",
        "\n",
        "#Non convex functions in Machine learning: Loss functions in neural networks, Regularization terms,\n",
        "# and other constraints that make the optimization problem non-convex."
      ],
      "metadata": {
        "id": "OmrqIWOn4EQN"
      },
      "execution_count": null,
      "outputs": []
    },
    {
      "cell_type": "code",
      "source": [
        "# #Stochastic Gradient Descent (SGD) and its variants\n",
        "\n",
        "# #Stochastic Gradient Descent (SGD) is a popular optimization algorithm used in Machine Learning to find the optimal\n",
        "# #parameters for a model. It works by updating the parameters in the direction of the gradient of the loss function\n",
        "# #using only a single data point at a time.\n",
        "\n",
        "# ### What Is Stochastic Gradient Descent?\n",
        "# Imagine you're still hiking down a mountain to find the lowest point in the valley (just like with regular gradient descent).\n",
        "# But this time, instead of carefully considering the entire slope (all the data), you're making decisions based on\n",
        "#just one rock or patch of ground at a time. You’re guessing the right direction to move,\n",
        "#and while it might be a bit bumpy, it’s much faster. This is **SGD** in a nutshell.\n",
        "\n",
        "# While regular gradient descent uses the **entire dataset** to calculate the best \"step downhill,\" SGD uses **only a single data point**\n",
        " #(or a small group, called a \"mini-batch\") at a time. This makes it quicker but sometimes a bit noisier.\n",
        "\n",
        "# ### How It Works\n",
        "# 1. Pick one data point from your dataset.\n",
        "# 2. Calculate the gradient (slope) using only that data point.\n",
        "# 3. Update the model’s parameters (weights) accordingly.\n",
        "# 4. Repeat for the next data point, and so on, until you've cycled through all data (an **epoch**) multiple times.\n",
        "\n",
        "# ### Differences from Regular Gradient Descent\n",
        "# - **Regular Gradient Descent:** Slower, as it uses the full dataset to calculate an exact step.\n",
        "# - **SGD:** Faster but noisier, as it uses a single data point at a time, leading to more random movements toward the solution.\n",
        "\n",
        "# ### Analogy\n",
        "# Imagine you're trying to figure out the overall mood of a crowd at a concert.\n",
        "# - With regular gradient descent, you ask **everyone** in the crowd how they're feeling and make a carefully calculated response.\n",
        "# - With SGD, you randomly ask **just one person** and quickly act based on their answer.\n",
        "#It's faster, though it might take a little longer to \"settle down\" to a good understanding of the crowd's mood.\n",
        "\n",
        "# ### Context in Machine Learning\n",
        "# SGD is widely used in machine learning, especially for large datasets and deep learning, because:\n",
        "# - It's **faster** and more scalable, making it ideal for huge datasets (like image or text data).\n",
        "# - Noise (randomness) can actually help it **escape local minima** (places that are not the best solution).\n",
        "\n",
        "# For example:\n",
        "# - In **training neural networks**, SGD helps adjust the model's weights quickly by using smaller chunks of data.\n",
        "# - In **recommendation systems**, SGD updates model parameters (like preferences)\n",
        "#  as new user data (e.g., movie ratings) comes in.\n",
        "\n",
        "# And that’s Stochastic Gradient Descent—quick, noisy, but very effective for finding the optimal solution.\n",
        "\n",
        "#Variants of SGD:\n",
        "# - Mini-batch SGD: Use a subset of the dataset at each iteration, rather than the full dataset.\n",
        "# - Stochastic Gradient Descent (SGD): Use a single data point at a time.\n",
        "# - Adam: A variant of SGD that uses adaptive learning rates for each parameter.\n",
        "# - Adagrad: A variant of SGD that uses a learning rate that decreases as training progresses.\n",
        "#- Momentum: A variant of SGD that uses a moving average of the gradients to smooth out the updates."
      ],
      "metadata": {
        "id": "x3O3ZKlK5_ly"
      },
      "execution_count": null,
      "outputs": []
    },
    {
      "cell_type": "code",
      "source": [
        "#Exercise 1: Integrals of simple functions\n",
        "\n",
        "import sympy as sp\n",
        "\n",
        "# Define a function\n",
        "x = sp.Symbol('x')\n",
        "f = sp.exp(-x) # Define the function f(x) = e^(-x)\n",
        "\n",
        "# Compute indefinite integral\n",
        "indefinite_integral = sp.integrate(f, x)\n",
        "print(\"Indefinite integral: \", indefinite_integral)\n",
        "\n",
        "# Compute definite integral\n",
        "definite_integral = sp.integrate(f, (x, 0, sp.oo)) # Compute the definite integral of f(x) from 0 to infinity(oo)\n",
        "print(\"Definite Integral: \", definite_integral)\n"
      ],
      "metadata": {
        "colab": {
          "base_uri": "https://localhost:8080/"
        },
        "id": "tDM4xZxlCiXd",
        "outputId": "167aae22-7ef6-4760-bd40-aad905d4ac32"
      },
      "execution_count": null,
      "outputs": [
        {
          "output_type": "stream",
          "name": "stdout",
          "text": [
            "Indefinite integral:  -exp(-x)\n",
            "Definite Integral:  1\n"
          ]
        }
      ]
    },
    {
      "cell_type": "markdown",
      "source": [
        "### **Bias term in machine learning**\n",
        "\n",
        "  is like a flexible adjustment knob. It allows the model to shift or fine-tune its predictions, even if all the input features are zero. This ensures the model isn’t forced to pass through the origin point (zero).\n",
        "\n",
        " Analogy\n",
        "Imagine you're trying to draw a line that best separates two groups of dots on a graph. The **weights** (parameters) determine the slope of the line, while the **bias** shifts the line up or down to better fit the data.\n",
        "\n",
        "Mathematical Example\n",
        "For a linear model:\n",
        "\\[\n",
        "y = w \\cdot x + b\n",
        "\\]\n",
        "Here:\n",
        "- \\(w\\) is the weight (controls the slope).  \n",
        "- \\(x\\) is the input.  \n",
        "- \\(b\\) is the bias, which lets the line move up or down.\n",
        "\n",
        "If \\(b = 0\\), the line must pass through the origin \\((0, 0)\\). Adding a bias allows it to better align with the data.\n",
        "\n",
        "Context in Neural Networks\n",
        "\n",
        "In a neural network, the bias is added to each neuron’s output. It enables the model to learn patterns more flexibly, especially for complex relationships where zero isn’t a meaningful starting point.\n",
        "\n",
        "In summary, the bias term acts as a translator, shifting predictions to better match the data."
      ],
      "metadata": {
        "id": "f29NAQCaHQnl"
      }
    },
    {
      "cell_type": "markdown",
      "source": [
        "Create Sample Data:\n",
        "\n",
        "np.random.seed(42): This ensures the random numbers generated are the same each time the code is run, making it reproducible.\n",
        "\n",
        "X = 2 * np.random.rand(100, 1): This creates 100 random points (X-values) for our data.\n",
        "\n",
        "y = 4 + 3 * X + np.random.randn(100, 1): This creates corresponding y-values using a linear equation (y = 4 + 3x) and adds some random noise to make the data more realistic.\n",
        "\n",
        "Prepare Data for the Model:\n",
        "\n",
        "X_b = np.c_[np.ones((100, 1)), X]: This adds a column of 1's to the X data. This extra column is for the bias term, which allows the model to make better predictions. Think of it as adjusting the starting point of a line.\n",
        "Stochastic Gradient Descent (SGD):\n",
        "\n",
        "def stochastic_gradient_descent(...): This defines a function to perform SGD, which is a way to find the best-fitting line for the data.\n",
        "Inside the function:\n",
        "It loops through the data multiple times (n_epochs).\n",
        "For each data point, it calculates how much the prediction is off (error).\n",
        "It adjusts the model's parameters (theta) a little bit to reduce the error.\n",
        "This process is repeated until the model makes good predictions.\n",
        "Initialize and Run:\n",
        "\n",
        "theta = np.random.randn(2, 1): This sets the starting values for the model's parameters (slope and bias).\n",
        "\n",
        "learning_rate = 0.01, n_epochs = 50: These control how quickly the model learns and how many times it loops through the data.\n",
        "\n",
        "theta_opt = stochastic_gradient_descent(...): This runs the SGD function to find the best parameters.\n",
        "\n",
        "print(\"Optimized Parameters:\", theta_opt): This shows the final values for the model's slope and bias, which represent the best-fitting line for the data.\n",
        "In simple terms, the code creates some data, uses SGD to find the best line to fit the data, and then shows you the equation of that line. SGD works by iteratively adjusting the line's slope and position based on errors in its predictions, eventually finding a good fit."
      ],
      "metadata": {
        "id": "LIXVwyLKNeyY"
      }
    },
    {
      "cell_type": "code",
      "source": [
        "#Exercise 2: Implement Stochastic Gradient Descent for a linear model\n",
        "\n",
        "import numpy as np\n",
        "\n",
        "# Generate synthetic data\n",
        "np.random.seed(42) # Set the random seed for reproducibility\n",
        "X = 2 * np.random.rand(100, 1) # Generate 100 random numbers between 0 and 1\n",
        "y = 4 + 3 * X + np.random.randn(100, 1) # Generate 100 random numbers between 0 and 1\n",
        "\n",
        "# Add bias term to X; np.c_ means adding a column of ones to X\n",
        "X_b = np.c_[np.ones((100, 1)), X] # Add a column of ones to X i.e np.c_ means concatenate horizontally\n",
        "#and np.ones(100, 1) means 100 rows and 1 column of ones\n",
        "\n",
        "# SGD Implementaion\n",
        "def stochastic_gradient_descent(X, y, theta, learning_rate, n_epocs):\n",
        "# X: input features, y: target values, theta: initial parameters, learning_rate: learning rate,\n",
        "# n_epocs: number of epochs(iterations over the whole dataset)\n",
        "    m = len(y)\n",
        "    for epoch in range(n_epocs): # For each epoch\n",
        "        for i in range(m): # For each data point in the dataset\n",
        "            random_index = np.random.randint(m) # Select a random data point from the dataset\n",
        "            xi = X[random_index:random_index+1] # Select the corresponding input features\n",
        "            yi = y[random_index:random_index+1] # Select the corresponding target value\n",
        "            gradients = 2 * xi.T @ (xi @ theta - yi) # Compute the gradients using the selected data point\n",
        "            theta -= learning_rate * gradients # Update the parameters using the gradients\n",
        "    return theta\n",
        "\n",
        "# initialize parameters\n",
        "theta = np.random.randn(2, 1) # Initialize theta with random values\n",
        "learning_rate = 0.01\n",
        "n_epochs = 50\n",
        "\n",
        "# Perform SGD\n",
        "theta_opt = stochastic_gradient_descent(X_b, y, theta, learning_rate, n_epochs)\n",
        "print(\"Optimized Parameters:\", theta_opt)"
      ],
      "metadata": {
        "colab": {
          "base_uri": "https://localhost:8080/"
        },
        "id": "IJDBD4ZvFoM1",
        "outputId": "a6fbe641-5e02-4936-e464-6dc3887fc5c5"
      },
      "execution_count": null,
      "outputs": [
        {
          "output_type": "stream",
          "name": "stdout",
          "text": [
            "Optimized Parameters: [[4.16427183]\n",
            " [2.69207144]]\n"
          ]
        }
      ]
    },
    {
      "cell_type": "code",
      "source": [
        "#Additional practice\n",
        "\n",
        "#- Visualize the loss function's surface and the SGD Optimization path\n",
        "#- Implement mini-batch SGD and compare it with SGD (vanilla)\n",
        "#- Implement Adam and Adagrad for complex dataset"
      ],
      "metadata": {
        "id": "yZcO3wVxN0Ko"
      },
      "execution_count": null,
      "outputs": []
    },
    {
      "cell_type": "markdown",
      "source": [
        "# PROBABILITY THEORY AND DISTRIBUTIONS"
      ],
      "metadata": {
        "id": "LRWU-3IcOpui"
      }
    },
    {
      "cell_type": "code",
      "source": [
        "#Probability basics\n",
        "#Probability is a mathematical concept that quantifies the likelihood of an event\n",
        "# or a set of events occurring in a given situation.\n",
        "\n",
        "#- Conditional probability: The probability of an event A given that event B has occurred.\n",
        "#formular is P(A | B) = P(A and B) / P(B)\n",
        "#example with a card deck: P(Ace | Spades) = P(Ace and Spades) / P(Spades)\n",
        "\n",
        "#-Bayes Theorem: The concept of conditional probability extended to multiple events.\n",
        "#formular is P(A | B) = P(B | A) * P(A) / P(B)\n",
        "#example with a card deck: P(Ace | Spades) = P(Spades | Ace) * P(Ace) / P(Spades)\n",
        "#Where:\n",
        "#P(A | B) means the probability of event A happening given that event B is true.\n",
        "#P(A) means Prior probability i.e overall probability of an event\n",
        "#P(B | A) means probability of event B happening given event A is true i.e likelihood\n",
        "#P(B) means overall probability of event B (evidence)\n",
        "\n",
        "# Bayes' Theorem helps us update our beliefs or predictions when we get new information.\n",
        "# It's like adjusting your guess based on fresh evidence. For example, if you're trying to figure out whether\n",
        "# it's likely to rain today, you might start with the weather forecast (prior knowledge) and then update your prediction\n",
        "# if you see dark clouds (new evidence).\n",
        "# In machine learning, Bayes' Theorem is crucial for algorithms like Naive Bayes,\n",
        "# which is used for tasks like spam email detection or text classification. It helps the model decide the\n",
        "# probability of a message being spam based on words it contains.\n",
        "\n",
        "# Bayes' Theorem is the backbone of Naive Bayes classifiers, popular for tasks like spam detection and text classification.\n",
        "# It works by calculating the likelihood of a class (e.g., \"spam\") for given data (e.g., an email's words) and deciding the most probable class.\n",
        "\n",
        "\n",
        "#- Joint probability: The probability of both event A and event B occurring.\n",
        "\n",
        "#- Independence: The absence of any relationship between the occurrence of two events.\n",
        "\n",
        "#Common Probability Distributions:\n",
        "\n",
        "#- Gaussian (normal) distribution: a continuous probability distribution that is symmetric about the mean.\n",
        "# It has two parameters; mean (μ) and standard deviation (σ).\n",
        "#Formular is P(x) = (1 / (σ * sqrt(2 * pi))) * exp(-0.5 * ((x - μ) / σ)**2)\n",
        "\n",
        "# ### What Is a Gaussian Distribution?\n",
        "# A Gaussian distribution is a bell-shaped curve that shows how data is spread out.\n",
        "# Most values cluster around the middle, and fewer values appear as you move away from the center.\n",
        "# it’s one of the most common ways to describe data in statistics and machine learning.\n",
        "\n",
        "# ### Key Characteristics\n",
        "# 1. **Mean (μ):** The center of the curve—where most data points are. Or the average value.\n",
        "# 2. **Standard Deviation (σ):** Controls the spread (narrow or wide) of the curve.\n",
        "#A smaller σ means data is tightly packed around the mean i.e bell curve is skinny, while a larger σ makes the curve wider.\n",
        "\n",
        "# ### Analogy\n",
        "# Imagine the heights of people in a class. Most students are around average height\n",
        " #(the peak of the curve), while very short and very tall students are fewer (the tails of the curve).\n",
        "\n",
        "# ### Examples in Machine Learning\n",
        "\n",
        "# 1. **Data Assumption:** Some algorithms assume the data follows a Gaussian distribution.\n",
        "# For example, in linear regression, the errors (differences between predictions and actual values)\n",
        "# are often expected to follow this distribution.\n",
        "# 2. **Classification:** In models like Naive Bayes, Gaussian distribution helps\n",
        "# describe how features (like height or weight) are spread across classes (e.g., male vs. female).\n",
        "# 3. **Random Noise:** Gaussian distribution is used to model noise—random variation\n",
        "# in data—for tasks like image processing or signal analysis.\n",
        "#Kernel Density Estimation (KDE): A non-parametric way to estimate the probability density function (PDF)\n",
        "\n",
        "# ### Intuition for Learning\n",
        "# Think of the Gaussian distribution as a flexible bell curve that models \"typical behavior\" in data.\n",
        "# It’s widely used because many real-world phenomena naturally follow this pattern, like test scores,\n",
        "#temperatures, or even machine learning errors.\n",
        "\n",
        "# A **Probability Density Function (PDF)** is a way to describe probabilities for a continuous random variable.\n",
        "# Instead of giving the chance of a single value (which is always 0), it shows how \"dense\" or \"concentrated\"\n",
        "# the probabilities are over a range.\n",
        "# For example, imagine measuring people's heights in centimeters. The PDF\n",
        "# doesn't tell you the chance someone is exactly 170 cm tall (since it's nearly\n",
        "# impossible to hit an exact value), but it can show the probability of being\n",
        "# between 170 and 175 cm. To get that range probability, you calculate the area\n",
        "# under the curve of the PDF between those two values. Think of the PDF like a\n",
        "# map of where probabilities are \"spread out\" across possible values.\n",
        "\n",
        "\n",
        "#- Bernoulli distribution: A discrete probability distribution that models the success or failure of a single event. i.e it\n",
        "#describes outcome of a binary experiment.\n",
        "#It has two parameters; p and 1-p.\n",
        "\n",
        "#formula is P(X = 1) = p and P(X = 0) = 1-p\n",
        "\n",
        "# ### What Is a Bernoulli Distribution?\n",
        "# A Bernoulli distribution models a situation where there are only two possible outcomes, like flipping a coin. One outcome is usually labeled as a \"success\" (1) and the other as a \"failure\" (0).\n",
        "\n",
        "# ### Key Idea\n",
        "# It’s like answering a yes/no question:\n",
        "# - Success (1) happens with a probability \\(p\\).\n",
        "# - Failure (0) happens with a probability \\(1 - p\\).\n",
        "\n",
        "# ### Example: Coin Flip\n",
        "# - If a coin is fair, the probability of heads (success) is \\(p = 0.5\\), and tails (failure) is \\(1 - 0.5 = 0.5\\).\n",
        "# - If the coin is biased, say \\(p = 0.7\\) for heads, the chance of tails becomes \\(1 - 0.7 = 0.3\\).\n",
        "\n",
        "# ### Why It Matters in Machine Learning\n",
        "# Bernoulli distribution is used for simple binary decisions, like:\n",
        "# - **Classifications:** Is this email spam (1) or not spam (0)?\n",
        "# - **Logistic Regression:** The output (prediction) of logistic regression is often modeled as following a Bernoulli distribution.\n",
        "# It’s the foundation for many models that deal with binary outcomes.\n",
        "\n",
        "\n",
        "#-Binomial distribution: A discrete probability distribution that models the number of successes in a sequence of independent trials.\n",
        "#It has two parameters; n and p.\n",
        "\n",
        "#formula is P(X = k) = (n choose k) * p**k * (1-p)**(n-k)\n",
        "\n",
        "### What Is a Binomial Distribution?\n",
        "# It models a situation where you're repeating an experiment multiple times,\n",
        "#and each experiment has only two outcomes (like success or failure).\n",
        "# It answers the question: *How many successes will I get in a certain number of tries?*\n",
        "\n",
        "# ### Key Idea\n",
        "# 1. Each trial is independent (the outcome of one doesn’t affect the others).\n",
        "# 2. The probability of success (\\(p\\)) stays the same for every trial.\n",
        "\n",
        "# ### Example: Coin Toss\n",
        "# Imagine flipping a coin 10 times and asking, \"How many heads will I get?\"\n",
        "# - Each flip has two outcomes: heads (success) or tails (failure).\n",
        "# - The binomial distribution tells you the likelihood of getting 0, 1, 2, ..., or 10 heads.\n",
        "\n",
        "# ### Why It Matters in Machine Learning\n",
        "# Binomial distribution is used when dealing with binary data over repeated trials, such as:\n",
        "# - **Predicting Success Rates:** If 10 people are shown an ad, how many will click on it?\n",
        "# - **Modeling Outcomes:** In A/B testing, it helps model the number of successes (e.g., conversions) for each group.\n",
        "# - **Logistic Regression:** The output (prediction) of logistic regression is often modeled as following a Binomial distribution.\n",
        "# In short, it’s all about counting successes in repeated yes/no experiments! Let me know if you’d like to dive deeper.\n",
        "\n",
        "\n",
        "\n",
        "#- Poisson distribution: A discrete probability distribution that models the number\n",
        "#of events that occur in a fixed interval of time or space.\n",
        "#It has one parameter; lambda.\n",
        "\n",
        "#formula is P(X = k) = (lambda**k / k!) * exp(-lambda)\n",
        "\n",
        "# Poisson distribution helps us understand how often an event happens in a fixed amount of time or space.\n",
        "# For example, it can predict how many cars might pass through a toll booth in an hour or how many emails you might get in a day.\n",
        "# It's like a tool to estimate the chances of rare events happening repeatedly.\n",
        "# It is important in machine learning because it helps model events that occur randomly over a fixed period or space.\n",
        "# It’s particularly useful for tasks involving count data or rare events, such as predicting the number of customer\n",
        "# arrivals at a store or the frequency of website clicks.\n",
        "\n"
      ],
      "metadata": {
        "id": "4NQDqb8iO2y8"
      },
      "execution_count": null,
      "outputs": []
    },
    {
      "cell_type": "code",
      "source": [
        "\n",
        "###Bayes Theorem\n",
        "\n",
        "def bayes_theorem(prior, likelihood, evidence):\n",
        "    return (likelihood * prior) / evidence\n",
        "\n",
        "import numpy as np\n",
        "import matplotlib.pyplot as plt\n",
        "\n",
        "#- Gaussian (normal) distribution\n",
        "\n",
        "mu, sigma = 0, 1 # mean and standard deviation\n",
        "x = np.linspace(-4, 4, 100) # generate 100 points between -4 and 4 for the x-axis\n",
        "y = (1 / (np.sqrt(2 * np.pi * sigma**2))) * np.exp(-0.5 * ((x - mu) / sigma)**2) # calculate the PDF(Probability\n",
        "# Density Function) at each point on the x-axis using the formula for the normal distribution\n",
        "\n",
        "plt.plot(x, y)\n",
        "plt.title(\"Gaussian Distribution\")\n",
        "plt.show()\n",
        "\n",
        "#Bernouli distribution\n",
        "p = 0.6 # probability of success\n",
        "plt.bar([0, 1], [1-p, p], color=\"blue\") # plot a bar chart with two bars, one for each outcome (0 and 1)\n",
        "#and their respective probabilities (1-p and p) using matplotlib\n",
        "plt.title(\"Bernoulli Distribution\")\n",
        "plt.xticks([0, 1], labels=[\"0 (Failure)\", \"1 (Success)\"])\n",
        "plt.show()\n",
        "\n",
        "#Binomial Distribution\n",
        "\n",
        "from scipy.stats import binom\n",
        "\n",
        "n, p = 10, 0.5 # number of trials is 10 and probability of success for each trial is 0.5\n",
        "x = np.arange(0, n+1) # generate an array of integers from 0 to n (inclusive)\n",
        "y = binom.pmf(x, n, p) # calculate the probability mass function (PMF) at each point on the x-axis using the binomial distribution\n",
        "\n",
        "#pmf just shows how likely each specific outcome is for something that can only have certain results,\n",
        "#pmf  tells you the chance of each possible outcome.\n",
        "#PMF is used for discrete random variables (e.g., rolling a die). It gives the exact probability\n",
        "#of a specific outcome, like the chance of rolling a 4.\n",
        "# For example, if you flip a coin, it shows the chance of getting heads or tails. It's just a simple way to see how likely each result is.\n",
        "plt.bar(x, y, color=\"green\")\n",
        "plt.title(\"Binomial Distribution\")\n",
        "plt.show()\n",
        "\n",
        "#Poisson Distribution\n",
        "\n",
        "from scipy.stats import poisson\n",
        "\n",
        "lam = 3\n",
        "x = np.arange(0, 10)\n",
        "y = poisson.pmf(x, lam)\n",
        "plt.bar(x, y, color=\"orange\")\n",
        "plt.title(\"Poisson Distribution\")\n",
        "plt.show()\n"
      ],
      "metadata": {
        "colab": {
          "base_uri": "https://localhost:8080/",
          "height": 1000
        },
        "id": "iIC6SIQ31o8a",
        "outputId": "04aef143-bfa8-499a-f2ad-71fe30608315"
      },
      "execution_count": null,
      "outputs": [
        {
          "output_type": "display_data",
          "data": {
            "text/plain": [
              "<Figure size 640x480 with 1 Axes>"
            ],
            "image/png": "[encoded data removed]"
          },
          "metadata": {}
        },
        {
          "output_type": "display_data",
          "data": {
            "text/plain": [
              "<Figure size 640x480 with 1 Axes>"
            ],
            "image/png": "[encoded data removed]"
          },
          "metadata": {}
        },
        {
          "output_type": "display_data",
          "data": {
            "text/plain": [
              "<Figure size 640x480 with 1 Axes>"
            ],
            "image/png": "[encoded data removed]"
          },
          "metadata": {}
        },
        {
          "output_type": "display_data",
          "data": {
            "text/plain": [
              "<Figure size 640x480 with 1 Axes>"
            ],
            "image/png": "[encoded data removed]"
          },
          "metadata": {}
        }
      ]
    },
    {
      "cell_type": "code",
      "source": [
        "#Exercise 1: Calculate Probabilities using Bayes Theorem\n",
        "\n",
        "# Problem\n",
        "# - A disease affects 1% of a population\n",
        "# - A test is 95% accurate for diseased individuals and 90% accurate for non-diseased individuals\n",
        "# - Find the probability of having the disease given a positive test result\n",
        "\n",
        "def bayes_theorem(prior, sensitivity, specificity):\n",
        "    evidence = (sensitivity * prior) + ((1 - specificity) * (1 - prior))# calculate the evidence using Bayes' theorem\n",
        "#sensitivity is the true positive rate(means that the test is positive when the individual has the disease),\n",
        "# specificity is the true negative rate (means that the test is negative when the individual does not have the disease)\n",
        "# prior is the prior probability (the probability of having the disease)\n",
        "    posterior = (sensitivity * prior) / evidence\n",
        "    return posterior\n",
        "\n",
        "prior = 0.01 # 1% prevalence\n",
        "sensitivity = 0.95 # True positive rate\n",
        "specificity = 0.90 # True negative rate\n",
        "\n",
        "posterior = bayes_theorem(prior, sensitivity, specificity)\n",
        "print(\"Probability of Disease Given Positive Test: \", posterior)\n",
        "#output is 8% probability of having the disease given a positive test result"
      ],
      "metadata": {
        "colab": {
          "base_uri": "https://localhost:8080/"
        },
        "id": "mFRHMBQs5syy",
        "outputId": "22ee3725-a875-4824-b740-f523fb36a1d7"
      },
      "execution_count": null,
      "outputs": [
        {
          "output_type": "stream",
          "name": "stdout",
          "text": [
            "Probability of Disease Given Positive Test:  0.08755760368663597\n"
          ]
        }
      ]
    },
    {
      "cell_type": "code",
      "source": [
        "#\n",
        "\n",
        "#Exercise 2: Plot and Explore different distributions\n",
        "\n",
        "import numpy as np\n",
        "import matplotlib.pyplot as plt\n",
        "from scipy.stats import norm, binom, poisson\n",
        "\n",
        "#Gausian Distribution\n",
        "x = np.linspace(-4, 4, 100) # generate 100 points between -4 and 4 for the x-axis\n",
        "y = norm.pdf(x, loc=0, scale=1) # calculate the PDF at each point on the x-axis,\n",
        "# loc is the mean, scale is the standard deviation\n",
        "plt.plot(x, y, label=\"Gaussian\")\n",
        "plt.title(\"Gaussian Distribution\")\n",
        "plt.show()\n",
        "\n",
        "# Binomial Distribution\n",
        "n, p = 10, 0.5 # number of trials is 10 and probability of success for each trial is 0.5\n",
        "x = np.arange(0, n+1) # generate an array of integers from 0 to n (inclusive)\n",
        "y = binom.pmf(x, n, p) # calculate the probability mass function (PMF) at each point on the x-axis\n",
        "plt.bar(x, y, label=\"Binomial\")\n",
        "plt.title(\"Binomial Distribution\")\n",
        "plt.show()\n",
        "\n",
        "# Poisson Distribution\n",
        "lam =3 # lam = 3 means that the average number of events per unit time is 3\n",
        "x = np.arange(0, 10) # generate an array of integers from 0 to 9\n",
        "y = poisson.pmf(x, lam) # calculate the probability mass function (PMF) at each point on the x-axis\n",
        "plt.bar(x, y, label=\"Poisson\")\n",
        "plt.title(\"Poisson Distribution\")\n",
        "plt.show()"
      ],
      "metadata": {
        "colab": {
          "base_uri": "https://localhost:8080/",
          "height": 1000
        },
        "id": "u57gd5MxLOov",
        "outputId": "df74ae6e-8427-4e7d-dd62-780f18c21c4c"
      },
      "execution_count": null,
      "outputs": [
        {
          "output_type": "display_data",
          "data": {
            "text/plain": [
              "<Figure size 640x480 with 1 Axes>"
            ],
            "image/png": "[encoded data removed]"
          },
          "metadata": {}
        },
        {
          "output_type": "display_data",
          "data": {
            "text/plain": [
              "<Figure size 640x480 with 1 Axes>"
            ],
            "image/png": "[encoded data removed]"
          },
          "metadata": {}
        },
        {
          "output_type": "display_data",
          "data": {
            "text/plain": [
              "<Figure size 640x480 with 1 Axes>"
            ],
            "image/png": "[encoded data removed]"
          },
          "metadata": {}
        }
      ]
    },
    {
      "cell_type": "code",
      "source": [
        "#additional practice\n",
        "#- create and visualize multinomial distribution for multiclass data\n",
        "#- compare gaussian and uniform distribution for continuous data\n",
        "#- Use probability distribution to simulate and analyze real-world datasets"
      ],
      "metadata": {
        "id": "J-s8ebnIPQVK"
      },
      "execution_count": null,
      "outputs": []
    },
    {
      "cell_type": "markdown",
      "source": [
        "# STATISTICS FUNDAMENTALS"
      ],
      "metadata": {
        "id": "NaKK0DS2O3C_"
      }
    },
    {
      "cell_type": "code",
      "source": [
        "#Measure of central tendency:\n",
        "#- Mean: The average value of a set of data points.\n",
        "#- Median: The middle value in a set of data points when they are sorted in numerical order.\n",
        "#- Mode: The most frequently occurring value in a set of data points."
      ],
      "metadata": {
        "id": "fewtezxlPKFd"
      },
      "execution_count": null,
      "outputs": []
    },
    {
      "cell_type": "code",
      "source": [
        "import scipy.stats as stats\n",
        "\n",
        "\n",
        "\n",
        "from statistics import mode\n",
        "\n",
        "data = [10, 20, 30, 40, 50]\n",
        "mean = sum(data) / len(data)\n",
        "print(\"Mean: \", mean)\n",
        "\n",
        " #it creates a list of the elements in the data list in ascending order\n",
        "# if If the length of the data is odd, the median is simply the middle element of the sorted list\n",
        " #These get the values of the two middle elements in the sorted list, the -1 helps get the first middle element\n",
        "\n",
        "sorted_data = sorted(data)\n",
        "median = sorted_data[len(data) // 2] if len(data) % 2 != 0 else \\\n",
        "    (sorted_data[len(data) // 2 - 1] + sorted_data[len(data) // 2]) / 2\n",
        "print(\"Median: \", median)\n",
        "print(\"Mode: \", mode(data))\n",
        "\n",
        "variance = sum((x - mean) ** 2 for x in data) / len(data) # calculate the variance which is\n",
        "#the average of the squared differences between each data point and the mean\n",
        "print(\"Variance: \", variance)\n",
        "std_dev = variance ** 0.5 # calculate the standard deviation which is the square root of the variance\n",
        "print(\"Standard Deviation:\", std_dev)"
      ],
      "metadata": {
        "colab": {
          "base_uri": "https://localhost:8080/"
        },
        "id": "s2YM6puqPVbR",
        "outputId": "d6473850-8579-4aa8-f094-398285943572"
      },
      "execution_count": 16,
      "outputs": [
        {
          "output_type": "stream",
          "name": "stdout",
          "text": [
            "Mean:  30.0\n",
            "Median:  30\n",
            "Mode:  10\n",
            "Variance:  200.0\n",
            "Standard Deviation: 14.142135623730951\n"
          ]
        }
      ]
    },
    {
      "cell_type": "code",
      "source": [
        "#Hypothesis Testing: Can be defined as a statistical process that is used to determine whether there is a\n",
        "#statistically significant difference between two or more groups of data.\n",
        "\n",
        "#Null Hypothesis: The hypothesis that the two or more groups of data are the same.\n",
        "\n",
        "#Alternative Hypothesis: The hypothesis that the two or more groups of data are different.\n",
        "\n",
        "#Test Statistic: A measure of the strength of the evidence that supports the alternative hypothesis. i.e it quantifies the difference between the two groups of data.\n",
        "\n",
        "#P-value: A p-value helps us decide if the results of a study or test are meaningful or just due to random chance.\n",
        "#for example, Small p-values (like 0.05 or less) mean the results are unlikely to be random, so something real might be going on.\n",
        "#For example: Imagine flipping a coin 100 times. If it lands on heads 90 times, a small p-value would tell\n",
        "#you this result is too unusual to happen by chance—you might suspect the coin is not fair.\n",
        "\n",
        "#Confidence Interval: A range of values whithin which the population parameter is likely to fall.\n",
        "#formular for confidence interval is  i.e  CI = mean + Z score * standard error and CI = mean - Z score * standard error\n",
        "\n",
        "#Statistical Significance: A measure of how much evidence there is to support the alternative hypothesis\n",
        "#compared to the evidence supporting the null hypothesis\n",
        "\n",
        "\n",
        "import scipy.stats as stats\n",
        "\n",
        "data = [10, 20, 30, 40, 50]\n",
        "mean = sum(data) / len(data)\n",
        "\n",
        "variance = sum((x - mean) ** 2 for x in data) / len(data)\n",
        "std_dev = variance ** 0.5\n",
        "\n",
        "\n",
        "\n",
        "sample_mean = mean\n",
        "z_score = 1.96\n",
        "\n",
        "ci = (sample_mean - z_score * (std_dev / len(data) ** 0.5),\n",
        "      sample_mean + z_score * (std_dev / len(data) ** 0.5))\n",
        "print(\"95% Confidence Interval:\", ci) #output is 95% confidence interval\n"
      ],
      "metadata": {
        "colab": {
          "base_uri": "https://localhost:8080/"
        },
        "id": "5PeFU0O0cH8n",
        "outputId": "59d8847c-66ed-4a60-f5eb-f30febc3afe6"
      },
      "execution_count": 17,
      "outputs": [
        {
          "output_type": "stream",
          "name": "stdout",
          "text": [
            "95% Confidence Interval: (17.603871572139955, 42.39612842786005)\n"
          ]
        }
      ]
    },
    {
      "cell_type": "code",
      "source": [
        "#Ex 1\n",
        "\n",
        "import numpy as np\n",
        "\n",
        "# Dataset\n",
        "data = [10, 20, 30, 40, 50]\n",
        "\n",
        "# Calculate Stats\n",
        "mean = np.mean(data)\n",
        "variance = np.var(data)\n",
        "std_dev = np.std(data)\n",
        "\n",
        "print(\"Mean: \", mean)\n",
        "print(\"Variance: \", variance)\n",
        "print(\"Standard Deviation: \", std_dev)\n",
        "\n",
        "\n",
        "#Ex 2: Perform T-test\n",
        "\n",
        "from scipy.stats import ttest_ind\n",
        "\n",
        "# Sample Datasets\n",
        "group1 = [2.1, 2.5, 2.8, 3.0, 3.2]\n",
        "group2 = [1.8, 2.0, 2.4, 2.7, 2.9]\n",
        "\n",
        "# Perform t-test\n",
        "t_stat, p_value = ttest_ind(group1, group2) #ttest_ind is a function that performs a t-test between two independent samples\n",
        "print(\"T-Statistic: \", t_stat)\n",
        "print(\"P-Value: \", p_value)\n",
        "\n",
        "# Interpretation\n",
        "alpha = 0.05\n",
        "if p_value < alpha:\n",
        "    print(\"Reject the null hypothesis: significant difference\")\n",
        "else:\n",
        "    print(\"Failed to reject the null hypothesis: no significant difference\")\n",
        "\n",
        "#Additional Practice\n",
        "#Visualize the distribution of data and highlight mean, median and mode\n",
        "#perform hypothesis testing on real-world datasets e.g comparing exam scores between two groups of students\n",
        "#Calculate confidence interval and statistical significance for proportions in a dataset"
      ],
      "metadata": {
        "colab": {
          "base_uri": "https://localhost:8080/"
        },
        "id": "5LDxtWrgf3Ef",
        "outputId": "66bde5a6-cfc5-4043-b4d9-66c31b3296dc"
      },
      "execution_count": 19,
      "outputs": [
        {
          "output_type": "stream",
          "name": "stdout",
          "text": [
            "Mean:  30.0\n",
            "Variance:  200.0\n",
            "Standard Deviation:  14.142135623730951\n",
            "T-Statistic:  1.272792206135785\n",
            "P-Value:  0.23883314363035274\n",
            "Failed to reject the null hypothesis: no significant difference\n"
          ]
        }
      ]
    },
    {
      "cell_type": "markdown",
      "source": [
        "# MATH DRIVEN MINI-PROJECT: LINEAR REGRESSION FROM SCRATCH"
      ],
      "metadata": {
        "id": "-CqmkruliEpC"
      }
    },
    {
      "cell_type": "code",
      "source": [
        "# 1. Linear algebra: Aims to fit a line to a set of points in a plane or a 3D space.\n",
        "#It is used to find the best fit line or plane for a set of data points in order\n",
        "# to minimize the error between the data points and the line or plane.\n",
        "#Math model is Y = X * theta.\n",
        "#where theta is parameter weight and bias of the model which adjust the line to best fit the data.\n",
        "#X is the input matrix (e.g., a list of heights).\n",
        "#and y predict is your predicted output (e.g., the weight the model calculates for a given height).\n",
        "\n",
        "# Imagine you’re plotting some points on a graph (say, height and weight of people).\n",
        "# These points might scatter everywhere without forming a clear pattern.\n",
        "# Linear algebra helps you draw the best possible straight line through these points,\n",
        "# so you can predict weight for a given height (or vice versa). This line tries to get as\n",
        "# close to all the points as possible, reducing the gap (or error) between the points and the line.\n",
        "#Linear algebra calculates the exact position and angle of the line,\n",
        "#so it stays steady and balanced, minimizing the overall error.\n",
        "------------------------------------------------------------\n",
        "#2. Calculus: Optimization of theta by minimizing the loss function.\n",
        "\n",
        "# Loss function measures how far off a model's predictions are from the actual values.\n",
        "# It's like a scorecard that tells the model how well it's doing.\n",
        "# The smaller the loss, the better the model is at making accurate predictions.\n",
        "# For example, if you're predicting house prices and the model says a\n",
        "# house is worth £300,000 but the actual price is £320,000, the loss function\n",
        "# calculates the difference (error) between these values. The model then uses this information to improve itself\n",
        "#by adjusting the weights and bias (theta ) of its model.\n",
        "\n",
        "#Loss function model (MSE) : J(theta) = 1/2m * sum(y - y_pred)^2, It measures\n",
        "#how far the model predictions (y_pred) are from the actual values (y).\n",
        "#Where m is the number of data points and y is the actual value (true output) of the target variable.\n",
        "#y_pred is the predicted value from the model based on its parameters (theta).\n",
        "#It computes the average squared difference between the predicted and actual values, and then multiplies it by 1/2m to normalize the loss.\n",
        "\n",
        "#In math, the derivative shows how a function (a rule or formula) changes as you change its input.\n",
        "#It's like asking, “If I change this a little bit, how will the result change?”\n",
        "\n",
        "#Gradient of J(theta) is dJ/dtheta = 1/m X^T (X * theta - y) which is also the derivative (how well the loss function changes)\n",
        "# of the loss function J(theta) refers to the overall direction and rate of change\n",
        "#of the loss function with respect to all the parameters (( \\theta )).\n",
        "#It’s like a map showing how to adjust all parameters to reduce the error.\n",
        "\n",
        "#Where X is the input matrix (e.g., a list of heights)\n",
        "#theta is the parameter weight and bias of the model which adjust the line to best fit the data.\n",
        "#y is the predict is your predicted output (e.g., the weight the model calculates for a given height).\n",
        "#X^T is the transpose of the input matrix X. It's the same as X, but with the rows and columns switched.\n",
        "#X * theta - Y is the difference between the predicted and actual values of the target variable y.\n",
        "------------------------------------------------------------\n",
        "\n",
        "#Using Gradient Descent for Parameter (Theta) Optimization/Update\n",
        "\n",
        "#Iteratively update the parameters (theta) using the gradient descent rule to minimize the loss function. i.e theta = theta - learning_rate * gradient\n",
        "#The learning rate is a hyperparameter that controls the step size of the optimization.\n",
        "\n",
        "#Key steps are:\n",
        "#- Initialize theta\n",
        "#- Calculate the gradient of the loss function\n",
        "#- Update theta based on the gradient descent rule\n",
        "#- Repeat until convergence or a maximum number of iterations is reached\n",
        "-------------------------------------------------------------------\n",
        "#Statistics: Metrics like R^2, Adjusted R^2, AIC, BIC, MSE, RMSE, etc are used to evaluate the performance of the model.\n",
        "#Evaluating the Model Performance Using Statistical Metrics\n",
        "\n",
        "#- MSE = 1/M * sum(y - y_pred)^2 which measures the average squared error between the predicted and actual values\n",
        "#- R^2 = 1 - (sum(y - y_pred)^2) / (sum(y - y_mean)^2) which measures how well the regression line explains\n",
        "#the variance in the data\n",
        "#- Adjusted R^2 = 1 - (1 - R^2) * (n - 1) / (n - p - 1)\n",
        "#- AIC = n * log(MSE) + 2 * p\n",
        "#- BIC = n * log(MSE) + log(n) * p\n",
        "\n",
        "# Here’s a simplified algorithm-like summary of the 4 steps:\n",
        "\n",
        "# 1. **Linear Algebra**: Fit a line to the data by solving Y = X * theta.\n",
        "# where X  is the input, theta is the adjustable parameter, and Y  is the predicted output.\n",
        "\n",
        "# 2. **Calculus**: Defines a loss function (e.g., MSE) to measure prediction errors,\n",
        "# and calculate the gradient(direction guide) or derivative of that loss function to understand\n",
        "#how to change theta (parameters) to reduce the errors.  Once we know the gradient of the loss function,\n",
        "#we compute how each parameter ( \\theta ) specifically needs to change i.e the gradient of theta.\n",
        "#This is like breaking down the \"map\" into detailed instructions for adjusting each component of ( \\theta ).\n",
        "\n",
        "# 3. **Gradient Descent**: Once gradient of theta is calculated, we iteratively update theta using the gradient\n",
        "# descent rule to adjust theta (theta := theta - learning_rate * gradient)\n",
        "#to minimize the loss. i.e So, first, you calculate the gradient to know how ( \\theta ) should change.\n",
        "#Then, you use the Gradient Descent rule to actually make that change.\n",
        "\n",
        "# 4. **Statistics**: Evaluate the model’s performance with metrics like \\( MSE \\), \\( R^2 \\), or others to ensure it fits the data well and provides reliable predictions.\n",
        "\n"
      ],
      "metadata": {
        "id": "4dSqeSxEnJBD"
      },
      "execution_count": null,
      "outputs": []
    },
    {
      "cell_type": "code",
      "source": [
        "\n",
        "import numpy as np\n",
        "\n",
        "# Generate Synthetic data\n",
        "np.random.seed(42)\n",
        "X = 2 * np.random.rand(100, 1)\n",
        "y = 4 + 3 * X + np.random.randn(100, 1)\n",
        "\n",
        "# Add bias term to feature matrix\n",
        "X_b = np.c_[np.ones((100, 1)), X] # Add a column of ones for the bias term\n",
        "\n",
        "# Initialze parameters\n",
        "theta = np.random.randn(2, 1)\n",
        "learning_rate = 0.1\n",
        "iterations = 1000\n",
        "\n",
        "# Task 1: Implement the Mathematical Formula for Linear Regression\n",
        "\n",
        "def predict(X, theta):\n",
        "    return np.dot(X, theta)\n",
        "\n",
        "# Task 2: Use Gradient Descent to Optimize the Model Parameters (Theta)\n",
        "\n",
        "# np.dot(): Performs matrix multiplication between X and theta to get the predictions.\n",
        "# (np.dot(X, theta) - y): This calculates the errors.\n",
        "\n",
        "# y: The target values (actual outputs).\n",
        "# -: Subtracts the actual values (y) from the predictions to get the errors.\n",
        "# np.dot(X.T, (np.dot(X, theta) - y)): This part calculates the sum of the errors multiplied by the corresponding features.\n",
        "\n",
        "# X.T: The transpose of the feature matrix X. Transposing is like flipping the matrix,\n",
        "#so rows become columns and columns become rows. This is needed for the matrix multiplication to work correctly.\n",
        "# np.dot(): Performs matrix multiplication between X.T and the errors to get a\n",
        "#vector representing the contribution of each feature to the overall error.\n",
        "# (1/m) * ...: This part averages the gradients over all data points.\n",
        "\n",
        "# m: The number of data points in the dataset.\n",
        "# (1/m): Dividing by m calculates the average gradient, ensuring the updates to\n",
        "# the model parameters are balanced and not influenced by the dataset's size.\n",
        "\n",
        "\n",
        "def gradient_descent(X, y, theta, learning_rate, iterations):\n",
        "    m = len(y)\n",
        "    for _ in range(iterations):\n",
        "        gradients = (1/m) * np.dot(X.T, (np.dot(X, theta)- y)) #calculates the gradients\n",
        "        #(direction and magnitude of change) for the model's parameters (theta)\n",
        "        theta -= learning_rate * gradients #gradient descent rule\n",
        "    return theta\n",
        "\n",
        "# Task 3: Calculate Evaluation Metrics\n",
        "\n",
        "def mean_squared_error(y_true, y_pred):\n",
        "    return np.mean((y_true - y_pred)**2)\n",
        "\n",
        "def r_squared(y_true, y_pred):\n",
        "    ss_res = np.sum((y_true - y_pred)** 2) #residual sum of squares\n",
        "    ss_tot = np.sum((y_true - np.mean(y_true))**2) #total sum of squares\n",
        "    return 1 - (ss_res / ss_tot)  #R^2 value\n",
        "\n",
        "\n",
        "# Perform gradient descent\n",
        "theta_optimized = gradient_descent(X_b, y, theta, learning_rate, iterations)\n",
        "\n",
        "# Predictions and evaluations\n",
        "y_pred = predict(X_b, theta_optimized) #predictions using the optimized theta,\n",
        "# x_b is the feature matrix including the bias term\n",
        "mse = mean_squared_error(y, y_pred)\n",
        "r2 = r_squared(y, y_pred)\n",
        "\n",
        "print(\"Optimized Parameters (Theta): \", theta_optimized)\n",
        "print(\"MSE: \", mse)\n",
        "print(\"R2: \", r2)"
      ],
      "metadata": {
        "colab": {
          "base_uri": "https://localhost:8080/"
        },
        "id": "AFl9bNw8qdE9",
        "outputId": "d807da2b-69a1-44dd-9f7a-67a367c382fe"
      },
      "execution_count": 20,
      "outputs": [
        {
          "output_type": "stream",
          "name": "stdout",
          "text": [
            "Optimized Parameters (Theta):  [[4.21509609]\n",
            " [2.77011344]]\n",
            "MSE:  0.8065845639670546\n",
            "R2:  0.769273541361422\n"
          ]
        }
      ]
    }
  ]
}